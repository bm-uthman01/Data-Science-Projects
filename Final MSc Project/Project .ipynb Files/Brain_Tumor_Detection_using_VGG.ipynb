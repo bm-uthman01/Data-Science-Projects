{
  "nbformat": 4,
  "nbformat_minor": 0,
  "metadata": {
    "colab": {
      "provenance": [],
      "gpuType": "T4"
    },
    "kernelspec": {
      "name": "python3",
      "display_name": "Python 3"
    },
    "language_info": {
      "name": "python"
    },
    "accelerator": "GPU"
  },
  "cells": [
    {
      "cell_type": "markdown",
      "source": [
        "# Brain Tumor Detection using VGG Architecture. (Experimental Phase)\n",
        "\n",
        "#### The experimentation phase of the project consists of evaluating various hyper-parameters to find the optimal performance for the VGG Architecture.\n"
      ],
      "metadata": {
        "id": "kVhhBJgf8ao1"
      }
    },
    {
      "cell_type": "markdown",
      "source": [
        "When running any code it’s beneficial to change the “RunTime” type to T4-GPU"
      ],
      "metadata": {
        "id": "qPDrwoqsu1DO"
      }
    },
    {
      "cell_type": "code",
      "execution_count": null,
      "metadata": {
        "id": "eG38asNO7zND"
      },
      "outputs": [],
      "source": [
        "import pandas as pd\n",
        "import numpy as np\n",
        "import seaborn as sns\n",
        "import matplotlib.pyplot as plt\n",
        "import zipfile\n",
        "import cv2\n",
        "from skimage import io\n",
        "import tensorflow as tf\n",
        "from tensorflow import keras\n",
        "from tensorflow.python.keras import Sequential\n",
        "from tensorflow.python.keras import layers, optimizers\n",
        "from tensorflow.keras.applications import DenseNet121\n",
        "from tensorflow.keras.applications.resnet50 import ResNet50\n",
        "from tensorflow.keras.layers import *\n",
        "from tensorflow.keras.models import Model, load_model\n",
        "from tensorflow.keras.initializers import glorot_uniform\n",
        "from tensorflow.keras.utils import plot_model\n",
        "from tensorflow.keras.callbacks import ReduceLROnPlateau, EarlyStopping, ModelCheckpoint, LearningRateScheduler\n",
        "from IPython.display import display\n",
        "from tensorflow.python.keras import backend as K\n",
        "from sklearn.preprocessing import StandardScaler, normalize\n",
        "from tensorflow.keras.applications import VGG16\n",
        "from tensorflow.keras.layers import Input, AveragePooling2D, Flatten, Dense, Dropout\n",
        "from tensorflow.keras.models import Model\n",
        "from tensorflow.keras.callbacks import EarlyStopping, ModelCheckpoint\n",
        "import tensorflow as tf\n",
        "from keras.optimizers import Adam, RMSprop\n",
        "import numpy as np\n",
        "import os\n",
        "import glob\n",
        "import random\n",
        "from google.colab import files #library to upload files to colab notebook\n",
        "%matplotlib inline\n"
      ]
    },
    {
      "cell_type": "code",
      "source": [
        "# mount the drive using the following commands: (For Examiner: Only run if you have transfered the folder to your drive. Detials Explained in the report [Appendix])\n",
        "\n",
        "from google.colab import drive\n",
        "drive.mount('/content/drive')"
      ],
      "metadata": {
        "colab": {
          "base_uri": "https://localhost:8080/"
        },
        "id": "aier2bcS8rKW",
        "outputId": "d5b4aa38-690b-4e33-d63f-c8714c4e172a"
      },
      "execution_count": null,
      "outputs": [
        {
          "output_type": "stream",
          "name": "stdout",
          "text": [
            "Mounted at /content/drive\n"
          ]
        }
      ]
    },
    {
      "cell_type": "code",
      "source": [
        "# Navigating my Drive directory to find dataset (For Examiner: Only run if you have transfered the folder to your drive. Detials Explained in the report [Appendix])\n",
        "\n",
        "%cd /content/drive/My Drive/Final Project/BrainTumor Project/Brain_MRI"
      ],
      "metadata": {
        "colab": {
          "base_uri": "https://localhost:8080/"
        },
        "id": "1z957ZmW8rNS",
        "outputId": "584d392f-89a9-46a3-b963-a1bbebfcc2f0"
      },
      "execution_count": null,
      "outputs": [
        {
          "output_type": "stream",
          "name": "stdout",
          "text": [
            "/content/drive/My Drive/Colab Notebooks/Healthcare AI Datasets/Brain_MRI\n"
          ]
        }
      ]
    },
    {
      "cell_type": "code",
      "source": [
        "# data containing path to Brain MRI and their corresponding mask\n",
        "\n",
        "brain_df = pd.read_csv('data_mask.csv')"
      ],
      "metadata": {
        "id": "5WSeDOkV8rP5"
      },
      "execution_count": null,
      "outputs": []
    },
    {
      "cell_type": "code",
      "source": [
        "# Display information about the Dataset\n",
        "\n",
        "brain_df.info()"
      ],
      "metadata": {
        "colab": {
          "base_uri": "https://localhost:8080/"
        },
        "id": "qxiEYxKP8rR_",
        "outputId": "d394121d-15fb-4b17-ea3a-0a98b7ff09e5"
      },
      "execution_count": null,
      "outputs": [
        {
          "output_type": "stream",
          "name": "stdout",
          "text": [
            "<class 'pandas.core.frame.DataFrame'>\n",
            "RangeIndex: 3929 entries, 0 to 3928\n",
            "Data columns (total 4 columns):\n",
            " #   Column      Non-Null Count  Dtype \n",
            "---  ------      --------------  ----- \n",
            " 0   patient_id  3929 non-null   object\n",
            " 1   image_path  3929 non-null   object\n",
            " 2   mask_path   3929 non-null   object\n",
            " 3   mask        3929 non-null   int64 \n",
            "dtypes: int64(1), object(3)\n",
            "memory usage: 122.9+ KB\n"
          ]
        }
      ]
    },
    {
      "cell_type": "markdown",
      "source": [
        "#A: TRAIN A CLASSIFIER MODEL TO DETECT IF TUMOR EXISTS OR NOT (VGG)"
      ],
      "metadata": {
        "id": "pFc5AC3h8-eJ"
      }
    },
    {
      "cell_type": "code",
      "source": [
        "# Drop the patient id column\n",
        "\n",
        "brain_df_train = brain_df.drop(columns = ['patient_id'])\n",
        "brain_df_train.shape"
      ],
      "metadata": {
        "colab": {
          "base_uri": "https://localhost:8080/"
        },
        "id": "37ELpq8Z8rUn",
        "outputId": "3163c1d4-02d0-437a-886a-0de6abe111f6"
      },
      "execution_count": null,
      "outputs": [
        {
          "output_type": "execute_result",
          "data": {
            "text/plain": [
              "(3929, 3)"
            ]
          },
          "metadata": {},
          "execution_count": 6
        }
      ]
    },
    {
      "cell_type": "code",
      "source": [
        "# Convert the data in mask column to string format, to use categorical mode in flow_from_dataframe\n",
        "\n",
        "brain_df_train['mask'] = brain_df_train['mask'].apply(lambda x: str(x))"
      ],
      "metadata": {
        "id": "JiPyOa0k8rW-"
      },
      "execution_count": null,
      "outputs": []
    },
    {
      "cell_type": "code",
      "source": [
        "brain_df_train.info()"
      ],
      "metadata": {
        "colab": {
          "base_uri": "https://localhost:8080/"
        },
        "id": "q5yAAAEU8rZj",
        "outputId": "ad20650e-af94-4a64-d73d-59dfb45e0da2"
      },
      "execution_count": null,
      "outputs": [
        {
          "output_type": "stream",
          "name": "stdout",
          "text": [
            "<class 'pandas.core.frame.DataFrame'>\n",
            "RangeIndex: 3929 entries, 0 to 3928\n",
            "Data columns (total 3 columns):\n",
            " #   Column      Non-Null Count  Dtype \n",
            "---  ------      --------------  ----- \n",
            " 0   image_path  3929 non-null   object\n",
            " 1   mask_path   3929 non-null   object\n",
            " 2   mask        3929 non-null   object\n",
            "dtypes: object(3)\n",
            "memory usage: 92.2+ KB\n"
          ]
        }
      ]
    },
    {
      "cell_type": "code",
      "source": [
        "# split the data into train and test data\n",
        "\n",
        "from sklearn.model_selection import train_test_split\n",
        "\n",
        "train, test = train_test_split(brain_df_train, test_size = 0.15)"
      ],
      "metadata": {
        "id": "ltTg06dy8rb6"
      },
      "execution_count": null,
      "outputs": []
    },
    {
      "cell_type": "code",
      "source": [
        "# create a image generator\n",
        "\n",
        "from keras.preprocessing.image import ImageDataGenerator\n",
        "\n",
        "# Create a data generator which scales the data from 0 to 1 and makes validation split of 0.15\n",
        "\n",
        "datagen = ImageDataGenerator(rescale=1./255., validation_split = 0.15)"
      ],
      "metadata": {
        "id": "n15Rk95g8reh"
      },
      "execution_count": null,
      "outputs": []
    },
    {
      "cell_type": "code",
      "source": [
        "# Create a data generator for train images\n",
        "\n",
        "train_generator=datagen.flow_from_dataframe(\n",
        "dataframe=train,\n",
        "directory= './',\n",
        "x_col='image_path',\n",
        "y_col='mask',\n",
        "subset=\"training\",\n",
        "batch_size=32,\n",
        "shuffle=True,\n",
        "class_mode=\"categorical\",\n",
        "target_size=(256,256))\n",
        "\n",
        "\n",
        "valid_generator=datagen.flow_from_dataframe(\n",
        "dataframe=train,\n",
        "directory= './',\n",
        "x_col='image_path',\n",
        "y_col='mask',\n",
        "subset=\"validation\",\n",
        "batch_size=32,\n",
        "shuffle=True,\n",
        "class_mode=\"categorical\",\n",
        "target_size=(256,256))"
      ],
      "metadata": {
        "colab": {
          "base_uri": "https://localhost:8080/"
        },
        "id": "7XW_LrX49WmS",
        "outputId": "63c6b9c2-1b43-4d43-82e8-b821c7824c4e"
      },
      "execution_count": null,
      "outputs": [
        {
          "output_type": "stream",
          "name": "stdout",
          "text": [
            "Found 2839 validated image filenames belonging to 2 classes.\n",
            "Found 500 validated image filenames belonging to 2 classes.\n"
          ]
        }
      ]
    },
    {
      "cell_type": "code",
      "source": [
        "# Create a data generator for test images\n",
        "\n",
        "test_datagen=ImageDataGenerator(rescale=1./255.)\n",
        "\n",
        "test_generator=test_datagen.flow_from_dataframe(\n",
        "dataframe=test,\n",
        "directory= './',\n",
        "x_col='image_path',\n",
        "y_col='mask',\n",
        "batch_size=32,\n",
        "shuffle=False,\n",
        "class_mode='binary',\n",
        "target_size=(256,256))"
      ],
      "metadata": {
        "colab": {
          "base_uri": "https://localhost:8080/"
        },
        "id": "cLRhnnZx9Wqg",
        "outputId": "fbb582f7-578b-4e92-ad7b-aefec66689d0"
      },
      "execution_count": null,
      "outputs": [
        {
          "output_type": "stream",
          "name": "stdout",
          "text": [
            "Found 590 validated image filenames belonging to 2 classes.\n"
          ]
        }
      ]
    },
    {
      "cell_type": "code",
      "source": [
        "# Load the VGG-16 model\n",
        "\n",
        "input_tensor = Input(shape=(256, 256, 3))  # The input shape (256, 256, 3) indicates that model expects input images with Width, height: 256 pixels and Color Channels: 3.\n",
        "\n",
        "basemodel = VGG16(weights='imagenet', include_top=False, input_tensor=input_tensor)"
      ],
      "metadata": {
        "colab": {
          "base_uri": "https://localhost:8080/"
        },
        "id": "dUpmMQoe9Wv-",
        "outputId": "3ae39615-e1a9-475b-f731-8524a9401781"
      },
      "execution_count": null,
      "outputs": [
        {
          "output_type": "stream",
          "name": "stdout",
          "text": [
            "Downloading data from https://storage.googleapis.com/tensorflow/keras-applications/vgg16/vgg16_weights_tf_dim_ordering_tf_kernels_notop.h5\n",
            "58889256/58889256 [==============================] - 0s 0us/step\n"
          ]
        }
      ]
    },
    {
      "cell_type": "code",
      "source": [
        "for layer in basemodel.layers:\n",
        "    layer.trainable = False"
      ],
      "metadata": {
        "id": "BETqcjyR9cVr"
      },
      "execution_count": null,
      "outputs": []
    },
    {
      "cell_type": "code",
      "source": [
        "# Adding classification head\n",
        "x = AveragePooling2D(pool_size=(4, 4))(basemodel.output)\n",
        "x = Flatten()(x)\n",
        "x = Dense(256, activation='relu')(x)\n",
        "x = Dropout(0.5)(x)  # Adjust the dropout rate as needed\n",
        "x = Dense(2, activation='sigmoid')(x)  # have 2 classes for binary classification\n",
        "\n",
        "# Create the VGG-16-based model\n",
        "model = Model(inputs=basemodel.input, outputs=x)\n",
        "\n",
        "# Compile the model\n",
        "model.compile(\n",
        "    optimizer=Adam(learning_rate=0.0001),  # Adjusting the learning rate\n",
        "    loss='categorical_crossentropy',  # Use categorical cross-entropy for binary classification\n",
        "    metrics=['accuracy']\n",
        ")"
      ],
      "metadata": {
        "id": "w3hfH-Bp9cYV"
      },
      "execution_count": null,
      "outputs": []
    },
    {
      "cell_type": "code",
      "source": [
        "# use early stopping to exit training if validation loss is not decreasing even after certain epochs (patience)\n",
        "earlystopping = EarlyStopping(monitor='val_loss', mode='min', verbose=1, patience=30)"
      ],
      "metadata": {
        "id": "tuROIJd79caJ"
      },
      "execution_count": null,
      "outputs": []
    },
    {
      "cell_type": "code",
      "source": [
        "# Training the model\n",
        "\n",
        "history = model.fit(train_generator, steps_per_epoch= train_generator.n // 32, epochs = 30, validation_data= valid_generator, validation_steps= valid_generator.n // 32, callbacks=[earlystopping])"
      ],
      "metadata": {
        "colab": {
          "base_uri": "https://localhost:8080/"
        },
        "id": "0nz67Gwy9nln",
        "outputId": "4cd8c8ef-8323-4f0c-8bd7-8abf28e51a1d"
      },
      "execution_count": null,
      "outputs": [
        {
          "output_type": "stream",
          "name": "stdout",
          "text": [
            "Epoch 1/30\n",
            "88/88 [==============================] - 547s 6s/step - loss: 0.6189 - accuracy: 0.6612 - val_loss: 0.4848 - val_accuracy: 0.7375\n",
            "Epoch 2/30\n",
            "88/88 [==============================] - 20s 220ms/step - loss: 0.4824 - accuracy: 0.7385 - val_loss: 0.4661 - val_accuracy: 0.7292\n",
            "Epoch 3/30\n",
            "88/88 [==============================] - 17s 188ms/step - loss: 0.4609 - accuracy: 0.7599 - val_loss: 0.4540 - val_accuracy: 0.7354\n",
            "Epoch 4/30\n",
            "88/88 [==============================] - 16s 186ms/step - loss: 0.4417 - accuracy: 0.7681 - val_loss: 0.4417 - val_accuracy: 0.7437\n",
            "Epoch 5/30\n",
            "88/88 [==============================] - 16s 184ms/step - loss: 0.4294 - accuracy: 0.7788 - val_loss: 0.4339 - val_accuracy: 0.7646\n",
            "Epoch 6/30\n",
            "88/88 [==============================] - 16s 186ms/step - loss: 0.4218 - accuracy: 0.7834 - val_loss: 0.4269 - val_accuracy: 0.7833\n",
            "Epoch 7/30\n",
            "88/88 [==============================] - 17s 187ms/step - loss: 0.4060 - accuracy: 0.7952 - val_loss: 0.4333 - val_accuracy: 0.7750\n",
            "Epoch 8/30\n",
            "88/88 [==============================] - 16s 185ms/step - loss: 0.4024 - accuracy: 0.7930 - val_loss: 0.4269 - val_accuracy: 0.7854\n",
            "Epoch 9/30\n",
            "88/88 [==============================] - 16s 185ms/step - loss: 0.4046 - accuracy: 0.7909 - val_loss: 0.4166 - val_accuracy: 0.7833\n",
            "Epoch 10/30\n",
            "88/88 [==============================] - 16s 185ms/step - loss: 0.3959 - accuracy: 0.7966 - val_loss: 0.4121 - val_accuracy: 0.8000\n",
            "Epoch 11/30\n",
            "88/88 [==============================] - 17s 188ms/step - loss: 0.3888 - accuracy: 0.8066 - val_loss: 0.3988 - val_accuracy: 0.7896\n",
            "Epoch 12/30\n",
            "88/88 [==============================] - 16s 185ms/step - loss: 0.3773 - accuracy: 0.8108 - val_loss: 0.3968 - val_accuracy: 0.7958\n",
            "Epoch 13/30\n",
            "88/88 [==============================] - 17s 188ms/step - loss: 0.3761 - accuracy: 0.8066 - val_loss: 0.4034 - val_accuracy: 0.7854\n",
            "Epoch 14/30\n",
            "88/88 [==============================] - 19s 217ms/step - loss: 0.3695 - accuracy: 0.8169 - val_loss: 0.3874 - val_accuracy: 0.7979\n",
            "Epoch 15/30\n",
            "88/88 [==============================] - 16s 185ms/step - loss: 0.3670 - accuracy: 0.8176 - val_loss: 0.3936 - val_accuracy: 0.7917\n",
            "Epoch 16/30\n",
            "88/88 [==============================] - 16s 184ms/step - loss: 0.3646 - accuracy: 0.8215 - val_loss: 0.3883 - val_accuracy: 0.7917\n",
            "Epoch 17/30\n",
            "88/88 [==============================] - 16s 186ms/step - loss: 0.3503 - accuracy: 0.8326 - val_loss: 0.3865 - val_accuracy: 0.8104\n",
            "Epoch 18/30\n",
            "88/88 [==============================] - 17s 187ms/step - loss: 0.3461 - accuracy: 0.8432 - val_loss: 0.3785 - val_accuracy: 0.8083\n",
            "Epoch 19/30\n",
            "88/88 [==============================] - 16s 186ms/step - loss: 0.3432 - accuracy: 0.8393 - val_loss: 0.3708 - val_accuracy: 0.8188\n",
            "Epoch 20/30\n",
            "88/88 [==============================] - 16s 186ms/step - loss: 0.3366 - accuracy: 0.8415 - val_loss: 0.3821 - val_accuracy: 0.7958\n",
            "Epoch 21/30\n",
            "88/88 [==============================] - 16s 186ms/step - loss: 0.3386 - accuracy: 0.8422 - val_loss: 0.3939 - val_accuracy: 0.8479\n",
            "Epoch 22/30\n",
            "88/88 [==============================] - 17s 187ms/step - loss: 0.3322 - accuracy: 0.8522 - val_loss: 0.3574 - val_accuracy: 0.8229\n",
            "Epoch 23/30\n",
            "88/88 [==============================] - 16s 186ms/step - loss: 0.3244 - accuracy: 0.8514 - val_loss: 0.3479 - val_accuracy: 0.8354\n",
            "Epoch 24/30\n",
            "88/88 [==============================] - 16s 183ms/step - loss: 0.3177 - accuracy: 0.8596 - val_loss: 0.3592 - val_accuracy: 0.8188\n",
            "Epoch 25/30\n",
            "88/88 [==============================] - 17s 188ms/step - loss: 0.3184 - accuracy: 0.8550 - val_loss: 0.3531 - val_accuracy: 0.8167\n",
            "Epoch 26/30\n",
            "88/88 [==============================] - 17s 186ms/step - loss: 0.3194 - accuracy: 0.8564 - val_loss: 0.3553 - val_accuracy: 0.8188\n",
            "Epoch 27/30\n",
            "88/88 [==============================] - 17s 187ms/step - loss: 0.3047 - accuracy: 0.8632 - val_loss: 0.3686 - val_accuracy: 0.8625\n",
            "Epoch 28/30\n",
            "88/88 [==============================] - 16s 185ms/step - loss: 0.3037 - accuracy: 0.8725 - val_loss: 0.3329 - val_accuracy: 0.8375\n",
            "Epoch 29/30\n",
            "88/88 [==============================] - 16s 186ms/step - loss: 0.3005 - accuracy: 0.8696 - val_loss: 0.3611 - val_accuracy: 0.8625\n",
            "Epoch 30/30\n",
            "88/88 [==============================] - 16s 186ms/step - loss: 0.2929 - accuracy: 0.8682 - val_loss: 0.3599 - val_accuracy: 0.8083\n"
          ]
        }
      ]
    },
    {
      "cell_type": "code",
      "source": [
        "# Interactive graph of the Training and Validation Loss\n",
        "\n",
        "import plotly.graph_objects as go\n",
        "\n",
        "# Access training loss and validation loss from the history\n",
        "train_loss = history.history['loss']\n",
        "val_loss = history.history['val_loss']\n",
        "\n",
        "# Create a range of epochs (e.g., [1, 2, 3, ...])\n",
        "epochs = list(range(1, len(train_loss) + 1))  # Convert range to a list\n",
        "\n",
        "# Create a Plotly figure\n",
        "fig = go.Figure()\n",
        "\n",
        "# Add training loss trace\n",
        "fig.add_trace(go.Scatter(x=epochs, y=train_loss, mode='lines+markers', name='Training Loss'))\n",
        "\n",
        "# Add validation loss trace\n",
        "fig.add_trace(go.Scatter(x=epochs, y=val_loss, mode='lines+markers', name='Validation Loss'))\n",
        "\n",
        "# Set layout options and adjust figure size\n",
        "fig.update_layout(\n",
        "    title='Training and Validation Loss',\n",
        "    xaxis_title='Epochs',\n",
        "    yaxis_title='Loss',\n",
        "    hovermode='closest',  # Enables interactive hovering\n",
        "    width=800,  # Adjust the width in pixels\n",
        "    height=400  # Adjust the height in pixels\n",
        ")\n",
        "\n",
        "# Show the interactive plot\n",
        "fig.show()"
      ],
      "metadata": {
        "colab": {
          "base_uri": "https://localhost:8080/",
          "height": 417
        },
        "id": "6OLYwQMs9nol",
        "outputId": "534e7d36-73ac-42a1-92af-fe626d8fd4fc"
      },
      "execution_count": null,
      "outputs": [
        {
          "output_type": "display_data",
          "data": {
            "text/html": [
              "<html>\n",
              "<head><meta charset=\"utf-8\" /></head>\n",
              "<body>\n",
              "    <div>            <script src=\"https://cdnjs.cloudflare.com/ajax/libs/mathjax/2.7.5/MathJax.js?config=TeX-AMS-MML_SVG\"></script><script type=\"text/javascript\">if (window.MathJax && window.MathJax.Hub && window.MathJax.Hub.Config) {window.MathJax.Hub.Config({SVG: {font: \"STIX-Web\"}});}</script>                <script type=\"text/javascript\">window.PlotlyConfig = {MathJaxConfig: 'local'};</script>\n",
              "        <script charset=\"utf-8\" src=\"https://cdn.plot.ly/plotly-2.24.1.min.js\"></script>                <div id=\"44f7ae53-2383-418b-be37-7aa90560ea9b\" class=\"plotly-graph-div\" style=\"height:400px; width:800px;\"></div>            <script type=\"text/javascript\">                                    window.PLOTLYENV=window.PLOTLYENV || {};                                    if (document.getElementById(\"44f7ae53-2383-418b-be37-7aa90560ea9b\")) {                    Plotly.newPlot(                        \"44f7ae53-2383-418b-be37-7aa90560ea9b\",                        [{\"mode\":\"lines+markers\",\"name\":\"Training Loss\",\"x\":[1,2,3,4,5,6,7,8,9,10,11,12,13,14,15,16,17,18,19,20,21,22,23,24,25,26,27,28,29,30],\"y\":[0.6189351677894592,0.4823744595050812,0.4609277546405792,0.44173622131347656,0.4294281303882599,0.42183998227119446,0.405989408493042,0.40241941809654236,0.40460503101348877,0.3959437310695648,0.38876086473464966,0.37729519605636597,0.3760932981967926,0.36947786808013916,0.3669969439506531,0.36460572481155396,0.3502948582172394,0.34608376026153564,0.34316694736480713,0.3365601897239685,0.3385762870311737,0.33222076296806335,0.3244342803955078,0.31772929430007935,0.318367063999176,0.3193853497505188,0.3046591579914093,0.30370745062828064,0.30054113268852234,0.29293790459632874],\"type\":\"scatter\"},{\"mode\":\"lines+markers\",\"name\":\"Validation Loss\",\"x\":[1,2,3,4,5,6,7,8,9,10,11,12,13,14,15,16,17,18,19,20,21,22,23,24,25,26,27,28,29,30],\"y\":[0.4848044216632843,0.4661375880241394,0.45399749279022217,0.4416915774345398,0.4338743984699249,0.426897257566452,0.43329763412475586,0.4269028902053833,0.4166186451911926,0.41213351488113403,0.39882591366767883,0.3967917263507843,0.4034471809864044,0.3874359726905823,0.3935905992984772,0.38827112317085266,0.3865073323249817,0.3784683346748352,0.37077757716178894,0.3821314871311188,0.39391422271728516,0.35740140080451965,0.3479054570198059,0.35918575525283813,0.35305413603782654,0.3553449511528015,0.3685912787914276,0.3329167664051056,0.3610846698284149,0.35985660552978516],\"type\":\"scatter\"}],                        {\"template\":{\"data\":{\"histogram2dcontour\":[{\"type\":\"histogram2dcontour\",\"colorbar\":{\"outlinewidth\":0,\"ticks\":\"\"},\"colorscale\":[[0.0,\"#0d0887\"],[0.1111111111111111,\"#46039f\"],[0.2222222222222222,\"#7201a8\"],[0.3333333333333333,\"#9c179e\"],[0.4444444444444444,\"#bd3786\"],[0.5555555555555556,\"#d8576b\"],[0.6666666666666666,\"#ed7953\"],[0.7777777777777778,\"#fb9f3a\"],[0.8888888888888888,\"#fdca26\"],[1.0,\"#f0f921\"]]}],\"choropleth\":[{\"type\":\"choropleth\",\"colorbar\":{\"outlinewidth\":0,\"ticks\":\"\"}}],\"histogram2d\":[{\"type\":\"histogram2d\",\"colorbar\":{\"outlinewidth\":0,\"ticks\":\"\"},\"colorscale\":[[0.0,\"#0d0887\"],[0.1111111111111111,\"#46039f\"],[0.2222222222222222,\"#7201a8\"],[0.3333333333333333,\"#9c179e\"],[0.4444444444444444,\"#bd3786\"],[0.5555555555555556,\"#d8576b\"],[0.6666666666666666,\"#ed7953\"],[0.7777777777777778,\"#fb9f3a\"],[0.8888888888888888,\"#fdca26\"],[1.0,\"#f0f921\"]]}],\"heatmap\":[{\"type\":\"heatmap\",\"colorbar\":{\"outlinewidth\":0,\"ticks\":\"\"},\"colorscale\":[[0.0,\"#0d0887\"],[0.1111111111111111,\"#46039f\"],[0.2222222222222222,\"#7201a8\"],[0.3333333333333333,\"#9c179e\"],[0.4444444444444444,\"#bd3786\"],[0.5555555555555556,\"#d8576b\"],[0.6666666666666666,\"#ed7953\"],[0.7777777777777778,\"#fb9f3a\"],[0.8888888888888888,\"#fdca26\"],[1.0,\"#f0f921\"]]}],\"heatmapgl\":[{\"type\":\"heatmapgl\",\"colorbar\":{\"outlinewidth\":0,\"ticks\":\"\"},\"colorscale\":[[0.0,\"#0d0887\"],[0.1111111111111111,\"#46039f\"],[0.2222222222222222,\"#7201a8\"],[0.3333333333333333,\"#9c179e\"],[0.4444444444444444,\"#bd3786\"],[0.5555555555555556,\"#d8576b\"],[0.6666666666666666,\"#ed7953\"],[0.7777777777777778,\"#fb9f3a\"],[0.8888888888888888,\"#fdca26\"],[1.0,\"#f0f921\"]]}],\"contourcarpet\":[{\"type\":\"contourcarpet\",\"colorbar\":{\"outlinewidth\":0,\"ticks\":\"\"}}],\"contour\":[{\"type\":\"contour\",\"colorbar\":{\"outlinewidth\":0,\"ticks\":\"\"},\"colorscale\":[[0.0,\"#0d0887\"],[0.1111111111111111,\"#46039f\"],[0.2222222222222222,\"#7201a8\"],[0.3333333333333333,\"#9c179e\"],[0.4444444444444444,\"#bd3786\"],[0.5555555555555556,\"#d8576b\"],[0.6666666666666666,\"#ed7953\"],[0.7777777777777778,\"#fb9f3a\"],[0.8888888888888888,\"#fdca26\"],[1.0,\"#f0f921\"]]}],\"surface\":[{\"type\":\"surface\",\"colorbar\":{\"outlinewidth\":0,\"ticks\":\"\"},\"colorscale\":[[0.0,\"#0d0887\"],[0.1111111111111111,\"#46039f\"],[0.2222222222222222,\"#7201a8\"],[0.3333333333333333,\"#9c179e\"],[0.4444444444444444,\"#bd3786\"],[0.5555555555555556,\"#d8576b\"],[0.6666666666666666,\"#ed7953\"],[0.7777777777777778,\"#fb9f3a\"],[0.8888888888888888,\"#fdca26\"],[1.0,\"#f0f921\"]]}],\"mesh3d\":[{\"type\":\"mesh3d\",\"colorbar\":{\"outlinewidth\":0,\"ticks\":\"\"}}],\"scatter\":[{\"fillpattern\":{\"fillmode\":\"overlay\",\"size\":10,\"solidity\":0.2},\"type\":\"scatter\"}],\"parcoords\":[{\"type\":\"parcoords\",\"line\":{\"colorbar\":{\"outlinewidth\":0,\"ticks\":\"\"}}}],\"scatterpolargl\":[{\"type\":\"scatterpolargl\",\"marker\":{\"colorbar\":{\"outlinewidth\":0,\"ticks\":\"\"}}}],\"bar\":[{\"error_x\":{\"color\":\"#2a3f5f\"},\"error_y\":{\"color\":\"#2a3f5f\"},\"marker\":{\"line\":{\"color\":\"#E5ECF6\",\"width\":0.5},\"pattern\":{\"fillmode\":\"overlay\",\"size\":10,\"solidity\":0.2}},\"type\":\"bar\"}],\"scattergeo\":[{\"type\":\"scattergeo\",\"marker\":{\"colorbar\":{\"outlinewidth\":0,\"ticks\":\"\"}}}],\"scatterpolar\":[{\"type\":\"scatterpolar\",\"marker\":{\"colorbar\":{\"outlinewidth\":0,\"ticks\":\"\"}}}],\"histogram\":[{\"marker\":{\"pattern\":{\"fillmode\":\"overlay\",\"size\":10,\"solidity\":0.2}},\"type\":\"histogram\"}],\"scattergl\":[{\"type\":\"scattergl\",\"marker\":{\"colorbar\":{\"outlinewidth\":0,\"ticks\":\"\"}}}],\"scatter3d\":[{\"type\":\"scatter3d\",\"line\":{\"colorbar\":{\"outlinewidth\":0,\"ticks\":\"\"}},\"marker\":{\"colorbar\":{\"outlinewidth\":0,\"ticks\":\"\"}}}],\"scattermapbox\":[{\"type\":\"scattermapbox\",\"marker\":{\"colorbar\":{\"outlinewidth\":0,\"ticks\":\"\"}}}],\"scatterternary\":[{\"type\":\"scatterternary\",\"marker\":{\"colorbar\":{\"outlinewidth\":0,\"ticks\":\"\"}}}],\"scattercarpet\":[{\"type\":\"scattercarpet\",\"marker\":{\"colorbar\":{\"outlinewidth\":0,\"ticks\":\"\"}}}],\"carpet\":[{\"aaxis\":{\"endlinecolor\":\"#2a3f5f\",\"gridcolor\":\"white\",\"linecolor\":\"white\",\"minorgridcolor\":\"white\",\"startlinecolor\":\"#2a3f5f\"},\"baxis\":{\"endlinecolor\":\"#2a3f5f\",\"gridcolor\":\"white\",\"linecolor\":\"white\",\"minorgridcolor\":\"white\",\"startlinecolor\":\"#2a3f5f\"},\"type\":\"carpet\"}],\"table\":[{\"cells\":{\"fill\":{\"color\":\"#EBF0F8\"},\"line\":{\"color\":\"white\"}},\"header\":{\"fill\":{\"color\":\"#C8D4E3\"},\"line\":{\"color\":\"white\"}},\"type\":\"table\"}],\"barpolar\":[{\"marker\":{\"line\":{\"color\":\"#E5ECF6\",\"width\":0.5},\"pattern\":{\"fillmode\":\"overlay\",\"size\":10,\"solidity\":0.2}},\"type\":\"barpolar\"}],\"pie\":[{\"automargin\":true,\"type\":\"pie\"}]},\"layout\":{\"autotypenumbers\":\"strict\",\"colorway\":[\"#636efa\",\"#EF553B\",\"#00cc96\",\"#ab63fa\",\"#FFA15A\",\"#19d3f3\",\"#FF6692\",\"#B6E880\",\"#FF97FF\",\"#FECB52\"],\"font\":{\"color\":\"#2a3f5f\"},\"hovermode\":\"closest\",\"hoverlabel\":{\"align\":\"left\"},\"paper_bgcolor\":\"white\",\"plot_bgcolor\":\"#E5ECF6\",\"polar\":{\"bgcolor\":\"#E5ECF6\",\"angularaxis\":{\"gridcolor\":\"white\",\"linecolor\":\"white\",\"ticks\":\"\"},\"radialaxis\":{\"gridcolor\":\"white\",\"linecolor\":\"white\",\"ticks\":\"\"}},\"ternary\":{\"bgcolor\":\"#E5ECF6\",\"aaxis\":{\"gridcolor\":\"white\",\"linecolor\":\"white\",\"ticks\":\"\"},\"baxis\":{\"gridcolor\":\"white\",\"linecolor\":\"white\",\"ticks\":\"\"},\"caxis\":{\"gridcolor\":\"white\",\"linecolor\":\"white\",\"ticks\":\"\"}},\"coloraxis\":{\"colorbar\":{\"outlinewidth\":0,\"ticks\":\"\"}},\"colorscale\":{\"sequential\":[[0.0,\"#0d0887\"],[0.1111111111111111,\"#46039f\"],[0.2222222222222222,\"#7201a8\"],[0.3333333333333333,\"#9c179e\"],[0.4444444444444444,\"#bd3786\"],[0.5555555555555556,\"#d8576b\"],[0.6666666666666666,\"#ed7953\"],[0.7777777777777778,\"#fb9f3a\"],[0.8888888888888888,\"#fdca26\"],[1.0,\"#f0f921\"]],\"sequentialminus\":[[0.0,\"#0d0887\"],[0.1111111111111111,\"#46039f\"],[0.2222222222222222,\"#7201a8\"],[0.3333333333333333,\"#9c179e\"],[0.4444444444444444,\"#bd3786\"],[0.5555555555555556,\"#d8576b\"],[0.6666666666666666,\"#ed7953\"],[0.7777777777777778,\"#fb9f3a\"],[0.8888888888888888,\"#fdca26\"],[1.0,\"#f0f921\"]],\"diverging\":[[0,\"#8e0152\"],[0.1,\"#c51b7d\"],[0.2,\"#de77ae\"],[0.3,\"#f1b6da\"],[0.4,\"#fde0ef\"],[0.5,\"#f7f7f7\"],[0.6,\"#e6f5d0\"],[0.7,\"#b8e186\"],[0.8,\"#7fbc41\"],[0.9,\"#4d9221\"],[1,\"#276419\"]]},\"xaxis\":{\"gridcolor\":\"white\",\"linecolor\":\"white\",\"ticks\":\"\",\"title\":{\"standoff\":15},\"zerolinecolor\":\"white\",\"automargin\":true,\"zerolinewidth\":2},\"yaxis\":{\"gridcolor\":\"white\",\"linecolor\":\"white\",\"ticks\":\"\",\"title\":{\"standoff\":15},\"zerolinecolor\":\"white\",\"automargin\":true,\"zerolinewidth\":2},\"scene\":{\"xaxis\":{\"backgroundcolor\":\"#E5ECF6\",\"gridcolor\":\"white\",\"linecolor\":\"white\",\"showbackground\":true,\"ticks\":\"\",\"zerolinecolor\":\"white\",\"gridwidth\":2},\"yaxis\":{\"backgroundcolor\":\"#E5ECF6\",\"gridcolor\":\"white\",\"linecolor\":\"white\",\"showbackground\":true,\"ticks\":\"\",\"zerolinecolor\":\"white\",\"gridwidth\":2},\"zaxis\":{\"backgroundcolor\":\"#E5ECF6\",\"gridcolor\":\"white\",\"linecolor\":\"white\",\"showbackground\":true,\"ticks\":\"\",\"zerolinecolor\":\"white\",\"gridwidth\":2}},\"shapedefaults\":{\"line\":{\"color\":\"#2a3f5f\"}},\"annotationdefaults\":{\"arrowcolor\":\"#2a3f5f\",\"arrowhead\":0,\"arrowwidth\":1},\"geo\":{\"bgcolor\":\"white\",\"landcolor\":\"#E5ECF6\",\"subunitcolor\":\"white\",\"showland\":true,\"showlakes\":true,\"lakecolor\":\"white\"},\"title\":{\"x\":0.05},\"mapbox\":{\"style\":\"light\"}}},\"title\":{\"text\":\"Training and Validation Loss\"},\"xaxis\":{\"title\":{\"text\":\"Epochs\"}},\"yaxis\":{\"title\":{\"text\":\"Loss\"}},\"hovermode\":\"closest\",\"width\":800,\"height\":400},                        {\"responsive\": true}                    ).then(function(){\n",
              "                            \n",
              "var gd = document.getElementById('44f7ae53-2383-418b-be37-7aa90560ea9b');\n",
              "var x = new MutationObserver(function (mutations, observer) {{\n",
              "        var display = window.getComputedStyle(gd).display;\n",
              "        if (!display || display === 'none') {{\n",
              "            console.log([gd, 'removed!']);\n",
              "            Plotly.purge(gd);\n",
              "            observer.disconnect();\n",
              "        }}\n",
              "}});\n",
              "\n",
              "// Listen for the removal of the full notebook cells\n",
              "var notebookContainer = gd.closest('#notebook-container');\n",
              "if (notebookContainer) {{\n",
              "    x.observe(notebookContainer, {childList: true});\n",
              "}}\n",
              "\n",
              "// Listen for the clearing of the current output cell\n",
              "var outputEl = gd.closest('.output');\n",
              "if (outputEl) {{\n",
              "    x.observe(outputEl, {childList: true});\n",
              "}}\n",
              "\n",
              "                        })                };                            </script>        </div>\n",
              "</body>\n",
              "</html>"
            ]
          },
          "metadata": {}
        }
      ]
    },
    {
      "cell_type": "code",
      "source": [
        "# Interactive graph of the Training and Validation Accuracy\n",
        "\n",
        "# Access training accuracy and validation accuracy from the history\n",
        "train_accuracy = history.history['accuracy']\n",
        "val_accuracy = history.history['val_accuracy']\n",
        "\n",
        "# Create a range of epochs (e.g., [1, 2, 3, ...])\n",
        "epochs = list(range(1, len(train_accuracy) + 1))  # Convert range to a list\n",
        "\n",
        "# Create a Plotly figure\n",
        "fig = go.Figure()\n",
        "\n",
        "# Add training accuracy trace\n",
        "fig.add_trace(go.Scatter(x=epochs, y=train_accuracy, mode='lines+markers', name='Training Accuracy'))\n",
        "\n",
        "# Add validation accuracy trace\n",
        "fig.add_trace(go.Scatter(x=epochs, y=val_accuracy, mode='lines+markers', name='Validation Accuracy'))\n",
        "\n",
        "# Set layout options and adjust figure size\n",
        "fig.update_layout(\n",
        "    title='Training and Validation Accuracy',\n",
        "    xaxis_title='Epochs',\n",
        "    yaxis_title='Accuracy',\n",
        "    hovermode='closest',  # Enables interactive hovering\n",
        "    width=800,  # Adjust the width in pixels\n",
        "    height=400  # Adjust the height in pixels\n",
        ")\n",
        "\n",
        "# Show the interactive plot\n",
        "fig.show()"
      ],
      "metadata": {
        "colab": {
          "base_uri": "https://localhost:8080/",
          "height": 417
        },
        "id": "02QhfzhG9nr_",
        "outputId": "12f444c5-c2ad-432d-a27c-714b51b3c7de"
      },
      "execution_count": null,
      "outputs": [
        {
          "output_type": "display_data",
          "data": {
            "text/html": [
              "<html>\n",
              "<head><meta charset=\"utf-8\" /></head>\n",
              "<body>\n",
              "    <div>            <script src=\"https://cdnjs.cloudflare.com/ajax/libs/mathjax/2.7.5/MathJax.js?config=TeX-AMS-MML_SVG\"></script><script type=\"text/javascript\">if (window.MathJax && window.MathJax.Hub && window.MathJax.Hub.Config) {window.MathJax.Hub.Config({SVG: {font: \"STIX-Web\"}});}</script>                <script type=\"text/javascript\">window.PlotlyConfig = {MathJaxConfig: 'local'};</script>\n",
              "        <script charset=\"utf-8\" src=\"https://cdn.plot.ly/plotly-2.24.1.min.js\"></script>                <div id=\"40ff3775-8626-4d2d-87d6-09401cb75327\" class=\"plotly-graph-div\" style=\"height:400px; width:800px;\"></div>            <script type=\"text/javascript\">                                    window.PLOTLYENV=window.PLOTLYENV || {};                                    if (document.getElementById(\"40ff3775-8626-4d2d-87d6-09401cb75327\")) {                    Plotly.newPlot(                        \"40ff3775-8626-4d2d-87d6-09401cb75327\",                        [{\"mode\":\"lines+markers\",\"name\":\"Training Accuracy\",\"x\":[1,2,3,4,5,6,7,8,9,10,11,12,13,14,15,16,17,18,19,20,21,22,23,24,25,26,27,28,29,30],\"y\":[0.6612041592597961,0.7385108470916748,0.7598860263824463,0.7680798172950745,0.7787673473358154,0.7833986282348633,0.7951549887657166,0.7930174469947815,0.7908799648284912,0.7965799570083618,0.8065550327301025,0.8108300566673279,0.8065550327301025,0.8168863654136658,0.8175988793373108,0.8215176463127136,0.8325614333152771,0.8432490229606628,0.83933025598526,0.8414677381515503,0.8421802520751953,0.852155327796936,0.851442813873291,0.8596366047859192,0.8550053238868713,0.8564303517341614,0.8631991744041443,0.8724616765975952,0.8696116805076599,0.8681866526603699],\"type\":\"scatter\"},{\"mode\":\"lines+markers\",\"name\":\"Validation Accuracy\",\"x\":[1,2,3,4,5,6,7,8,9,10,11,12,13,14,15,16,17,18,19,20,21,22,23,24,25,26,27,28,29,30],\"y\":[0.737500011920929,0.7291666865348816,0.7354166507720947,0.7437499761581421,0.7645833492279053,0.7833333611488342,0.7749999761581421,0.7854166626930237,0.7833333611488342,0.800000011920929,0.7895833253860474,0.7958333492279053,0.7854166626930237,0.7979166507720947,0.7916666865348816,0.7916666865348816,0.8104166388511658,0.8083333373069763,0.8187500238418579,0.7958333492279053,0.8479166626930237,0.8229166865348816,0.8354166746139526,0.8187500238418579,0.8166666626930237,0.8187500238418579,0.862500011920929,0.8374999761581421,0.862500011920929,0.8083333373069763],\"type\":\"scatter\"}],                        {\"template\":{\"data\":{\"histogram2dcontour\":[{\"type\":\"histogram2dcontour\",\"colorbar\":{\"outlinewidth\":0,\"ticks\":\"\"},\"colorscale\":[[0.0,\"#0d0887\"],[0.1111111111111111,\"#46039f\"],[0.2222222222222222,\"#7201a8\"],[0.3333333333333333,\"#9c179e\"],[0.4444444444444444,\"#bd3786\"],[0.5555555555555556,\"#d8576b\"],[0.6666666666666666,\"#ed7953\"],[0.7777777777777778,\"#fb9f3a\"],[0.8888888888888888,\"#fdca26\"],[1.0,\"#f0f921\"]]}],\"choropleth\":[{\"type\":\"choropleth\",\"colorbar\":{\"outlinewidth\":0,\"ticks\":\"\"}}],\"histogram2d\":[{\"type\":\"histogram2d\",\"colorbar\":{\"outlinewidth\":0,\"ticks\":\"\"},\"colorscale\":[[0.0,\"#0d0887\"],[0.1111111111111111,\"#46039f\"],[0.2222222222222222,\"#7201a8\"],[0.3333333333333333,\"#9c179e\"],[0.4444444444444444,\"#bd3786\"],[0.5555555555555556,\"#d8576b\"],[0.6666666666666666,\"#ed7953\"],[0.7777777777777778,\"#fb9f3a\"],[0.8888888888888888,\"#fdca26\"],[1.0,\"#f0f921\"]]}],\"heatmap\":[{\"type\":\"heatmap\",\"colorbar\":{\"outlinewidth\":0,\"ticks\":\"\"},\"colorscale\":[[0.0,\"#0d0887\"],[0.1111111111111111,\"#46039f\"],[0.2222222222222222,\"#7201a8\"],[0.3333333333333333,\"#9c179e\"],[0.4444444444444444,\"#bd3786\"],[0.5555555555555556,\"#d8576b\"],[0.6666666666666666,\"#ed7953\"],[0.7777777777777778,\"#fb9f3a\"],[0.8888888888888888,\"#fdca26\"],[1.0,\"#f0f921\"]]}],\"heatmapgl\":[{\"type\":\"heatmapgl\",\"colorbar\":{\"outlinewidth\":0,\"ticks\":\"\"},\"colorscale\":[[0.0,\"#0d0887\"],[0.1111111111111111,\"#46039f\"],[0.2222222222222222,\"#7201a8\"],[0.3333333333333333,\"#9c179e\"],[0.4444444444444444,\"#bd3786\"],[0.5555555555555556,\"#d8576b\"],[0.6666666666666666,\"#ed7953\"],[0.7777777777777778,\"#fb9f3a\"],[0.8888888888888888,\"#fdca26\"],[1.0,\"#f0f921\"]]}],\"contourcarpet\":[{\"type\":\"contourcarpet\",\"colorbar\":{\"outlinewidth\":0,\"ticks\":\"\"}}],\"contour\":[{\"type\":\"contour\",\"colorbar\":{\"outlinewidth\":0,\"ticks\":\"\"},\"colorscale\":[[0.0,\"#0d0887\"],[0.1111111111111111,\"#46039f\"],[0.2222222222222222,\"#7201a8\"],[0.3333333333333333,\"#9c179e\"],[0.4444444444444444,\"#bd3786\"],[0.5555555555555556,\"#d8576b\"],[0.6666666666666666,\"#ed7953\"],[0.7777777777777778,\"#fb9f3a\"],[0.8888888888888888,\"#fdca26\"],[1.0,\"#f0f921\"]]}],\"surface\":[{\"type\":\"surface\",\"colorbar\":{\"outlinewidth\":0,\"ticks\":\"\"},\"colorscale\":[[0.0,\"#0d0887\"],[0.1111111111111111,\"#46039f\"],[0.2222222222222222,\"#7201a8\"],[0.3333333333333333,\"#9c179e\"],[0.4444444444444444,\"#bd3786\"],[0.5555555555555556,\"#d8576b\"],[0.6666666666666666,\"#ed7953\"],[0.7777777777777778,\"#fb9f3a\"],[0.8888888888888888,\"#fdca26\"],[1.0,\"#f0f921\"]]}],\"mesh3d\":[{\"type\":\"mesh3d\",\"colorbar\":{\"outlinewidth\":0,\"ticks\":\"\"}}],\"scatter\":[{\"fillpattern\":{\"fillmode\":\"overlay\",\"size\":10,\"solidity\":0.2},\"type\":\"scatter\"}],\"parcoords\":[{\"type\":\"parcoords\",\"line\":{\"colorbar\":{\"outlinewidth\":0,\"ticks\":\"\"}}}],\"scatterpolargl\":[{\"type\":\"scatterpolargl\",\"marker\":{\"colorbar\":{\"outlinewidth\":0,\"ticks\":\"\"}}}],\"bar\":[{\"error_x\":{\"color\":\"#2a3f5f\"},\"error_y\":{\"color\":\"#2a3f5f\"},\"marker\":{\"line\":{\"color\":\"#E5ECF6\",\"width\":0.5},\"pattern\":{\"fillmode\":\"overlay\",\"size\":10,\"solidity\":0.2}},\"type\":\"bar\"}],\"scattergeo\":[{\"type\":\"scattergeo\",\"marker\":{\"colorbar\":{\"outlinewidth\":0,\"ticks\":\"\"}}}],\"scatterpolar\":[{\"type\":\"scatterpolar\",\"marker\":{\"colorbar\":{\"outlinewidth\":0,\"ticks\":\"\"}}}],\"histogram\":[{\"marker\":{\"pattern\":{\"fillmode\":\"overlay\",\"size\":10,\"solidity\":0.2}},\"type\":\"histogram\"}],\"scattergl\":[{\"type\":\"scattergl\",\"marker\":{\"colorbar\":{\"outlinewidth\":0,\"ticks\":\"\"}}}],\"scatter3d\":[{\"type\":\"scatter3d\",\"line\":{\"colorbar\":{\"outlinewidth\":0,\"ticks\":\"\"}},\"marker\":{\"colorbar\":{\"outlinewidth\":0,\"ticks\":\"\"}}}],\"scattermapbox\":[{\"type\":\"scattermapbox\",\"marker\":{\"colorbar\":{\"outlinewidth\":0,\"ticks\":\"\"}}}],\"scatterternary\":[{\"type\":\"scatterternary\",\"marker\":{\"colorbar\":{\"outlinewidth\":0,\"ticks\":\"\"}}}],\"scattercarpet\":[{\"type\":\"scattercarpet\",\"marker\":{\"colorbar\":{\"outlinewidth\":0,\"ticks\":\"\"}}}],\"carpet\":[{\"aaxis\":{\"endlinecolor\":\"#2a3f5f\",\"gridcolor\":\"white\",\"linecolor\":\"white\",\"minorgridcolor\":\"white\",\"startlinecolor\":\"#2a3f5f\"},\"baxis\":{\"endlinecolor\":\"#2a3f5f\",\"gridcolor\":\"white\",\"linecolor\":\"white\",\"minorgridcolor\":\"white\",\"startlinecolor\":\"#2a3f5f\"},\"type\":\"carpet\"}],\"table\":[{\"cells\":{\"fill\":{\"color\":\"#EBF0F8\"},\"line\":{\"color\":\"white\"}},\"header\":{\"fill\":{\"color\":\"#C8D4E3\"},\"line\":{\"color\":\"white\"}},\"type\":\"table\"}],\"barpolar\":[{\"marker\":{\"line\":{\"color\":\"#E5ECF6\",\"width\":0.5},\"pattern\":{\"fillmode\":\"overlay\",\"size\":10,\"solidity\":0.2}},\"type\":\"barpolar\"}],\"pie\":[{\"automargin\":true,\"type\":\"pie\"}]},\"layout\":{\"autotypenumbers\":\"strict\",\"colorway\":[\"#636efa\",\"#EF553B\",\"#00cc96\",\"#ab63fa\",\"#FFA15A\",\"#19d3f3\",\"#FF6692\",\"#B6E880\",\"#FF97FF\",\"#FECB52\"],\"font\":{\"color\":\"#2a3f5f\"},\"hovermode\":\"closest\",\"hoverlabel\":{\"align\":\"left\"},\"paper_bgcolor\":\"white\",\"plot_bgcolor\":\"#E5ECF6\",\"polar\":{\"bgcolor\":\"#E5ECF6\",\"angularaxis\":{\"gridcolor\":\"white\",\"linecolor\":\"white\",\"ticks\":\"\"},\"radialaxis\":{\"gridcolor\":\"white\",\"linecolor\":\"white\",\"ticks\":\"\"}},\"ternary\":{\"bgcolor\":\"#E5ECF6\",\"aaxis\":{\"gridcolor\":\"white\",\"linecolor\":\"white\",\"ticks\":\"\"},\"baxis\":{\"gridcolor\":\"white\",\"linecolor\":\"white\",\"ticks\":\"\"},\"caxis\":{\"gridcolor\":\"white\",\"linecolor\":\"white\",\"ticks\":\"\"}},\"coloraxis\":{\"colorbar\":{\"outlinewidth\":0,\"ticks\":\"\"}},\"colorscale\":{\"sequential\":[[0.0,\"#0d0887\"],[0.1111111111111111,\"#46039f\"],[0.2222222222222222,\"#7201a8\"],[0.3333333333333333,\"#9c179e\"],[0.4444444444444444,\"#bd3786\"],[0.5555555555555556,\"#d8576b\"],[0.6666666666666666,\"#ed7953\"],[0.7777777777777778,\"#fb9f3a\"],[0.8888888888888888,\"#fdca26\"],[1.0,\"#f0f921\"]],\"sequentialminus\":[[0.0,\"#0d0887\"],[0.1111111111111111,\"#46039f\"],[0.2222222222222222,\"#7201a8\"],[0.3333333333333333,\"#9c179e\"],[0.4444444444444444,\"#bd3786\"],[0.5555555555555556,\"#d8576b\"],[0.6666666666666666,\"#ed7953\"],[0.7777777777777778,\"#fb9f3a\"],[0.8888888888888888,\"#fdca26\"],[1.0,\"#f0f921\"]],\"diverging\":[[0,\"#8e0152\"],[0.1,\"#c51b7d\"],[0.2,\"#de77ae\"],[0.3,\"#f1b6da\"],[0.4,\"#fde0ef\"],[0.5,\"#f7f7f7\"],[0.6,\"#e6f5d0\"],[0.7,\"#b8e186\"],[0.8,\"#7fbc41\"],[0.9,\"#4d9221\"],[1,\"#276419\"]]},\"xaxis\":{\"gridcolor\":\"white\",\"linecolor\":\"white\",\"ticks\":\"\",\"title\":{\"standoff\":15},\"zerolinecolor\":\"white\",\"automargin\":true,\"zerolinewidth\":2},\"yaxis\":{\"gridcolor\":\"white\",\"linecolor\":\"white\",\"ticks\":\"\",\"title\":{\"standoff\":15},\"zerolinecolor\":\"white\",\"automargin\":true,\"zerolinewidth\":2},\"scene\":{\"xaxis\":{\"backgroundcolor\":\"#E5ECF6\",\"gridcolor\":\"white\",\"linecolor\":\"white\",\"showbackground\":true,\"ticks\":\"\",\"zerolinecolor\":\"white\",\"gridwidth\":2},\"yaxis\":{\"backgroundcolor\":\"#E5ECF6\",\"gridcolor\":\"white\",\"linecolor\":\"white\",\"showbackground\":true,\"ticks\":\"\",\"zerolinecolor\":\"white\",\"gridwidth\":2},\"zaxis\":{\"backgroundcolor\":\"#E5ECF6\",\"gridcolor\":\"white\",\"linecolor\":\"white\",\"showbackground\":true,\"ticks\":\"\",\"zerolinecolor\":\"white\",\"gridwidth\":2}},\"shapedefaults\":{\"line\":{\"color\":\"#2a3f5f\"}},\"annotationdefaults\":{\"arrowcolor\":\"#2a3f5f\",\"arrowhead\":0,\"arrowwidth\":1},\"geo\":{\"bgcolor\":\"white\",\"landcolor\":\"#E5ECF6\",\"subunitcolor\":\"white\",\"showland\":true,\"showlakes\":true,\"lakecolor\":\"white\"},\"title\":{\"x\":0.05},\"mapbox\":{\"style\":\"light\"}}},\"title\":{\"text\":\"Training and Validation Accuracy\"},\"xaxis\":{\"title\":{\"text\":\"Epochs\"}},\"yaxis\":{\"title\":{\"text\":\"Accuracy\"}},\"hovermode\":\"closest\",\"width\":800,\"height\":400},                        {\"responsive\": true}                    ).then(function(){\n",
              "                            \n",
              "var gd = document.getElementById('40ff3775-8626-4d2d-87d6-09401cb75327');\n",
              "var x = new MutationObserver(function (mutations, observer) {{\n",
              "        var display = window.getComputedStyle(gd).display;\n",
              "        if (!display || display === 'none') {{\n",
              "            console.log([gd, 'removed!']);\n",
              "            Plotly.purge(gd);\n",
              "            observer.disconnect();\n",
              "        }}\n",
              "}});\n",
              "\n",
              "// Listen for the removal of the full notebook cells\n",
              "var notebookContainer = gd.closest('#notebook-container');\n",
              "if (notebookContainer) {{\n",
              "    x.observe(notebookContainer, {childList: true});\n",
              "}}\n",
              "\n",
              "// Listen for the clearing of the current output cell\n",
              "var outputEl = gd.closest('.output');\n",
              "if (outputEl) {{\n",
              "    x.observe(outputEl, {childList: true});\n",
              "}}\n",
              "\n",
              "                        })                };                            </script>        </div>\n",
              "</body>\n",
              "</html>"
            ]
          },
          "metadata": {}
        }
      ]
    },
    {
      "cell_type": "markdown",
      "source": [
        "#B: ASSESS TRAINED MODEL PERFORMANCE (VGG)"
      ],
      "metadata": {
        "id": "kGgrBqTb-EjJ"
      }
    },
    {
      "cell_type": "code",
      "source": [
        "# make prediction\n",
        "\n",
        "test_predict = model.predict(test_generator, steps = test_generator.n // 32, verbose =1)"
      ],
      "metadata": {
        "colab": {
          "base_uri": "https://localhost:8080/"
        },
        "id": "Q_hiZjxE-BQm",
        "outputId": "9aedbd3d-0148-4d75-c113-7c6dd326152b"
      },
      "execution_count": null,
      "outputs": [
        {
          "output_type": "stream",
          "name": "stdout",
          "text": [
            "18/18 [==============================] - 89s 5s/step\n"
          ]
        }
      ]
    },
    {
      "cell_type": "code",
      "source": [
        "test_predict.shape"
      ],
      "metadata": {
        "colab": {
          "base_uri": "https://localhost:8080/"
        },
        "id": "moweu_-S-BTv",
        "outputId": "acc3ad33-8478-4156-e064-658317b420df"
      },
      "execution_count": null,
      "outputs": [
        {
          "output_type": "execute_result",
          "data": {
            "text/plain": [
              "(576, 2)"
            ]
          },
          "metadata": {},
          "execution_count": 23
        }
      ]
    },
    {
      "cell_type": "code",
      "source": [
        "# Obtain the predicted class from the model prediction\n",
        "\n",
        "predict = []\n",
        "\n",
        "for i in test_predict:\n",
        "  predict.append(str(np.argmax(i)))\n",
        "\n",
        "predict = np.asarray(predict)"
      ],
      "metadata": {
        "id": "DET0Xtnl-J3X"
      },
      "execution_count": null,
      "outputs": []
    },
    {
      "cell_type": "code",
      "source": [
        "predict"
      ],
      "metadata": {
        "colab": {
          "base_uri": "https://localhost:8080/"
        },
        "id": "tm7Fdhly-J8K",
        "outputId": "d54799e1-6cc8-4efd-c53b-8c5293c6efd0"
      },
      "execution_count": null,
      "outputs": [
        {
          "output_type": "execute_result",
          "data": {
            "text/plain": [
              "array(['1', '0', '1', '0', '0', '1', '1', '0', '1', '0', '1', '1', '0',\n",
              "       '0', '0', '1', '1', '0', '1', '0', '0', '1', '1', '0', '1', '1',\n",
              "       '0', '1', '0', '1', '0', '0', '0', '0', '1', '1', '1', '1', '1',\n",
              "       '1', '0', '1', '1', '1', '0', '0', '1', '1', '0', '0', '1', '0',\n",
              "       '1', '0', '0', '0', '1', '0', '0', '0', '1', '0', '0', '1', '1',\n",
              "       '0', '1', '0', '0', '0', '0', '1', '1', '1', '0', '1', '0', '0',\n",
              "       '1', '0', '0', '1', '0', '0', '0', '0', '0', '1', '0', '0', '0',\n",
              "       '1', '1', '0', '0', '1', '1', '1', '0', '0', '1', '0', '1', '1',\n",
              "       '1', '0', '0', '0', '0', '1', '0', '0', '0', '1', '1', '1', '0',\n",
              "       '1', '1', '0', '0', '1', '0', '1', '0', '0', '0', '0', '0', '0',\n",
              "       '0', '0', '0', '0', '1', '0', '1', '0', '0', '0', '1', '0', '1',\n",
              "       '0', '0', '0', '1', '0', '0', '0', '1', '0', '0', '0', '1', '0',\n",
              "       '1', '1', '0', '1', '0', '0', '1', '1', '0', '0', '0', '0', '1',\n",
              "       '1', '1', '1', '1', '0', '0', '1', '0', '0', '0', '0', '1', '1',\n",
              "       '0', '1', '1', '0', '0', '0', '0', '0', '1', '1', '0', '1', '0',\n",
              "       '0', '1', '0', '1', '0', '0', '1', '1', '1', '1', '1', '0', '0',\n",
              "       '0', '1', '0', '0', '0', '0', '1', '0', '0', '0', '0', '0', '1',\n",
              "       '0', '1', '0', '1', '1', '0', '0', '1', '1', '0', '1', '0', '0',\n",
              "       '0', '1', '1', '0', '0', '1', '0', '0', '0', '1', '0', '1', '1',\n",
              "       '0', '0', '1', '1', '1', '1', '1', '1', '1', '0', '1', '0', '1',\n",
              "       '1', '1', '1', '0', '1', '1', '0', '0', '0', '1', '1', '1', '0',\n",
              "       '0', '0', '1', '1', '0', '1', '1', '0', '1', '1', '1', '1', '1',\n",
              "       '0', '0', '1', '0', '0', '1', '1', '1', '0', '1', '0', '0', '1',\n",
              "       '0', '0', '1', '0', '0', '0', '0', '0', '1', '0', '0', '0', '0',\n",
              "       '1', '1', '0', '0', '0', '1', '0', '0', '0', '1', '1', '0', '0',\n",
              "       '1', '0', '1', '0', '0', '0', '0', '1', '1', '1', '0', '1', '1',\n",
              "       '1', '1', '0', '0', '0', '1', '0', '0', '0', '1', '0', '1', '0',\n",
              "       '1', '0', '0', '0', '1', '0', '1', '0', '0', '0', '0', '0', '1',\n",
              "       '1', '0', '1', '1', '1', '0', '0', '0', '1', '0', '0', '1', '0',\n",
              "       '1', '1', '0', '0', '1', '1', '0', '0', '0', '0', '1', '0', '1',\n",
              "       '0', '0', '1', '1', '1', '1', '1', '0', '1', '0', '1', '0', '1',\n",
              "       '0', '1', '0', '0', '1', '0', '0', '1', '1', '0', '0', '0', '1',\n",
              "       '0', '1', '1', '1', '0', '1', '1', '1', '0', '0', '0', '0', '1',\n",
              "       '1', '0', '1', '1', '0', '0', '0', '0', '0', '0', '0', '0', '0',\n",
              "       '1', '1', '0', '1', '1', '1', '0', '1', '1', '1', '1', '0', '0',\n",
              "       '0', '0', '0', '0', '1', '0', '1', '1', '1', '0', '0', '0', '0',\n",
              "       '0', '0', '1', '0', '0', '0', '0', '1', '0', '1', '0', '0', '0',\n",
              "       '1', '0', '1', '1', '0', '1', '1', '0', '0', '1', '0', '0', '0',\n",
              "       '1', '0', '1', '0', '1', '1', '1', '0', '0', '0', '1', '1', '1',\n",
              "       '1', '1', '0', '0', '0', '0', '0', '0', '1', '0', '0', '1', '1',\n",
              "       '1', '0', '1', '1', '0', '0', '0', '0', '0', '1', '1', '0', '0',\n",
              "       '0', '1', '0', '0', '0', '1', '1', '0', '1', '0', '0', '1', '1',\n",
              "       '0', '1', '1', '0', '1', '1', '0', '0', '0', '1', '0', '1', '0',\n",
              "       '0', '0', '0', '0', '0', '1', '0', '0', '0', '1', '1', '0', '0',\n",
              "       '0', '1', '0', '0'], dtype='<U1')"
            ]
          },
          "metadata": {},
          "execution_count": 25
        }
      ]
    },
    {
      "cell_type": "code",
      "source": [
        "# since we have used test generator, it limited the images to len(predict), due to batch size\n",
        "\n",
        "original = np.asarray(test['mask'])[:len(predict)]\n",
        "len(original)"
      ],
      "metadata": {
        "colab": {
          "base_uri": "https://localhost:8080/"
        },
        "id": "Iz_uuqsV-J-z",
        "outputId": "a6694d47-aea3-4803-c15b-1996f4b74816"
      },
      "execution_count": null,
      "outputs": [
        {
          "output_type": "execute_result",
          "data": {
            "text/plain": [
              "576"
            ]
          },
          "metadata": {},
          "execution_count": 26
        }
      ]
    },
    {
      "cell_type": "code",
      "source": [
        "# Obtain the accuracy of the model\n",
        "\n",
        "from sklearn.metrics import accuracy_score\n",
        "\n",
        "accuracy = accuracy_score(original, predict)\n",
        "\n",
        "print(\"Model Accuracy: \", accuracy)"
      ],
      "metadata": {
        "colab": {
          "base_uri": "https://localhost:8080/"
        },
        "id": "tJz_Un5g-QdL",
        "outputId": "c6f5da5c-cf95-4355-ac24-ed7183a6c471"
      },
      "execution_count": null,
      "outputs": [
        {
          "output_type": "stream",
          "name": "stdout",
          "text": [
            "Model Accuracy:  0.8854166666666666\n"
          ]
        }
      ]
    },
    {
      "cell_type": "code",
      "source": [
        "# Classification Report\n",
        "\n",
        "from sklearn.metrics import classification_report\n",
        "\n",
        "report = classification_report(original, predict, labels = [0,1])\n",
        "print(report)"
      ],
      "metadata": {
        "colab": {
          "base_uri": "https://localhost:8080/"
        },
        "id": "gaZQ5ebJ-Qf0",
        "outputId": "d0310606-9a50-4bb7-fbc8-d76859ec486a"
      },
      "execution_count": null,
      "outputs": [
        {
          "output_type": "stream",
          "name": "stdout",
          "text": [
            "              precision    recall  f1-score   support\n",
            "\n",
            "           0       0.95      0.86      0.90       359\n",
            "           1       0.80      0.93      0.86       217\n",
            "\n",
            "   micro avg       0.89      0.89      0.89       576\n",
            "   macro avg       0.88      0.89      0.88       576\n",
            "weighted avg       0.89      0.89      0.89       576\n",
            "\n"
          ]
        },
        {
          "output_type": "stream",
          "name": "stderr",
          "text": [
            "/usr/local/lib/python3.10/dist-packages/numpy/lib/arraysetops.py:608: FutureWarning:\n",
            "\n",
            "elementwise comparison failed; returning scalar instead, but in the future will perform elementwise comparison\n",
            "\n",
            "/usr/local/lib/python3.10/dist-packages/numpy/lib/arraysetops.py:608: FutureWarning:\n",
            "\n",
            "elementwise comparison failed; returning scalar instead, but in the future will perform elementwise comparison\n",
            "\n",
            "/usr/local/lib/python3.10/dist-packages/numpy/lib/arraysetops.py:608: FutureWarning:\n",
            "\n",
            "elementwise comparison failed; returning scalar instead, but in the future will perform elementwise comparison\n",
            "\n",
            "/usr/local/lib/python3.10/dist-packages/numpy/lib/arraysetops.py:608: FutureWarning:\n",
            "\n",
            "elementwise comparison failed; returning scalar instead, but in the future will perform elementwise comparison\n",
            "\n"
          ]
        }
      ]
    },
    {
      "cell_type": "code",
      "source": [
        "from sklearn.metrics import confusion_matrix\n",
        "\n",
        "# Calculate the confusion matrix\n",
        "cm = confusion_matrix(original, predict)\n",
        "\n",
        "# Define class labels\n",
        "class_labels = [\"(0, 'No')\", \"(1, 'Yes')\"]\n",
        "\n",
        "# Create a figure and axis for the confusion matrix\n",
        "plt.figure(figsize=(4, 4))\n",
        "sns.heatmap(cm, annot=True, fmt='d', cmap='Blues', xticklabels=class_labels, yticklabels=class_labels)\n",
        "\n",
        "# Add labels and title\n",
        "plt.xlabel('Predicted')\n",
        "plt.ylabel('Actual')\n",
        "plt.title('Confusion Matrix')\n",
        "\n",
        "plt.show()"
      ],
      "metadata": {
        "colab": {
          "base_uri": "https://localhost:8080/",
          "height": 410
        },
        "id": "FXUiqvGr-Qhy",
        "outputId": "892079aa-9d8d-4f83-9db8-a52a58be9a7a"
      },
      "execution_count": null,
      "outputs": [
        {
          "output_type": "display_data",
          "data": {
            "text/plain": [
              "<Figure size 400x400 with 2 Axes>"
            ],
            "image/png": "[encoded data removed]"
          },
          "metadata": {}
        }
      ]
    },
    {
      "cell_type": "code",
      "source": [],
      "metadata": {
        "id": "mxK4NIBW-ZTo"
      },
      "execution_count": null,
      "outputs": []
    }
  ]
}