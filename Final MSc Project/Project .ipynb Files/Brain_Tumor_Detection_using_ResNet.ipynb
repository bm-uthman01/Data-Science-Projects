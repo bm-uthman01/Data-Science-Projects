{
  "nbformat": 4,
  "nbformat_minor": 0,
  "metadata": {
    "colab": {
      "provenance": [],
      "gpuType": "T4"
    },
    "kernelspec": {
      "name": "python3",
      "display_name": "Python 3"
    },
    "language_info": {
      "name": "python"
    },
    "accelerator": "GPU"
  },
  "cells": [
    {
      "cell_type": "markdown",
      "source": [
        "# Brain Tumor Detection using ResNet Architecture. (Experimental Phase)\n",
        "\n",
        "#### The experimentation phase of the project consists of evaluating various hyper-parameters to find the optimal performance for the ResNet Architecture.\n"
      ],
      "metadata": {
        "id": "jRYqinXBqRfN"
      }
    },
    {
      "cell_type": "markdown",
      "source": [
        "When running any code it’s beneficial to change the “RunTime” type to T4-GPU"
      ],
      "metadata": {
        "id": "2zYXj9Rjuy2N"
      }
    },
    {
      "cell_type": "code",
      "execution_count": null,
      "metadata": {
        "id": "W7b2m9qsowx0"
      },
      "outputs": [],
      "source": [
        "import pandas as pd\n",
        "import numpy as np\n",
        "import seaborn as sns\n",
        "import matplotlib.pyplot as plt\n",
        "import zipfile\n",
        "import cv2\n",
        "from skimage import io\n",
        "import tensorflow as tf\n",
        "from tensorflow import keras\n",
        "from tensorflow.python.keras import Sequential\n",
        "from tensorflow.python.keras import layers, optimizers\n",
        "from tensorflow.keras.applications import DenseNet121\n",
        "from tensorflow.keras.applications.resnet50 import ResNet50\n",
        "from tensorflow.keras.layers import *\n",
        "from tensorflow.keras.models import Model, load_model\n",
        "from tensorflow.keras.initializers import glorot_uniform\n",
        "from tensorflow.keras.utils import plot_model\n",
        "from tensorflow.keras.callbacks import ReduceLROnPlateau, EarlyStopping, ModelCheckpoint, LearningRateScheduler\n",
        "from IPython.display import display\n",
        "from tensorflow.python.keras import backend as K\n",
        "from sklearn.preprocessing import StandardScaler, normalize\n",
        "from tensorflow.keras.applications import VGG16\n",
        "from tensorflow.keras.layers import Input, AveragePooling2D, Flatten, Dense, Dropout\n",
        "from tensorflow.keras.models import Model\n",
        "from tensorflow.keras.callbacks import EarlyStopping, ModelCheckpoint\n",
        "import tensorflow as tf\n",
        "from keras.optimizers import Adam, RMSprop\n",
        "import numpy as np\n",
        "import os\n",
        "import glob\n",
        "import random\n",
        "from google.colab import files #library to upload files to colab notebook\n",
        "%matplotlib inline\n"
      ]
    },
    {
      "cell_type": "code",
      "source": [
        "# mount the drive using the following commands:\n",
        "\n",
        "from google.colab import drive\n",
        "drive.mount('/content/drive')"
      ],
      "metadata": {
        "colab": {
          "base_uri": "https://localhost:8080/"
        },
        "id": "dToiJxjfq5Mq",
        "outputId": "bbecdf44-defc-4add-cb39-0b1ea49ff1fb"
      },
      "execution_count": null,
      "outputs": [
        {
          "output_type": "stream",
          "name": "stdout",
          "text": [
            "Mounted at /content/drive\n"
          ]
        }
      ]
    },
    {
      "cell_type": "code",
      "source": [
        "# Navigating my Drive directory to find dataset (For Examiner: Only run if you have transfered the folder to your drive. Detials Explained in the report [Appendix])\n",
        "\n",
        "%cd /content/drive/My Drive/Final Project/BrainTumor Project/Brain_MRI"
      ],
      "metadata": {
        "colab": {
          "base_uri": "https://localhost:8080/"
        },
        "id": "dX8CDIi4q5Pn",
        "outputId": "cc756990-e351-4c74-cfa2-adb66820313b"
      },
      "execution_count": null,
      "outputs": [
        {
          "output_type": "stream",
          "name": "stdout",
          "text": [
            "/content/drive/My Drive/Colab Notebooks/Healthcare AI Datasets/Brain_MRI\n"
          ]
        }
      ]
    },
    {
      "cell_type": "code",
      "source": [
        "# data containing path to Brain MRI and their corresponding mask\n",
        "\n",
        "brain_df = pd.read_csv('data_mask.csv')"
      ],
      "metadata": {
        "id": "7qguoM4Vq5R6"
      },
      "execution_count": null,
      "outputs": []
    },
    {
      "cell_type": "code",
      "source": [
        "# Display information about the Dataset\n",
        "\n",
        "brain_df.info()"
      ],
      "metadata": {
        "colab": {
          "base_uri": "https://localhost:8080/"
        },
        "id": "lsFziDLbq5U0",
        "outputId": "b0b301d9-f9ef-43fa-e522-d9515039f0a5"
      },
      "execution_count": null,
      "outputs": [
        {
          "output_type": "stream",
          "name": "stdout",
          "text": [
            "<class 'pandas.core.frame.DataFrame'>\n",
            "RangeIndex: 3929 entries, 0 to 3928\n",
            "Data columns (total 4 columns):\n",
            " #   Column      Non-Null Count  Dtype \n",
            "---  ------      --------------  ----- \n",
            " 0   patient_id  3929 non-null   object\n",
            " 1   image_path  3929 non-null   object\n",
            " 2   mask_path   3929 non-null   object\n",
            " 3   mask        3929 non-null   int64 \n",
            "dtypes: int64(1), object(3)\n",
            "memory usage: 122.9+ KB\n"
          ]
        }
      ]
    },
    {
      "cell_type": "markdown",
      "source": [
        "#A: TRAIN A CLASSIFIER MODEL TO DETECT IF TUMOR EXISTS OR NOT (ResNet)"
      ],
      "metadata": {
        "id": "XiOMVu-qrI1M"
      }
    },
    {
      "cell_type": "code",
      "source": [
        "# Drop the patient id column\n",
        "\n",
        "brain_df_train = brain_df.drop(columns = ['patient_id'])\n",
        "brain_df_train.shape"
      ],
      "metadata": {
        "colab": {
          "base_uri": "https://localhost:8080/"
        },
        "id": "un8bTMSWrE6P",
        "outputId": "3a7ac50c-fec0-4e75-8da3-edb78d0d395f"
      },
      "execution_count": null,
      "outputs": [
        {
          "output_type": "execute_result",
          "data": {
            "text/plain": [
              "(3929, 3)"
            ]
          },
          "metadata": {},
          "execution_count": 6
        }
      ]
    },
    {
      "cell_type": "code",
      "source": [
        "# Convert the data in mask column to string format, to use categorical mode in flow_from_dataframe\n",
        "\n",
        "brain_df_train['mask'] = brain_df_train['mask'].apply(lambda x: str(x))"
      ],
      "metadata": {
        "id": "NSGaaHEbrE89"
      },
      "execution_count": null,
      "outputs": []
    },
    {
      "cell_type": "code",
      "source": [
        "brain_df_train.info()"
      ],
      "metadata": {
        "colab": {
          "base_uri": "https://localhost:8080/"
        },
        "id": "6YGUCxFlq5W4",
        "outputId": "b6c49dcb-318a-425c-fc8f-d080dd6c0e61"
      },
      "execution_count": null,
      "outputs": [
        {
          "output_type": "stream",
          "name": "stdout",
          "text": [
            "<class 'pandas.core.frame.DataFrame'>\n",
            "RangeIndex: 3929 entries, 0 to 3928\n",
            "Data columns (total 3 columns):\n",
            " #   Column      Non-Null Count  Dtype \n",
            "---  ------      --------------  ----- \n",
            " 0   image_path  3929 non-null   object\n",
            " 1   mask_path   3929 non-null   object\n",
            " 2   mask        3929 non-null   object\n",
            "dtypes: object(3)\n",
            "memory usage: 92.2+ KB\n"
          ]
        }
      ]
    },
    {
      "cell_type": "code",
      "source": [
        "# split the data into train and test data\n",
        "\n",
        "from sklearn.model_selection import train_test_split\n",
        "\n",
        "train, test = train_test_split(brain_df_train, test_size = 0.15)"
      ],
      "metadata": {
        "id": "5OWrTTbUrdP-"
      },
      "execution_count": null,
      "outputs": []
    },
    {
      "cell_type": "code",
      "source": [
        "# create a image generator\n",
        "\n",
        "from keras.preprocessing.image import ImageDataGenerator\n",
        "\n",
        "# Create a data generator which scales the data from 0 to 1 and makes validation split of 0.15\n",
        "\n",
        "datagen = ImageDataGenerator(rescale=1./255., validation_split = 0.15)"
      ],
      "metadata": {
        "id": "b5bD-sC8rdUB"
      },
      "execution_count": null,
      "outputs": []
    },
    {
      "cell_type": "code",
      "source": [
        "# Create a data generator for train images\n",
        "\n",
        "train_generator=datagen.flow_from_dataframe(\n",
        "dataframe=train,\n",
        "directory= './',\n",
        "x_col='image_path',\n",
        "y_col='mask',\n",
        "subset=\"training\",\n",
        "batch_size=32,\n",
        "shuffle=True,\n",
        "class_mode=\"categorical\",\n",
        "target_size=(256,256))\n",
        "\n",
        "\n",
        "valid_generator=datagen.flow_from_dataframe(\n",
        "dataframe=train,\n",
        "directory= './',\n",
        "x_col='image_path',\n",
        "y_col='mask',\n",
        "subset=\"validation\",\n",
        "batch_size=32,\n",
        "shuffle=True,\n",
        "class_mode=\"categorical\",\n",
        "target_size=(256,256))"
      ],
      "metadata": {
        "colab": {
          "base_uri": "https://localhost:8080/"
        },
        "id": "fIIEk0W7rdWX",
        "outputId": "a66d570d-b566-4afc-b3ab-6322e62a6c9a"
      },
      "execution_count": null,
      "outputs": [
        {
          "output_type": "stream",
          "name": "stdout",
          "text": [
            "Found 2839 validated image filenames belonging to 2 classes.\n",
            "Found 500 validated image filenames belonging to 2 classes.\n"
          ]
        }
      ]
    },
    {
      "cell_type": "code",
      "source": [
        "# Create a data generator for test images\n",
        "\n",
        "test_datagen=ImageDataGenerator(rescale=1./255.)\n",
        "\n",
        "test_generator=test_datagen.flow_from_dataframe(\n",
        "dataframe=test,\n",
        "directory= './',\n",
        "x_col='image_path',\n",
        "y_col='mask',\n",
        "batch_size=32,\n",
        "shuffle=False,\n",
        "class_mode='binary',\n",
        "target_size=(256,256))"
      ],
      "metadata": {
        "colab": {
          "base_uri": "https://localhost:8080/"
        },
        "id": "BfolGMXTrwvU",
        "outputId": "fb381d9e-e59d-4761-9ad7-de471c2e8d03"
      },
      "execution_count": null,
      "outputs": [
        {
          "output_type": "stream",
          "name": "stdout",
          "text": [
            "Found 590 validated image filenames belonging to 2 classes.\n"
          ]
        }
      ]
    },
    {
      "cell_type": "code",
      "source": [
        "# Get the ResNet50 base model\n",
        "\n",
        "basemodel = ResNet50(weights = 'imagenet', include_top = False, input_tensor = Input(shape=(256, 256, 3)))"
      ],
      "metadata": {
        "colab": {
          "base_uri": "https://localhost:8080/"
        },
        "id": "FPJRrO0qrwyS",
        "outputId": "caa8e15b-06f0-4e34-fdca-2fe85543d280"
      },
      "execution_count": null,
      "outputs": [
        {
          "output_type": "stream",
          "name": "stdout",
          "text": [
            "Downloading data from https://storage.googleapis.com/tensorflow/keras-applications/resnet/resnet50_weights_tf_dim_ordering_tf_kernels_notop.h5\n",
            "94765736/94765736 [==============================] - 0s 0us/step\n"
          ]
        }
      ]
    },
    {
      "cell_type": "code",
      "source": [
        "# freeze the model weights\n",
        "\n",
        "for layer in basemodel.layers:\n",
        "  layers.trainable = False"
      ],
      "metadata": {
        "id": "7zSUv8G_rw0p"
      },
      "execution_count": null,
      "outputs": []
    },
    {
      "cell_type": "code",
      "source": [
        "# Add classification head to the base model\n",
        "\n",
        "headmodel = basemodel.output\n",
        "headmodel = AveragePooling2D(pool_size = (4,4))(headmodel)\n",
        "headmodel = Flatten(name= 'flatten')(headmodel)\n",
        "headmodel = Dense(256, activation = \"relu\")(headmodel)\n",
        "headmodel = Dropout(0.3)(headmodel)#\n",
        "headmodel = Dense(256, activation = \"relu\")(headmodel)\n",
        "headmodel = Dropout(0.3)(headmodel)\n",
        "headmodel = Dense(2, activation = 'softmax')(headmodel)\n",
        "\n",
        "model = Model(inputs = basemodel.input, outputs = headmodel)"
      ],
      "metadata": {
        "id": "N4Al4Pj6s0UZ"
      },
      "execution_count": null,
      "outputs": []
    },
    {
      "cell_type": "code",
      "source": [
        "# Compile the model\n",
        "\n",
        "model.compile(\n",
        "    optimizer=Adam(learning_rate=0.0001),  # Adjust the learning rate\n",
        "    loss='categorical_crossentropy',  # Use categorical cross-entropy for binary classification\n",
        "    metrics=['accuracy']\n",
        ")"
      ],
      "metadata": {
        "id": "ZkDv99Dxs0XW"
      },
      "execution_count": null,
      "outputs": []
    },
    {
      "cell_type": "code",
      "source": [
        "# use early stopping to exit training if validation loss is not decreasing even after certain epochs (patience)\n",
        "earlystopping = EarlyStopping(monitor='val_loss', mode='min', verbose=1, patience=30)\n",
        "\n",
        "# save the best model with least validation loss\n",
        "checkpointer = ModelCheckpoint(filepath=\"classifier-resnet-weights-exp.hdf5\", verbose=1, save_best_only=True)"
      ],
      "metadata": {
        "id": "rKHbbXjgs0Zv"
      },
      "execution_count": null,
      "outputs": []
    },
    {
      "cell_type": "code",
      "source": [
        "# save the model architecture to json file for future use\n",
        "\n",
        "model_json = model.to_json()\n",
        "with open(\"classifier-resnet-model-exp.json\",\"w\") as json_file:\n",
        "  json_file.write(model_json)"
      ],
      "metadata": {
        "id": "dX5PeLfOs0q_"
      },
      "execution_count": null,
      "outputs": []
    },
    {
      "cell_type": "code",
      "source": [
        "# Training the model\n",
        "\n",
        "history = model.fit(train_generator, steps_per_epoch= train_generator.n // 32, epochs = 30, validation_data= valid_generator, validation_steps= valid_generator.n // 32, callbacks=[checkpointer, earlystopping])"
      ],
      "metadata": {
        "colab": {
          "base_uri": "https://localhost:8080/"
        },
        "id": "s4ALGtektkkR",
        "outputId": "92f328b5-6c66-48f1-e888-a7383df69bc9"
      },
      "execution_count": null,
      "outputs": [
        {
          "output_type": "stream",
          "name": "stdout",
          "text": [
            "Epoch 1/30\n",
            "88/88 [==============================] - ETA: 0s - loss: 0.4414 - accuracy: 0.7845\n",
            "Epoch 1: val_loss improved from inf to 0.67626, saving model to classifier-resnet-weights-exp.hdf5\n",
            "88/88 [==============================] - 77s 539ms/step - loss: 0.4414 - accuracy: 0.7845 - val_loss: 0.6763 - val_accuracy: 0.6646\n",
            "Epoch 2/30\n",
            "88/88 [==============================] - ETA: 0s - loss: 0.3265 - accuracy: 0.8497\n",
            "Epoch 2: val_loss improved from 0.67626 to 0.67610, saving model to classifier-resnet-weights-exp.hdf5\n",
            "88/88 [==============================] - 46s 522ms/step - loss: 0.3265 - accuracy: 0.8497 - val_loss: 0.6761 - val_accuracy: 0.6625\n",
            "Epoch 3/30\n",
            "88/88 [==============================] - ETA: 0s - loss: 0.2552 - accuracy: 0.8935\n",
            "Epoch 3: val_loss did not improve from 0.67610\n",
            "88/88 [==============================] - 40s 449ms/step - loss: 0.2552 - accuracy: 0.8935 - val_loss: 0.6812 - val_accuracy: 0.6667\n",
            "Epoch 4/30\n",
            "88/88 [==============================] - ETA: 0s - loss: 0.1869 - accuracy: 0.9320\n",
            "Epoch 4: val_loss improved from 0.67610 to 0.67116, saving model to classifier-resnet-weights-exp.hdf5\n",
            "88/88 [==============================] - 49s 552ms/step - loss: 0.1869 - accuracy: 0.9320 - val_loss: 0.6712 - val_accuracy: 0.6562\n",
            "Epoch 5/30\n",
            "88/88 [==============================] - ETA: 0s - loss: 0.1342 - accuracy: 0.9498\n",
            "Epoch 5: val_loss improved from 0.67116 to 0.66482, saving model to classifier-resnet-weights-exp.hdf5\n",
            "88/88 [==============================] - 45s 514ms/step - loss: 0.1342 - accuracy: 0.9498 - val_loss: 0.6648 - val_accuracy: 0.6521\n",
            "Epoch 6/30\n",
            "88/88 [==============================] - ETA: 0s - loss: 0.1084 - accuracy: 0.9569\n",
            "Epoch 6: val_loss improved from 0.66482 to 0.66158, saving model to classifier-resnet-weights-exp.hdf5\n",
            "88/88 [==============================] - 46s 523ms/step - loss: 0.1084 - accuracy: 0.9569 - val_loss: 0.6616 - val_accuracy: 0.6542\n",
            "Epoch 7/30\n",
            "88/88 [==============================] - ETA: 0s - loss: 0.0894 - accuracy: 0.9669\n",
            "Epoch 7: val_loss improved from 0.66158 to 0.62928, saving model to classifier-resnet-weights-exp.hdf5\n",
            "88/88 [==============================] - 46s 521ms/step - loss: 0.0894 - accuracy: 0.9669 - val_loss: 0.6293 - val_accuracy: 0.6167\n",
            "Epoch 8/30\n",
            "88/88 [==============================] - ETA: 0s - loss: 0.0882 - accuracy: 0.9694\n",
            "Epoch 8: val_loss did not improve from 0.62928\n",
            "88/88 [==============================] - 40s 456ms/step - loss: 0.0882 - accuracy: 0.9694 - val_loss: 0.9307 - val_accuracy: 0.6458\n",
            "Epoch 9/30\n",
            "88/88 [==============================] - ETA: 0s - loss: 0.0487 - accuracy: 0.9840\n",
            "Epoch 9: val_loss did not improve from 0.62928\n",
            "88/88 [==============================] - 38s 436ms/step - loss: 0.0487 - accuracy: 0.9840 - val_loss: 1.2425 - val_accuracy: 0.6729\n",
            "Epoch 10/30\n",
            "88/88 [==============================] - ETA: 0s - loss: 0.0409 - accuracy: 0.9882\n",
            "Epoch 10: val_loss did not improve from 0.62928\n",
            "88/88 [==============================] - 39s 444ms/step - loss: 0.0409 - accuracy: 0.9882 - val_loss: 0.6519 - val_accuracy: 0.7479\n",
            "Epoch 11/30\n",
            "88/88 [==============================] - ETA: 0s - loss: 0.0422 - accuracy: 0.9857\n",
            "Epoch 11: val_loss improved from 0.62928 to 0.38371, saving model to classifier-resnet-weights-exp.hdf5\n",
            "88/88 [==============================] - 45s 513ms/step - loss: 0.0422 - accuracy: 0.9857 - val_loss: 0.3837 - val_accuracy: 0.8896\n",
            "Epoch 12/30\n",
            "88/88 [==============================] - ETA: 0s - loss: 0.0261 - accuracy: 0.9911\n",
            "Epoch 12: val_loss improved from 0.38371 to 0.33666, saving model to classifier-resnet-weights-exp.hdf5\n",
            "88/88 [==============================] - 47s 528ms/step - loss: 0.0261 - accuracy: 0.9911 - val_loss: 0.3367 - val_accuracy: 0.9104\n",
            "Epoch 13/30\n",
            "88/88 [==============================] - ETA: 0s - loss: 0.0316 - accuracy: 0.9893\n",
            "Epoch 13: val_loss did not improve from 0.33666\n",
            "88/88 [==============================] - 39s 445ms/step - loss: 0.0316 - accuracy: 0.9893 - val_loss: 0.3904 - val_accuracy: 0.9146\n",
            "Epoch 14/30\n",
            "88/88 [==============================] - ETA: 0s - loss: 0.0313 - accuracy: 0.9893\n",
            "Epoch 14: val_loss improved from 0.33666 to 0.30162, saving model to classifier-resnet-weights-exp.hdf5\n",
            "88/88 [==============================] - 46s 525ms/step - loss: 0.0313 - accuracy: 0.9893 - val_loss: 0.3016 - val_accuracy: 0.9312\n",
            "Epoch 15/30\n",
            "88/88 [==============================] - ETA: 0s - loss: 0.0234 - accuracy: 0.9918\n",
            "Epoch 15: val_loss did not improve from 0.30162\n",
            "88/88 [==============================] - 40s 449ms/step - loss: 0.0234 - accuracy: 0.9918 - val_loss: 0.3343 - val_accuracy: 0.9250\n",
            "Epoch 16/30\n",
            "88/88 [==============================] - ETA: 0s - loss: 0.0091 - accuracy: 0.9968\n",
            "Epoch 16: val_loss did not improve from 0.30162\n",
            "88/88 [==============================] - 39s 440ms/step - loss: 0.0091 - accuracy: 0.9968 - val_loss: 0.3236 - val_accuracy: 0.9354\n",
            "Epoch 17/30\n",
            "88/88 [==============================] - ETA: 0s - loss: 0.0155 - accuracy: 0.9943\n",
            "Epoch 17: val_loss did not improve from 0.30162\n",
            "88/88 [==============================] - 39s 446ms/step - loss: 0.0155 - accuracy: 0.9943 - val_loss: 0.3331 - val_accuracy: 0.9417\n",
            "Epoch 18/30\n",
            "88/88 [==============================] - ETA: 0s - loss: 0.0238 - accuracy: 0.9922\n",
            "Epoch 18: val_loss improved from 0.30162 to 0.21604, saving model to classifier-resnet-weights-exp.hdf5\n",
            "88/88 [==============================] - 43s 491ms/step - loss: 0.0238 - accuracy: 0.9922 - val_loss: 0.2160 - val_accuracy: 0.9396\n",
            "Epoch 19/30\n",
            "88/88 [==============================] - ETA: 0s - loss: 0.0262 - accuracy: 0.9890\n",
            "Epoch 19: val_loss did not improve from 0.21604\n",
            "88/88 [==============================] - 40s 448ms/step - loss: 0.0262 - accuracy: 0.9890 - val_loss: 0.4671 - val_accuracy: 0.8833\n",
            "Epoch 20/30\n",
            "88/88 [==============================] - ETA: 0s - loss: 0.0249 - accuracy: 0.9922\n",
            "Epoch 20: val_loss did not improve from 0.21604\n",
            "88/88 [==============================] - 39s 438ms/step - loss: 0.0249 - accuracy: 0.9922 - val_loss: 0.3960 - val_accuracy: 0.9417\n",
            "Epoch 21/30\n",
            "88/88 [==============================] - ETA: 0s - loss: 0.0197 - accuracy: 0.9943\n",
            "Epoch 21: val_loss did not improve from 0.21604\n",
            "88/88 [==============================] - 39s 442ms/step - loss: 0.0197 - accuracy: 0.9943 - val_loss: 0.2431 - val_accuracy: 0.9500\n",
            "Epoch 22/30\n",
            "88/88 [==============================] - ETA: 0s - loss: 0.0113 - accuracy: 0.9964\n",
            "Epoch 22: val_loss did not improve from 0.21604\n",
            "88/88 [==============================] - 39s 444ms/step - loss: 0.0113 - accuracy: 0.9964 - val_loss: 0.2677 - val_accuracy: 0.9354\n",
            "Epoch 23/30\n",
            "88/88 [==============================] - ETA: 0s - loss: 0.0047 - accuracy: 0.9989\n",
            "Epoch 23: val_loss did not improve from 0.21604\n",
            "88/88 [==============================] - 39s 445ms/step - loss: 0.0047 - accuracy: 0.9989 - val_loss: 0.2451 - val_accuracy: 0.9438\n",
            "Epoch 24/30\n",
            "88/88 [==============================] - ETA: 0s - loss: 0.0135 - accuracy: 0.9957\n",
            "Epoch 24: val_loss did not improve from 0.21604\n",
            "88/88 [==============================] - 39s 439ms/step - loss: 0.0135 - accuracy: 0.9957 - val_loss: 0.4164 - val_accuracy: 0.9438\n",
            "Epoch 25/30\n",
            "88/88 [==============================] - ETA: 0s - loss: 0.0109 - accuracy: 0.9961\n",
            "Epoch 25: val_loss did not improve from 0.21604\n",
            "88/88 [==============================] - 39s 444ms/step - loss: 0.0109 - accuracy: 0.9961 - val_loss: 0.3900 - val_accuracy: 0.9187\n",
            "Epoch 26/30\n",
            "88/88 [==============================] - ETA: 0s - loss: 0.0189 - accuracy: 0.9932\n",
            "Epoch 26: val_loss did not improve from 0.21604\n",
            "88/88 [==============================] - 39s 439ms/step - loss: 0.0189 - accuracy: 0.9932 - val_loss: 0.3188 - val_accuracy: 0.9458\n",
            "Epoch 27/30\n",
            "88/88 [==============================] - ETA: 0s - loss: 0.0079 - accuracy: 0.9975\n",
            "Epoch 27: val_loss did not improve from 0.21604\n",
            "88/88 [==============================] - 39s 441ms/step - loss: 0.0079 - accuracy: 0.9975 - val_loss: 0.2431 - val_accuracy: 0.9563\n",
            "Epoch 28/30\n",
            "88/88 [==============================] - ETA: 0s - loss: 0.0070 - accuracy: 0.9989\n",
            "Epoch 28: val_loss did not improve from 0.21604\n",
            "88/88 [==============================] - 39s 445ms/step - loss: 0.0070 - accuracy: 0.9989 - val_loss: 0.3068 - val_accuracy: 0.9458\n",
            "Epoch 29/30\n",
            "88/88 [==============================] - ETA: 0s - loss: 0.0029 - accuracy: 0.9986\n",
            "Epoch 29: val_loss did not improve from 0.21604\n",
            "88/88 [==============================] - 39s 445ms/step - loss: 0.0029 - accuracy: 0.9986 - val_loss: 0.2894 - val_accuracy: 0.9542\n",
            "Epoch 30/30\n",
            "88/88 [==============================] - ETA: 0s - loss: 0.0216 - accuracy: 0.9939\n",
            "Epoch 30: val_loss did not improve from 0.21604\n",
            "88/88 [==============================] - 39s 444ms/step - loss: 0.0216 - accuracy: 0.9939 - val_loss: 0.4321 - val_accuracy: 0.9354\n"
          ]
        }
      ]
    },
    {
      "cell_type": "code",
      "source": [
        "# Interactive graph of the Training and Validation Loss\n",
        "\n",
        "import plotly.graph_objects as go\n",
        "\n",
        "# Access training loss and validation loss from the history\n",
        "train_loss = history.history['loss']\n",
        "val_loss = history.history['val_loss']\n",
        "\n",
        "# Create a range of epochs (e.g., [1, 2, 3, ...])\n",
        "epochs = list(range(1, len(train_loss) + 1))  # Convert range to a list\n",
        "\n",
        "# Create a Plotly figure\n",
        "fig = go.Figure()\n",
        "\n",
        "# Add training loss trace\n",
        "fig.add_trace(go.Scatter(x=epochs, y=train_loss, mode='lines+markers', name='Training Loss'))\n",
        "\n",
        "# Add validation loss trace\n",
        "fig.add_trace(go.Scatter(x=epochs, y=val_loss, mode='lines+markers', name='Validation Loss'))\n",
        "\n",
        "# Set layout options and adjust figure size\n",
        "fig.update_layout(\n",
        "    title='Training and Validation Loss',\n",
        "    xaxis_title='Epochs',\n",
        "    yaxis_title='Loss',\n",
        "    hovermode='closest',  # Enables interactive hovering\n",
        "    width=800,  # Adjust the width in pixels\n",
        "    height=400  # Adjust the height in pixels\n",
        ")\n",
        "\n",
        "# Show the interactive plot\n",
        "fig.show()"
      ],
      "metadata": {
        "colab": {
          "base_uri": "https://localhost:8080/",
          "height": 417
        },
        "id": "NTNdTr3httr1",
        "outputId": "e10d4200-7ece-4350-fab9-4c27c010fcff"
      },
      "execution_count": null,
      "outputs": [
        {
          "output_type": "display_data",
          "data": {
            "text/html": [
              "<html>\n",
              "<head><meta charset=\"utf-8\" /></head>\n",
              "<body>\n",
              "    <div>            <script src=\"https://cdnjs.cloudflare.com/ajax/libs/mathjax/2.7.5/MathJax.js?config=TeX-AMS-MML_SVG\"></script><script type=\"text/javascript\">if (window.MathJax && window.MathJax.Hub && window.MathJax.Hub.Config) {window.MathJax.Hub.Config({SVG: {font: \"STIX-Web\"}});}</script>                <script type=\"text/javascript\">window.PlotlyConfig = {MathJaxConfig: 'local'};</script>\n",
              "        <script charset=\"utf-8\" src=\"https://cdn.plot.ly/plotly-2.24.1.min.js\"></script>                <div id=\"9d433256-00f3-483a-bb0b-7454ae7b6a5a\" class=\"plotly-graph-div\" style=\"height:400px; width:800px;\"></div>            <script type=\"text/javascript\">                                    window.PLOTLYENV=window.PLOTLYENV || {};                                    if (document.getElementById(\"9d433256-00f3-483a-bb0b-7454ae7b6a5a\")) {                    Plotly.newPlot(                        \"9d433256-00f3-483a-bb0b-7454ae7b6a5a\",                        [{\"mode\":\"lines+markers\",\"name\":\"Training Loss\",\"x\":[1,2,3,4,5,6,7,8,9,10,11,12,13,14,15,16,17,18,19,20,21,22,23,24,25,26,27,28,29,30],\"y\":[0.4413580596446991,0.3265007734298706,0.2551861107349396,0.18691326677799225,0.13419754803180695,0.10843268781900406,0.08939778059720993,0.08822574466466904,0.048679955303668976,0.04091814532876015,0.042177122086286545,0.0261122677475214,0.03164931759238243,0.03127557784318924,0.02342364937067032,0.00911257416009903,0.015479613095521927,0.023804813623428345,0.02624366618692875,0.024861730635166168,0.01974843628704548,0.011252387426793575,0.004730494227260351,0.013474042527377605,0.01086802501231432,0.018895799294114113,0.007934240624308586,0.00700886407867074,0.0029294071719050407,0.021562714129686356],\"type\":\"scatter\"},{\"mode\":\"lines+markers\",\"name\":\"Validation Loss\",\"x\":[1,2,3,4,5,6,7,8,9,10,11,12,13,14,15,16,17,18,19,20,21,22,23,24,25,26,27,28,29,30],\"y\":[0.6762624382972717,0.6760960817337036,0.6812206506729126,0.6711586117744446,0.6648187041282654,0.6615827679634094,0.6292827129364014,0.93068528175354,1.2425066232681274,0.6519203782081604,0.38370782136917114,0.3366580307483673,0.3903917670249939,0.3016206622123718,0.3342534303665161,0.3235814869403839,0.33311378955841064,0.21603833138942719,0.4670925438404083,0.3959793150424957,0.2431042194366455,0.26768818497657776,0.24506868422031403,0.41643768548965454,0.3900455832481384,0.3187633454799652,0.2430596500635147,0.3067670464515686,0.28937211632728577,0.43211108446121216],\"type\":\"scatter\"}],                        {\"template\":{\"data\":{\"histogram2dcontour\":[{\"type\":\"histogram2dcontour\",\"colorbar\":{\"outlinewidth\":0,\"ticks\":\"\"},\"colorscale\":[[0.0,\"#0d0887\"],[0.1111111111111111,\"#46039f\"],[0.2222222222222222,\"#7201a8\"],[0.3333333333333333,\"#9c179e\"],[0.4444444444444444,\"#bd3786\"],[0.5555555555555556,\"#d8576b\"],[0.6666666666666666,\"#ed7953\"],[0.7777777777777778,\"#fb9f3a\"],[0.8888888888888888,\"#fdca26\"],[1.0,\"#f0f921\"]]}],\"choropleth\":[{\"type\":\"choropleth\",\"colorbar\":{\"outlinewidth\":0,\"ticks\":\"\"}}],\"histogram2d\":[{\"type\":\"histogram2d\",\"colorbar\":{\"outlinewidth\":0,\"ticks\":\"\"},\"colorscale\":[[0.0,\"#0d0887\"],[0.1111111111111111,\"#46039f\"],[0.2222222222222222,\"#7201a8\"],[0.3333333333333333,\"#9c179e\"],[0.4444444444444444,\"#bd3786\"],[0.5555555555555556,\"#d8576b\"],[0.6666666666666666,\"#ed7953\"],[0.7777777777777778,\"#fb9f3a\"],[0.8888888888888888,\"#fdca26\"],[1.0,\"#f0f921\"]]}],\"heatmap\":[{\"type\":\"heatmap\",\"colorbar\":{\"outlinewidth\":0,\"ticks\":\"\"},\"colorscale\":[[0.0,\"#0d0887\"],[0.1111111111111111,\"#46039f\"],[0.2222222222222222,\"#7201a8\"],[0.3333333333333333,\"#9c179e\"],[0.4444444444444444,\"#bd3786\"],[0.5555555555555556,\"#d8576b\"],[0.6666666666666666,\"#ed7953\"],[0.7777777777777778,\"#fb9f3a\"],[0.8888888888888888,\"#fdca26\"],[1.0,\"#f0f921\"]]}],\"heatmapgl\":[{\"type\":\"heatmapgl\",\"colorbar\":{\"outlinewidth\":0,\"ticks\":\"\"},\"colorscale\":[[0.0,\"#0d0887\"],[0.1111111111111111,\"#46039f\"],[0.2222222222222222,\"#7201a8\"],[0.3333333333333333,\"#9c179e\"],[0.4444444444444444,\"#bd3786\"],[0.5555555555555556,\"#d8576b\"],[0.6666666666666666,\"#ed7953\"],[0.7777777777777778,\"#fb9f3a\"],[0.8888888888888888,\"#fdca26\"],[1.0,\"#f0f921\"]]}],\"contourcarpet\":[{\"type\":\"contourcarpet\",\"colorbar\":{\"outlinewidth\":0,\"ticks\":\"\"}}],\"contour\":[{\"type\":\"contour\",\"colorbar\":{\"outlinewidth\":0,\"ticks\":\"\"},\"colorscale\":[[0.0,\"#0d0887\"],[0.1111111111111111,\"#46039f\"],[0.2222222222222222,\"#7201a8\"],[0.3333333333333333,\"#9c179e\"],[0.4444444444444444,\"#bd3786\"],[0.5555555555555556,\"#d8576b\"],[0.6666666666666666,\"#ed7953\"],[0.7777777777777778,\"#fb9f3a\"],[0.8888888888888888,\"#fdca26\"],[1.0,\"#f0f921\"]]}],\"surface\":[{\"type\":\"surface\",\"colorbar\":{\"outlinewidth\":0,\"ticks\":\"\"},\"colorscale\":[[0.0,\"#0d0887\"],[0.1111111111111111,\"#46039f\"],[0.2222222222222222,\"#7201a8\"],[0.3333333333333333,\"#9c179e\"],[0.4444444444444444,\"#bd3786\"],[0.5555555555555556,\"#d8576b\"],[0.6666666666666666,\"#ed7953\"],[0.7777777777777778,\"#fb9f3a\"],[0.8888888888888888,\"#fdca26\"],[1.0,\"#f0f921\"]]}],\"mesh3d\":[{\"type\":\"mesh3d\",\"colorbar\":{\"outlinewidth\":0,\"ticks\":\"\"}}],\"scatter\":[{\"fillpattern\":{\"fillmode\":\"overlay\",\"size\":10,\"solidity\":0.2},\"type\":\"scatter\"}],\"parcoords\":[{\"type\":\"parcoords\",\"line\":{\"colorbar\":{\"outlinewidth\":0,\"ticks\":\"\"}}}],\"scatterpolargl\":[{\"type\":\"scatterpolargl\",\"marker\":{\"colorbar\":{\"outlinewidth\":0,\"ticks\":\"\"}}}],\"bar\":[{\"error_x\":{\"color\":\"#2a3f5f\"},\"error_y\":{\"color\":\"#2a3f5f\"},\"marker\":{\"line\":{\"color\":\"#E5ECF6\",\"width\":0.5},\"pattern\":{\"fillmode\":\"overlay\",\"size\":10,\"solidity\":0.2}},\"type\":\"bar\"}],\"scattergeo\":[{\"type\":\"scattergeo\",\"marker\":{\"colorbar\":{\"outlinewidth\":0,\"ticks\":\"\"}}}],\"scatterpolar\":[{\"type\":\"scatterpolar\",\"marker\":{\"colorbar\":{\"outlinewidth\":0,\"ticks\":\"\"}}}],\"histogram\":[{\"marker\":{\"pattern\":{\"fillmode\":\"overlay\",\"size\":10,\"solidity\":0.2}},\"type\":\"histogram\"}],\"scattergl\":[{\"type\":\"scattergl\",\"marker\":{\"colorbar\":{\"outlinewidth\":0,\"ticks\":\"\"}}}],\"scatter3d\":[{\"type\":\"scatter3d\",\"line\":{\"colorbar\":{\"outlinewidth\":0,\"ticks\":\"\"}},\"marker\":{\"colorbar\":{\"outlinewidth\":0,\"ticks\":\"\"}}}],\"scattermapbox\":[{\"type\":\"scattermapbox\",\"marker\":{\"colorbar\":{\"outlinewidth\":0,\"ticks\":\"\"}}}],\"scatterternary\":[{\"type\":\"scatterternary\",\"marker\":{\"colorbar\":{\"outlinewidth\":0,\"ticks\":\"\"}}}],\"scattercarpet\":[{\"type\":\"scattercarpet\",\"marker\":{\"colorbar\":{\"outlinewidth\":0,\"ticks\":\"\"}}}],\"carpet\":[{\"aaxis\":{\"endlinecolor\":\"#2a3f5f\",\"gridcolor\":\"white\",\"linecolor\":\"white\",\"minorgridcolor\":\"white\",\"startlinecolor\":\"#2a3f5f\"},\"baxis\":{\"endlinecolor\":\"#2a3f5f\",\"gridcolor\":\"white\",\"linecolor\":\"white\",\"minorgridcolor\":\"white\",\"startlinecolor\":\"#2a3f5f\"},\"type\":\"carpet\"}],\"table\":[{\"cells\":{\"fill\":{\"color\":\"#EBF0F8\"},\"line\":{\"color\":\"white\"}},\"header\":{\"fill\":{\"color\":\"#C8D4E3\"},\"line\":{\"color\":\"white\"}},\"type\":\"table\"}],\"barpolar\":[{\"marker\":{\"line\":{\"color\":\"#E5ECF6\",\"width\":0.5},\"pattern\":{\"fillmode\":\"overlay\",\"size\":10,\"solidity\":0.2}},\"type\":\"barpolar\"}],\"pie\":[{\"automargin\":true,\"type\":\"pie\"}]},\"layout\":{\"autotypenumbers\":\"strict\",\"colorway\":[\"#636efa\",\"#EF553B\",\"#00cc96\",\"#ab63fa\",\"#FFA15A\",\"#19d3f3\",\"#FF6692\",\"#B6E880\",\"#FF97FF\",\"#FECB52\"],\"font\":{\"color\":\"#2a3f5f\"},\"hovermode\":\"closest\",\"hoverlabel\":{\"align\":\"left\"},\"paper_bgcolor\":\"white\",\"plot_bgcolor\":\"#E5ECF6\",\"polar\":{\"bgcolor\":\"#E5ECF6\",\"angularaxis\":{\"gridcolor\":\"white\",\"linecolor\":\"white\",\"ticks\":\"\"},\"radialaxis\":{\"gridcolor\":\"white\",\"linecolor\":\"white\",\"ticks\":\"\"}},\"ternary\":{\"bgcolor\":\"#E5ECF6\",\"aaxis\":{\"gridcolor\":\"white\",\"linecolor\":\"white\",\"ticks\":\"\"},\"baxis\":{\"gridcolor\":\"white\",\"linecolor\":\"white\",\"ticks\":\"\"},\"caxis\":{\"gridcolor\":\"white\",\"linecolor\":\"white\",\"ticks\":\"\"}},\"coloraxis\":{\"colorbar\":{\"outlinewidth\":0,\"ticks\":\"\"}},\"colorscale\":{\"sequential\":[[0.0,\"#0d0887\"],[0.1111111111111111,\"#46039f\"],[0.2222222222222222,\"#7201a8\"],[0.3333333333333333,\"#9c179e\"],[0.4444444444444444,\"#bd3786\"],[0.5555555555555556,\"#d8576b\"],[0.6666666666666666,\"#ed7953\"],[0.7777777777777778,\"#fb9f3a\"],[0.8888888888888888,\"#fdca26\"],[1.0,\"#f0f921\"]],\"sequentialminus\":[[0.0,\"#0d0887\"],[0.1111111111111111,\"#46039f\"],[0.2222222222222222,\"#7201a8\"],[0.3333333333333333,\"#9c179e\"],[0.4444444444444444,\"#bd3786\"],[0.5555555555555556,\"#d8576b\"],[0.6666666666666666,\"#ed7953\"],[0.7777777777777778,\"#fb9f3a\"],[0.8888888888888888,\"#fdca26\"],[1.0,\"#f0f921\"]],\"diverging\":[[0,\"#8e0152\"],[0.1,\"#c51b7d\"],[0.2,\"#de77ae\"],[0.3,\"#f1b6da\"],[0.4,\"#fde0ef\"],[0.5,\"#f7f7f7\"],[0.6,\"#e6f5d0\"],[0.7,\"#b8e186\"],[0.8,\"#7fbc41\"],[0.9,\"#4d9221\"],[1,\"#276419\"]]},\"xaxis\":{\"gridcolor\":\"white\",\"linecolor\":\"white\",\"ticks\":\"\",\"title\":{\"standoff\":15},\"zerolinecolor\":\"white\",\"automargin\":true,\"zerolinewidth\":2},\"yaxis\":{\"gridcolor\":\"white\",\"linecolor\":\"white\",\"ticks\":\"\",\"title\":{\"standoff\":15},\"zerolinecolor\":\"white\",\"automargin\":true,\"zerolinewidth\":2},\"scene\":{\"xaxis\":{\"backgroundcolor\":\"#E5ECF6\",\"gridcolor\":\"white\",\"linecolor\":\"white\",\"showbackground\":true,\"ticks\":\"\",\"zerolinecolor\":\"white\",\"gridwidth\":2},\"yaxis\":{\"backgroundcolor\":\"#E5ECF6\",\"gridcolor\":\"white\",\"linecolor\":\"white\",\"showbackground\":true,\"ticks\":\"\",\"zerolinecolor\":\"white\",\"gridwidth\":2},\"zaxis\":{\"backgroundcolor\":\"#E5ECF6\",\"gridcolor\":\"white\",\"linecolor\":\"white\",\"showbackground\":true,\"ticks\":\"\",\"zerolinecolor\":\"white\",\"gridwidth\":2}},\"shapedefaults\":{\"line\":{\"color\":\"#2a3f5f\"}},\"annotationdefaults\":{\"arrowcolor\":\"#2a3f5f\",\"arrowhead\":0,\"arrowwidth\":1},\"geo\":{\"bgcolor\":\"white\",\"landcolor\":\"#E5ECF6\",\"subunitcolor\":\"white\",\"showland\":true,\"showlakes\":true,\"lakecolor\":\"white\"},\"title\":{\"x\":0.05},\"mapbox\":{\"style\":\"light\"}}},\"title\":{\"text\":\"Training and Validation Loss\"},\"xaxis\":{\"title\":{\"text\":\"Epochs\"}},\"yaxis\":{\"title\":{\"text\":\"Loss\"}},\"hovermode\":\"closest\",\"width\":800,\"height\":400},                        {\"responsive\": true}                    ).then(function(){\n",
              "                            \n",
              "var gd = document.getElementById('9d433256-00f3-483a-bb0b-7454ae7b6a5a');\n",
              "var x = new MutationObserver(function (mutations, observer) {{\n",
              "        var display = window.getComputedStyle(gd).display;\n",
              "        if (!display || display === 'none') {{\n",
              "            console.log([gd, 'removed!']);\n",
              "            Plotly.purge(gd);\n",
              "            observer.disconnect();\n",
              "        }}\n",
              "}});\n",
              "\n",
              "// Listen for the removal of the full notebook cells\n",
              "var notebookContainer = gd.closest('#notebook-container');\n",
              "if (notebookContainer) {{\n",
              "    x.observe(notebookContainer, {childList: true});\n",
              "}}\n",
              "\n",
              "// Listen for the clearing of the current output cell\n",
              "var outputEl = gd.closest('.output');\n",
              "if (outputEl) {{\n",
              "    x.observe(outputEl, {childList: true});\n",
              "}}\n",
              "\n",
              "                        })                };                            </script>        </div>\n",
              "</body>\n",
              "</html>"
            ]
          },
          "metadata": {}
        }
      ]
    },
    {
      "cell_type": "code",
      "source": [
        "# Interactive graph of the Training and Validation Accuracy\n",
        "\n",
        "# Access training accuracy and validation accuracy from the history\n",
        "train_accuracy = history.history['accuracy']\n",
        "val_accuracy = history.history['val_accuracy']\n",
        "\n",
        "# Create a range of epochs (e.g., [1, 2, 3, ...])\n",
        "epochs = list(range(1, len(train_accuracy) + 1))  # Convert range to a list\n",
        "\n",
        "# Create a Plotly figure\n",
        "fig = go.Figure()\n",
        "\n",
        "# Add training accuracy trace\n",
        "fig.add_trace(go.Scatter(x=epochs, y=train_accuracy, mode='lines+markers', name='Training Accuracy'))\n",
        "\n",
        "# Add validation accuracy trace\n",
        "fig.add_trace(go.Scatter(x=epochs, y=val_accuracy, mode='lines+markers', name='Validation Accuracy'))\n",
        "\n",
        "# Set layout options and adjust figure size\n",
        "fig.update_layout(\n",
        "    title='Training and Validation Accuracy',\n",
        "    xaxis_title='Epochs',\n",
        "    yaxis_title='Accuracy',\n",
        "    hovermode='closest',  # Enables interactive hovering\n",
        "    width=800,  # Adjust the width in pixels\n",
        "    height=400  # Adjust the height in pixels\n",
        ")\n",
        "\n",
        "# Show the interactive plot\n",
        "fig.show()"
      ],
      "metadata": {
        "colab": {
          "base_uri": "https://localhost:8080/",
          "height": 417
        },
        "id": "GC5yEwBktt0k",
        "outputId": "e40bbe4b-131e-42ce-f64f-a6a184d3c418"
      },
      "execution_count": null,
      "outputs": [
        {
          "output_type": "display_data",
          "data": {
            "text/html": [
              "<html>\n",
              "<head><meta charset=\"utf-8\" /></head>\n",
              "<body>\n",
              "    <div>            <script src=\"https://cdnjs.cloudflare.com/ajax/libs/mathjax/2.7.5/MathJax.js?config=TeX-AMS-MML_SVG\"></script><script type=\"text/javascript\">if (window.MathJax && window.MathJax.Hub && window.MathJax.Hub.Config) {window.MathJax.Hub.Config({SVG: {font: \"STIX-Web\"}});}</script>                <script type=\"text/javascript\">window.PlotlyConfig = {MathJaxConfig: 'local'};</script>\n",
              "        <script charset=\"utf-8\" src=\"https://cdn.plot.ly/plotly-2.24.1.min.js\"></script>                <div id=\"d5ac4c29-c4bd-4f18-9f8e-70ce2440ff2b\" class=\"plotly-graph-div\" style=\"height:400px; width:800px;\"></div>            <script type=\"text/javascript\">                                    window.PLOTLYENV=window.PLOTLYENV || {};                                    if (document.getElementById(\"d5ac4c29-c4bd-4f18-9f8e-70ce2440ff2b\")) {                    Plotly.newPlot(                        \"d5ac4c29-c4bd-4f18-9f8e-70ce2440ff2b\",                        [{\"mode\":\"lines+markers\",\"name\":\"Training Accuracy\",\"x\":[1,2,3,4,5,6,7,8,9,10,11,12,13,14,15,16,17,18,19,20,21,22,23,24,25,26,27,28,29,30],\"y\":[0.7844673991203308,0.8496615886688232,0.8934805989265442,0.9319558143615723,0.9497684240341187,0.9568935036659241,0.96686851978302,0.9693623185157776,0.9839686751365662,0.9882436990737915,0.9857499003410339,0.9910936951637268,0.9893124103546143,0.9893124103546143,0.9918062090873718,0.9967937469482422,0.9942999482154846,0.9921624660491943,0.9889561533927917,0.9921624660491943,0.9942999482154846,0.9964374899864197,0.9989312291145325,0.9957249760627747,0.9960812330245972,0.9932312369346619,0.9975062608718872,0.9989312291145325,0.99857497215271,0.9939436912536621],\"type\":\"scatter\"},{\"mode\":\"lines+markers\",\"name\":\"Validation Accuracy\",\"x\":[1,2,3,4,5,6,7,8,9,10,11,12,13,14,15,16,17,18,19,20,21,22,23,24,25,26,27,28,29,30],\"y\":[0.6645833253860474,0.6625000238418579,0.6666666865348816,0.65625,0.6520833373069763,0.6541666388511658,0.6166666746139526,0.6458333134651184,0.6729166507720947,0.7479166388511658,0.8895833492279053,0.9104166626930237,0.9145833253860474,0.9312499761581421,0.925000011920929,0.9354166388511658,0.9416666626930237,0.9395833611488342,0.8833333253860474,0.9416666626930237,0.949999988079071,0.9354166388511658,0.9437500238418579,0.9437500238418579,0.918749988079071,0.9458333253860474,0.956250011920929,0.9458333253860474,0.9541666507720947,0.9354166388511658],\"type\":\"scatter\"}],                        {\"template\":{\"data\":{\"histogram2dcontour\":[{\"type\":\"histogram2dcontour\",\"colorbar\":{\"outlinewidth\":0,\"ticks\":\"\"},\"colorscale\":[[0.0,\"#0d0887\"],[0.1111111111111111,\"#46039f\"],[0.2222222222222222,\"#7201a8\"],[0.3333333333333333,\"#9c179e\"],[0.4444444444444444,\"#bd3786\"],[0.5555555555555556,\"#d8576b\"],[0.6666666666666666,\"#ed7953\"],[0.7777777777777778,\"#fb9f3a\"],[0.8888888888888888,\"#fdca26\"],[1.0,\"#f0f921\"]]}],\"choropleth\":[{\"type\":\"choropleth\",\"colorbar\":{\"outlinewidth\":0,\"ticks\":\"\"}}],\"histogram2d\":[{\"type\":\"histogram2d\",\"colorbar\":{\"outlinewidth\":0,\"ticks\":\"\"},\"colorscale\":[[0.0,\"#0d0887\"],[0.1111111111111111,\"#46039f\"],[0.2222222222222222,\"#7201a8\"],[0.3333333333333333,\"#9c179e\"],[0.4444444444444444,\"#bd3786\"],[0.5555555555555556,\"#d8576b\"],[0.6666666666666666,\"#ed7953\"],[0.7777777777777778,\"#fb9f3a\"],[0.8888888888888888,\"#fdca26\"],[1.0,\"#f0f921\"]]}],\"heatmap\":[{\"type\":\"heatmap\",\"colorbar\":{\"outlinewidth\":0,\"ticks\":\"\"},\"colorscale\":[[0.0,\"#0d0887\"],[0.1111111111111111,\"#46039f\"],[0.2222222222222222,\"#7201a8\"],[0.3333333333333333,\"#9c179e\"],[0.4444444444444444,\"#bd3786\"],[0.5555555555555556,\"#d8576b\"],[0.6666666666666666,\"#ed7953\"],[0.7777777777777778,\"#fb9f3a\"],[0.8888888888888888,\"#fdca26\"],[1.0,\"#f0f921\"]]}],\"heatmapgl\":[{\"type\":\"heatmapgl\",\"colorbar\":{\"outlinewidth\":0,\"ticks\":\"\"},\"colorscale\":[[0.0,\"#0d0887\"],[0.1111111111111111,\"#46039f\"],[0.2222222222222222,\"#7201a8\"],[0.3333333333333333,\"#9c179e\"],[0.4444444444444444,\"#bd3786\"],[0.5555555555555556,\"#d8576b\"],[0.6666666666666666,\"#ed7953\"],[0.7777777777777778,\"#fb9f3a\"],[0.8888888888888888,\"#fdca26\"],[1.0,\"#f0f921\"]]}],\"contourcarpet\":[{\"type\":\"contourcarpet\",\"colorbar\":{\"outlinewidth\":0,\"ticks\":\"\"}}],\"contour\":[{\"type\":\"contour\",\"colorbar\":{\"outlinewidth\":0,\"ticks\":\"\"},\"colorscale\":[[0.0,\"#0d0887\"],[0.1111111111111111,\"#46039f\"],[0.2222222222222222,\"#7201a8\"],[0.3333333333333333,\"#9c179e\"],[0.4444444444444444,\"#bd3786\"],[0.5555555555555556,\"#d8576b\"],[0.6666666666666666,\"#ed7953\"],[0.7777777777777778,\"#fb9f3a\"],[0.8888888888888888,\"#fdca26\"],[1.0,\"#f0f921\"]]}],\"surface\":[{\"type\":\"surface\",\"colorbar\":{\"outlinewidth\":0,\"ticks\":\"\"},\"colorscale\":[[0.0,\"#0d0887\"],[0.1111111111111111,\"#46039f\"],[0.2222222222222222,\"#7201a8\"],[0.3333333333333333,\"#9c179e\"],[0.4444444444444444,\"#bd3786\"],[0.5555555555555556,\"#d8576b\"],[0.6666666666666666,\"#ed7953\"],[0.7777777777777778,\"#fb9f3a\"],[0.8888888888888888,\"#fdca26\"],[1.0,\"#f0f921\"]]}],\"mesh3d\":[{\"type\":\"mesh3d\",\"colorbar\":{\"outlinewidth\":0,\"ticks\":\"\"}}],\"scatter\":[{\"fillpattern\":{\"fillmode\":\"overlay\",\"size\":10,\"solidity\":0.2},\"type\":\"scatter\"}],\"parcoords\":[{\"type\":\"parcoords\",\"line\":{\"colorbar\":{\"outlinewidth\":0,\"ticks\":\"\"}}}],\"scatterpolargl\":[{\"type\":\"scatterpolargl\",\"marker\":{\"colorbar\":{\"outlinewidth\":0,\"ticks\":\"\"}}}],\"bar\":[{\"error_x\":{\"color\":\"#2a3f5f\"},\"error_y\":{\"color\":\"#2a3f5f\"},\"marker\":{\"line\":{\"color\":\"#E5ECF6\",\"width\":0.5},\"pattern\":{\"fillmode\":\"overlay\",\"size\":10,\"solidity\":0.2}},\"type\":\"bar\"}],\"scattergeo\":[{\"type\":\"scattergeo\",\"marker\":{\"colorbar\":{\"outlinewidth\":0,\"ticks\":\"\"}}}],\"scatterpolar\":[{\"type\":\"scatterpolar\",\"marker\":{\"colorbar\":{\"outlinewidth\":0,\"ticks\":\"\"}}}],\"histogram\":[{\"marker\":{\"pattern\":{\"fillmode\":\"overlay\",\"size\":10,\"solidity\":0.2}},\"type\":\"histogram\"}],\"scattergl\":[{\"type\":\"scattergl\",\"marker\":{\"colorbar\":{\"outlinewidth\":0,\"ticks\":\"\"}}}],\"scatter3d\":[{\"type\":\"scatter3d\",\"line\":{\"colorbar\":{\"outlinewidth\":0,\"ticks\":\"\"}},\"marker\":{\"colorbar\":{\"outlinewidth\":0,\"ticks\":\"\"}}}],\"scattermapbox\":[{\"type\":\"scattermapbox\",\"marker\":{\"colorbar\":{\"outlinewidth\":0,\"ticks\":\"\"}}}],\"scatterternary\":[{\"type\":\"scatterternary\",\"marker\":{\"colorbar\":{\"outlinewidth\":0,\"ticks\":\"\"}}}],\"scattercarpet\":[{\"type\":\"scattercarpet\",\"marker\":{\"colorbar\":{\"outlinewidth\":0,\"ticks\":\"\"}}}],\"carpet\":[{\"aaxis\":{\"endlinecolor\":\"#2a3f5f\",\"gridcolor\":\"white\",\"linecolor\":\"white\",\"minorgridcolor\":\"white\",\"startlinecolor\":\"#2a3f5f\"},\"baxis\":{\"endlinecolor\":\"#2a3f5f\",\"gridcolor\":\"white\",\"linecolor\":\"white\",\"minorgridcolor\":\"white\",\"startlinecolor\":\"#2a3f5f\"},\"type\":\"carpet\"}],\"table\":[{\"cells\":{\"fill\":{\"color\":\"#EBF0F8\"},\"line\":{\"color\":\"white\"}},\"header\":{\"fill\":{\"color\":\"#C8D4E3\"},\"line\":{\"color\":\"white\"}},\"type\":\"table\"}],\"barpolar\":[{\"marker\":{\"line\":{\"color\":\"#E5ECF6\",\"width\":0.5},\"pattern\":{\"fillmode\":\"overlay\",\"size\":10,\"solidity\":0.2}},\"type\":\"barpolar\"}],\"pie\":[{\"automargin\":true,\"type\":\"pie\"}]},\"layout\":{\"autotypenumbers\":\"strict\",\"colorway\":[\"#636efa\",\"#EF553B\",\"#00cc96\",\"#ab63fa\",\"#FFA15A\",\"#19d3f3\",\"#FF6692\",\"#B6E880\",\"#FF97FF\",\"#FECB52\"],\"font\":{\"color\":\"#2a3f5f\"},\"hovermode\":\"closest\",\"hoverlabel\":{\"align\":\"left\"},\"paper_bgcolor\":\"white\",\"plot_bgcolor\":\"#E5ECF6\",\"polar\":{\"bgcolor\":\"#E5ECF6\",\"angularaxis\":{\"gridcolor\":\"white\",\"linecolor\":\"white\",\"ticks\":\"\"},\"radialaxis\":{\"gridcolor\":\"white\",\"linecolor\":\"white\",\"ticks\":\"\"}},\"ternary\":{\"bgcolor\":\"#E5ECF6\",\"aaxis\":{\"gridcolor\":\"white\",\"linecolor\":\"white\",\"ticks\":\"\"},\"baxis\":{\"gridcolor\":\"white\",\"linecolor\":\"white\",\"ticks\":\"\"},\"caxis\":{\"gridcolor\":\"white\",\"linecolor\":\"white\",\"ticks\":\"\"}},\"coloraxis\":{\"colorbar\":{\"outlinewidth\":0,\"ticks\":\"\"}},\"colorscale\":{\"sequential\":[[0.0,\"#0d0887\"],[0.1111111111111111,\"#46039f\"],[0.2222222222222222,\"#7201a8\"],[0.3333333333333333,\"#9c179e\"],[0.4444444444444444,\"#bd3786\"],[0.5555555555555556,\"#d8576b\"],[0.6666666666666666,\"#ed7953\"],[0.7777777777777778,\"#fb9f3a\"],[0.8888888888888888,\"#fdca26\"],[1.0,\"#f0f921\"]],\"sequentialminus\":[[0.0,\"#0d0887\"],[0.1111111111111111,\"#46039f\"],[0.2222222222222222,\"#7201a8\"],[0.3333333333333333,\"#9c179e\"],[0.4444444444444444,\"#bd3786\"],[0.5555555555555556,\"#d8576b\"],[0.6666666666666666,\"#ed7953\"],[0.7777777777777778,\"#fb9f3a\"],[0.8888888888888888,\"#fdca26\"],[1.0,\"#f0f921\"]],\"diverging\":[[0,\"#8e0152\"],[0.1,\"#c51b7d\"],[0.2,\"#de77ae\"],[0.3,\"#f1b6da\"],[0.4,\"#fde0ef\"],[0.5,\"#f7f7f7\"],[0.6,\"#e6f5d0\"],[0.7,\"#b8e186\"],[0.8,\"#7fbc41\"],[0.9,\"#4d9221\"],[1,\"#276419\"]]},\"xaxis\":{\"gridcolor\":\"white\",\"linecolor\":\"white\",\"ticks\":\"\",\"title\":{\"standoff\":15},\"zerolinecolor\":\"white\",\"automargin\":true,\"zerolinewidth\":2},\"yaxis\":{\"gridcolor\":\"white\",\"linecolor\":\"white\",\"ticks\":\"\",\"title\":{\"standoff\":15},\"zerolinecolor\":\"white\",\"automargin\":true,\"zerolinewidth\":2},\"scene\":{\"xaxis\":{\"backgroundcolor\":\"#E5ECF6\",\"gridcolor\":\"white\",\"linecolor\":\"white\",\"showbackground\":true,\"ticks\":\"\",\"zerolinecolor\":\"white\",\"gridwidth\":2},\"yaxis\":{\"backgroundcolor\":\"#E5ECF6\",\"gridcolor\":\"white\",\"linecolor\":\"white\",\"showbackground\":true,\"ticks\":\"\",\"zerolinecolor\":\"white\",\"gridwidth\":2},\"zaxis\":{\"backgroundcolor\":\"#E5ECF6\",\"gridcolor\":\"white\",\"linecolor\":\"white\",\"showbackground\":true,\"ticks\":\"\",\"zerolinecolor\":\"white\",\"gridwidth\":2}},\"shapedefaults\":{\"line\":{\"color\":\"#2a3f5f\"}},\"annotationdefaults\":{\"arrowcolor\":\"#2a3f5f\",\"arrowhead\":0,\"arrowwidth\":1},\"geo\":{\"bgcolor\":\"white\",\"landcolor\":\"#E5ECF6\",\"subunitcolor\":\"white\",\"showland\":true,\"showlakes\":true,\"lakecolor\":\"white\"},\"title\":{\"x\":0.05},\"mapbox\":{\"style\":\"light\"}}},\"title\":{\"text\":\"Training and Validation Accuracy\"},\"xaxis\":{\"title\":{\"text\":\"Epochs\"}},\"yaxis\":{\"title\":{\"text\":\"Accuracy\"}},\"hovermode\":\"closest\",\"width\":800,\"height\":400},                        {\"responsive\": true}                    ).then(function(){\n",
              "                            \n",
              "var gd = document.getElementById('d5ac4c29-c4bd-4f18-9f8e-70ce2440ff2b');\n",
              "var x = new MutationObserver(function (mutations, observer) {{\n",
              "        var display = window.getComputedStyle(gd).display;\n",
              "        if (!display || display === 'none') {{\n",
              "            console.log([gd, 'removed!']);\n",
              "            Plotly.purge(gd);\n",
              "            observer.disconnect();\n",
              "        }}\n",
              "}});\n",
              "\n",
              "// Listen for the removal of the full notebook cells\n",
              "var notebookContainer = gd.closest('#notebook-container');\n",
              "if (notebookContainer) {{\n",
              "    x.observe(notebookContainer, {childList: true});\n",
              "}}\n",
              "\n",
              "// Listen for the clearing of the current output cell\n",
              "var outputEl = gd.closest('.output');\n",
              "if (outputEl) {{\n",
              "    x.observe(outputEl, {childList: true});\n",
              "}}\n",
              "\n",
              "                        })                };                            </script>        </div>\n",
              "</body>\n",
              "</html>"
            ]
          },
          "metadata": {}
        }
      ]
    },
    {
      "cell_type": "markdown",
      "source": [
        "#B: ASSESS TRAINED MODEL PERFORMANCE (ResNet)"
      ],
      "metadata": {
        "id": "-Hva-5bXt-FK"
      }
    },
    {
      "cell_type": "code",
      "source": [
        "# Load pretrained model (instead of training the model for 1+ hours)\n",
        "\n",
        "with open('resnet-50-MRI.json', 'r') as json_file:\n",
        "    json_savedModel= json_file.read()\n",
        "\n",
        "# load the model\n",
        "\n",
        "model = tf.keras.models.model_from_json(json_savedModel)\n",
        "model.load_weights('weights.hdf5')\n",
        "model.compile(loss = 'categorical_crossentropy', optimizer='adam', metrics= [\"accuracy\"])"
      ],
      "metadata": {
        "id": "Vb9RptfGtt55"
      },
      "execution_count": null,
      "outputs": []
    },
    {
      "cell_type": "code",
      "source": [
        "# make prediction\n",
        "\n",
        "test_predict = model.predict(test_generator, steps = test_generator.n // 32, verbose =1)"
      ],
      "metadata": {
        "colab": {
          "base_uri": "https://localhost:8080/"
        },
        "id": "vcN7jWjWuMjQ",
        "outputId": "80fb754a-e2d1-42c3-e835-16f15ea6c1a0"
      },
      "execution_count": null,
      "outputs": [
        {
          "output_type": "stream",
          "name": "stdout",
          "text": [
            "18/18 [==============================] - 5s 295ms/step\n"
          ]
        }
      ]
    },
    {
      "cell_type": "code",
      "source": [
        "test_predict.shape"
      ],
      "metadata": {
        "colab": {
          "base_uri": "https://localhost:8080/"
        },
        "id": "LOipAvmwuMmM",
        "outputId": "8a6b6d21-6c10-4e73-af86-d518b1dc4dd5"
      },
      "execution_count": null,
      "outputs": [
        {
          "output_type": "execute_result",
          "data": {
            "text/plain": [
              "(576, 2)"
            ]
          },
          "metadata": {},
          "execution_count": 36
        }
      ]
    },
    {
      "cell_type": "code",
      "source": [
        "# Obtain the predicted class from the model prediction\n",
        "\n",
        "predict = []\n",
        "\n",
        "for i in test_predict:\n",
        "  predict.append(str(np.argmax(i)))\n",
        "\n",
        "predict = np.asarray(predict)"
      ],
      "metadata": {
        "id": "RDkT2Q8mAmOz"
      },
      "execution_count": null,
      "outputs": []
    },
    {
      "cell_type": "code",
      "source": [
        "predict"
      ],
      "metadata": {
        "colab": {
          "base_uri": "https://localhost:8080/"
        },
        "id": "V0uRgna9uMoT",
        "outputId": "9c056a9a-de7d-46a4-eec8-8a98a4031231"
      },
      "execution_count": null,
      "outputs": [
        {
          "output_type": "execute_result",
          "data": {
            "text/plain": [
              "array(['0', '1', '0', '1', '1', '0', '0', '1', '1', '1', '0', '1', '0',\n",
              "       '0', '0', '0', '0', '0', '0', '1', '0', '0', '0', '1', '0', '0',\n",
              "       '0', '0', '0', '1', '1', '1', '0', '0', '0', '0', '1', '0', '0',\n",
              "       '0', '0', '0', '0', '0', '0', '0', '0', '0', '0', '0', '1', '0',\n",
              "       '0', '1', '0', '1', '0', '0', '1', '0', '0', '0', '0', '0', '0',\n",
              "       '0', '1', '0', '0', '1', '0', '0', '0', '1', '1', '1', '1', '1',\n",
              "       '1', '0', '1', '0', '0', '0', '1', '0', '0', '1', '0', '1', '0',\n",
              "       '1', '0', '0', '0', '0', '1', '1', '0', '0', '0', '1', '0', '1',\n",
              "       '1', '0', '0', '0', '0', '1', '1', '1', '0', '1', '0', '0', '1',\n",
              "       '0', '1', '0', '0', '1', '1', '1', '0', '0', '1', '0', '1', '1',\n",
              "       '1', '0', '0', '0', '0', '0', '0', '1', '0', '0', '1', '1', '1',\n",
              "       '0', '0', '0', '1', '1', '0', '0', '1', '1', '1', '1', '0', '0',\n",
              "       '0', '0', '0', '0', '0', '1', '1', '0', '0', '0', '0', '1', '1',\n",
              "       '0', '0', '1', '0', '0', '0', '0', '0', '1', '1', '0', '1', '0',\n",
              "       '1', '0', '0', '0', '0', '0', '1', '0', '0', '1', '0', '0', '0',\n",
              "       '0', '0', '1', '0', '1', '0', '0', '0', '0', '1', '1', '1', '1',\n",
              "       '1', '0', '0', '0', '0', '0', '0', '0', '0', '0', '1', '0', '1',\n",
              "       '0', '1', '1', '0', '1', '1', '1', '1', '0', '1', '0', '1', '0',\n",
              "       '0', '0', '0', '0', '0', '1', '1', '1', '0', '0', '1', '0', '1',\n",
              "       '0', '0', '1', '0', '0', '0', '0', '0', '0', '0', '0', '0', '1',\n",
              "       '0', '0', '0', '0', '0', '0', '1', '0', '0', '1', '0', '0', '0',\n",
              "       '0', '0', '0', '0', '0', '0', '0', '0', '1', '1', '0', '0', '0',\n",
              "       '0', '1', '1', '0', '0', '0', '0', '1', '0', '1', '0', '1', '0',\n",
              "       '1', '1', '0', '1', '0', '0', '1', '0', '1', '0', '0', '1', '0',\n",
              "       '0', '0', '0', '1', '0', '1', '1', '0', '0', '0', '1', '1', '0',\n",
              "       '0', '0', '0', '0', '1', '0', '1', '1', '1', '0', '0', '0', '1',\n",
              "       '0', '0', '1', '0', '1', '1', '0', '1', '1', '1', '1', '0', '0',\n",
              "       '1', '1', '0', '1', '0', '0', '1', '1', '1', '1', '0', '0', '0',\n",
              "       '0', '0', '1', '1', '0', '0', '0', '0', '0', '1', '1', '0', '0',\n",
              "       '1', '1', '1', '0', '0', '1', '0', '0', '0', '0', '0', '0', '1',\n",
              "       '1', '0', '1', '0', '1', '0', '0', '0', '1', '1', '0', '1', '1',\n",
              "       '1', '0', '0', '1', '0', '0', '0', '1', '0', '0', '0', '0', '0',\n",
              "       '1', '0', '1', '1', '1', '0', '1', '1', '0', '0', '1', '1', '0',\n",
              "       '0', '1', '0', '1', '0', '0', '1', '1', '1', '0', '1', '1', '1',\n",
              "       '0', '0', '1', '1', '1', '0', '0', '0', '0', '0', '0', '1', '1',\n",
              "       '0', '0', '1', '0', '0', '1', '0', '0', '0', '1', '1', '0', '1',\n",
              "       '0', '1', '1', '1', '1', '1', '1', '1', '1', '0', '1', '0', '0',\n",
              "       '0', '0', '1', '0', '1', '0', '0', '1', '0', '0', '0', '0', '1',\n",
              "       '0', '0', '0', '1', '0', '1', '0', '0', '0', '0', '0', '0', '0',\n",
              "       '1', '0', '0', '0', '1', '0', '0', '0', '0', '0', '0', '0', '0',\n",
              "       '0', '0', '0', '0', '1', '1', '1', '0', '0', '1', '0', '0', '0',\n",
              "       '0', '0', '1', '0', '0', '0', '0', '0', '0', '0', '0', '0', '0',\n",
              "       '0', '0', '1', '1', '0', '1', '1', '0', '0', '1', '0', '1', '0',\n",
              "       '1', '0', '0', '0', '1', '1', '1', '0', '1', '0', '0', '1', '0',\n",
              "       '1', '0', '0', '0'], dtype='<U1')"
            ]
          },
          "metadata": {},
          "execution_count": 39
        }
      ]
    },
    {
      "cell_type": "code",
      "source": [
        "# since we have used test generator, it limited the images to len(predict), due to batch size\n",
        "\n",
        "original = np.asarray(test['mask'])[:len(predict)]\n",
        "len(original)"
      ],
      "metadata": {
        "colab": {
          "base_uri": "https://localhost:8080/"
        },
        "id": "pLmGAPdnuMrM",
        "outputId": "4364fb3d-7e37-4b60-9d23-7da750d317f6"
      },
      "execution_count": null,
      "outputs": [
        {
          "output_type": "execute_result",
          "data": {
            "text/plain": [
              "576"
            ]
          },
          "metadata": {},
          "execution_count": 40
        }
      ]
    },
    {
      "cell_type": "code",
      "source": [
        "# Obtain the accuracy of the model\n",
        "\n",
        "from sklearn.metrics import accuracy_score\n",
        "\n",
        "accuracy = accuracy_score(original, predict)\n",
        "\n",
        "print(\"Model Accuracy: \", accuracy)"
      ],
      "metadata": {
        "colab": {
          "base_uri": "https://localhost:8080/"
        },
        "id": "vTOMeIl3uVyr",
        "outputId": "866f7446-6667-4381-828e-7e2bed539444"
      },
      "execution_count": null,
      "outputs": [
        {
          "output_type": "stream",
          "name": "stdout",
          "text": [
            "Model Accuracy:  0.9878472222222222\n"
          ]
        }
      ]
    },
    {
      "cell_type": "code",
      "source": [
        "# Classification Report\n",
        "\n",
        "from sklearn.metrics import classification_report\n",
        "\n",
        "report = classification_report(original, predict, labels = [0,1])\n",
        "print(report)"
      ],
      "metadata": {
        "colab": {
          "base_uri": "https://localhost:8080/"
        },
        "id": "SLptns1suV16",
        "outputId": "966997b9-a0c1-4e33-b7c8-03f592eee576"
      },
      "execution_count": null,
      "outputs": [
        {
          "output_type": "stream",
          "name": "stdout",
          "text": [
            "              precision    recall  f1-score   support\n",
            "\n",
            "           0       0.99      0.99      0.99       361\n",
            "           1       0.99      0.98      0.98       215\n",
            "\n",
            "   micro avg       0.99      0.99      0.99       576\n",
            "   macro avg       0.99      0.99      0.99       576\n",
            "weighted avg       0.99      0.99      0.99       576\n",
            "\n"
          ]
        },
        {
          "output_type": "stream",
          "name": "stderr",
          "text": [
            "/usr/local/lib/python3.10/dist-packages/numpy/lib/arraysetops.py:608: FutureWarning:\n",
            "\n",
            "elementwise comparison failed; returning scalar instead, but in the future will perform elementwise comparison\n",
            "\n",
            "/usr/local/lib/python3.10/dist-packages/numpy/lib/arraysetops.py:608: FutureWarning:\n",
            "\n",
            "elementwise comparison failed; returning scalar instead, but in the future will perform elementwise comparison\n",
            "\n",
            "/usr/local/lib/python3.10/dist-packages/numpy/lib/arraysetops.py:608: FutureWarning:\n",
            "\n",
            "elementwise comparison failed; returning scalar instead, but in the future will perform elementwise comparison\n",
            "\n",
            "/usr/local/lib/python3.10/dist-packages/numpy/lib/arraysetops.py:608: FutureWarning:\n",
            "\n",
            "elementwise comparison failed; returning scalar instead, but in the future will perform elementwise comparison\n",
            "\n"
          ]
        }
      ]
    },
    {
      "cell_type": "code",
      "source": [
        "from sklearn.metrics import confusion_matrix\n",
        "\n",
        "# Calculate the confusion matrix\n",
        "cm = confusion_matrix(original, predict)\n",
        "\n",
        "# Define class labels\n",
        "class_labels = [\"(0, 'No')\", \"(1, 'Yes')\"]\n",
        "\n",
        "# Create a figure and axis for the confusion matrix\n",
        "plt.figure(figsize=(4, 4))\n",
        "sns.heatmap(cm, annot=True, fmt='d', cmap='Blues', xticklabels=class_labels, yticklabels=class_labels)\n",
        "\n",
        "# Add labels and title\n",
        "plt.xlabel('Predicted')\n",
        "plt.ylabel('Actual')\n",
        "plt.title('Confusion Matrix')\n",
        "\n",
        "plt.show()"
      ],
      "metadata": {
        "colab": {
          "base_uri": "https://localhost:8080/",
          "height": 410
        },
        "id": "EuuCMlcOuchE",
        "outputId": "fe467de6-5386-4ab9-b2b3-9c7facf91a63"
      },
      "execution_count": null,
      "outputs": [
        {
          "output_type": "display_data",
          "data": {
            "text/plain": [
              "<Figure size 400x400 with 2 Axes>"
            ],
            "image/png": "[encoded data removed]"
          },
          "metadata": {}
        }
      ]
    },
    {
      "cell_type": "code",
      "source": [],
      "metadata": {
        "id": "MANuaOh3BEtV"
      },
      "execution_count": null,
      "outputs": []
    }
  ]
}