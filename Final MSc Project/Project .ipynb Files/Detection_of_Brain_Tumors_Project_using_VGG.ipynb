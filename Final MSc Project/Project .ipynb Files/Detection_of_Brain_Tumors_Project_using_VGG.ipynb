{
  "nbformat": 4,
  "nbformat_minor": 0,
  "metadata": {
    "colab": {
      "provenance": [],
      "gpuType": "T4"
    },
    "kernelspec": {
      "name": "python3",
      "display_name": "Python 3"
    },
    "language_info": {
      "name": "python"
    },
    "accelerator": "GPU"
  },
  "cells": [
    {
      "cell_type": "markdown",
      "source": [
        "# Detection of Brain Tumors through Convolutional Neural Networks (CNNs) utilizing Residual Networks (ResNets) and Visual Geometry Group (VGG) Architectures"
      ],
      "metadata": {
        "id": "rb6nWZC2pHfE"
      }
    },
    {
      "cell_type": "markdown",
      "source": [
        "When running any code it’s beneficial to change the “RunTime” type to T4-GPU"
      ],
      "metadata": {
        "id": "ZI1dRdRku47v"
      }
    },
    {
      "cell_type": "code",
      "execution_count": null,
      "metadata": {
        "id": "zMNyRQ5IfICF"
      },
      "outputs": [],
      "source": [
        "import pandas as pd\n",
        "import numpy as np\n",
        "import seaborn as sns\n",
        "import matplotlib.pyplot as plt\n",
        "import zipfile\n",
        "import cv2\n",
        "from skimage import io\n",
        "import tensorflow as tf\n",
        "from tensorflow import keras\n",
        "from tensorflow.python.keras import Sequential\n",
        "from tensorflow.python.keras import layers, optimizers\n",
        "from tensorflow.keras.applications import DenseNet121\n",
        "from tensorflow.keras.applications.resnet50 import ResNet50\n",
        "from tensorflow.keras.layers import *\n",
        "from tensorflow.keras.models import Model, load_model\n",
        "from tensorflow.keras.initializers import glorot_uniform\n",
        "from tensorflow.keras.utils import plot_model\n",
        "from tensorflow.keras.callbacks import ReduceLROnPlateau, EarlyStopping, ModelCheckpoint, LearningRateScheduler\n",
        "from IPython.display import display\n",
        "from tensorflow.python.keras import backend as K\n",
        "from sklearn.preprocessing import StandardScaler, normalize\n",
        "from tensorflow.keras.applications import VGG16\n",
        "from tensorflow.keras.layers import Input, AveragePooling2D, Flatten, Dense, Dropout\n",
        "from tensorflow.keras.models import Model\n",
        "from tensorflow.keras.callbacks import EarlyStopping, ModelCheckpoint\n",
        "import tensorflow as tf\n",
        "from keras.optimizers import Adam, RMSprop\n",
        "import numpy as np\n",
        "import os\n",
        "import glob\n",
        "import random\n",
        "from google.colab import files #library to upload files to colab notebook\n",
        "%matplotlib inline\n"
      ]
    },
    {
      "cell_type": "code",
      "source": [
        "# mount the drive using the following commands: (For Examiner: Only run if you have transfered the folder to your drive. Detials Explained in the report [Appendix])\n",
        "\n",
        "from google.colab import drive\n",
        "drive.mount('/content/drive')"
      ],
      "metadata": {
        "colab": {
          "base_uri": "https://localhost:8080/"
        },
        "id": "3BxmPrWVfRbg",
        "outputId": "6c265b71-cd62-489c-eeac-024e2072f8d0"
      },
      "execution_count": null,
      "outputs": [
        {
          "output_type": "stream",
          "name": "stdout",
          "text": [
            "Mounted at /content/drive\n"
          ]
        }
      ]
    },
    {
      "cell_type": "code",
      "source": [
        "# Navigating my Drive directory to find dataset (For Examiner: Only run if you have transfered the folder to your drive. Detials Explained in the report [Appendix])\n",
        "\n",
        "%cd /content/drive/My Drive/Final Project/BrainTumor Project/Brain_MRI"
      ],
      "metadata": {
        "colab": {
          "base_uri": "https://localhost:8080/"
        },
        "id": "pZv8QgVffRil",
        "outputId": "66c2c61b-8de0-4241-8509-781a558836a4"
      },
      "execution_count": null,
      "outputs": [
        {
          "output_type": "stream",
          "name": "stdout",
          "text": [
            "/content/drive/My Drive/Colab Notebooks/Healthcare AI Datasets/Brain_MRI\n"
          ]
        }
      ]
    },
    {
      "cell_type": "code",
      "source": [
        "# data containing path to Brain MRI and their corresponding mask\n",
        "\n",
        "brain_df = pd.read_csv('data_mask.csv')"
      ],
      "metadata": {
        "id": "BIXDFq2-fRnQ"
      },
      "execution_count": null,
      "outputs": []
    },
    {
      "cell_type": "code",
      "source": [
        "# Display information about the Dataset\n",
        "\n",
        "brain_df.info()"
      ],
      "metadata": {
        "colab": {
          "base_uri": "https://localhost:8080/"
        },
        "id": "d6tJvUuwfRqq",
        "outputId": "5cb3cc8f-f239-4a2a-90ad-6d3a05f8141e"
      },
      "execution_count": null,
      "outputs": [
        {
          "output_type": "stream",
          "name": "stdout",
          "text": [
            "<class 'pandas.core.frame.DataFrame'>\n",
            "RangeIndex: 3929 entries, 0 to 3928\n",
            "Data columns (total 4 columns):\n",
            " #   Column      Non-Null Count  Dtype \n",
            "---  ------      --------------  ----- \n",
            " 0   patient_id  3929 non-null   object\n",
            " 1   image_path  3929 non-null   object\n",
            " 2   mask_path   3929 non-null   object\n",
            " 3   mask        3929 non-null   int64 \n",
            "dtypes: int64(1), object(3)\n",
            "memory usage: 122.9+ KB\n"
          ]
        }
      ]
    },
    {
      "cell_type": "markdown",
      "source": [
        "#A: TRAIN A CLASSIFIER MODEL TO DETECT IF TUMOR EXISTS OR NOT (VGG)"
      ],
      "metadata": {
        "id": "fj5ER1m2j0rz"
      }
    },
    {
      "cell_type": "code",
      "source": [
        "# Drop the patient id column\n",
        "\n",
        "brain_df_train = brain_df.drop(columns = ['patient_id'])\n",
        "brain_df_train.shape"
      ],
      "metadata": {
        "colab": {
          "base_uri": "https://localhost:8080/"
        },
        "id": "MeXDwcORfRwL",
        "outputId": "d4b490f1-399c-4f0e-c92d-79d29d0d4a61"
      },
      "execution_count": null,
      "outputs": [
        {
          "output_type": "execute_result",
          "data": {
            "text/plain": [
              "(3929, 3)"
            ]
          },
          "metadata": {},
          "execution_count": 6
        }
      ]
    },
    {
      "cell_type": "code",
      "source": [
        "# Convert the data in mask column to string format, to use categorical mode in flow_from_dataframe\n",
        "\n",
        "brain_df_train['mask'] = brain_df_train['mask'].apply(lambda x: str(x))"
      ],
      "metadata": {
        "id": "nYXe1CJsfilr"
      },
      "execution_count": null,
      "outputs": []
    },
    {
      "cell_type": "code",
      "source": [
        "brain_df_train.info()"
      ],
      "metadata": {
        "colab": {
          "base_uri": "https://localhost:8080/"
        },
        "id": "_o7BDvCvfioK",
        "outputId": "ad342a7d-6071-4b14-c1e2-aaa57bbec932"
      },
      "execution_count": null,
      "outputs": [
        {
          "output_type": "stream",
          "name": "stdout",
          "text": [
            "<class 'pandas.core.frame.DataFrame'>\n",
            "RangeIndex: 3929 entries, 0 to 3928\n",
            "Data columns (total 3 columns):\n",
            " #   Column      Non-Null Count  Dtype \n",
            "---  ------      --------------  ----- \n",
            " 0   image_path  3929 non-null   object\n",
            " 1   mask_path   3929 non-null   object\n",
            " 2   mask        3929 non-null   object\n",
            "dtypes: object(3)\n",
            "memory usage: 92.2+ KB\n"
          ]
        }
      ]
    },
    {
      "cell_type": "code",
      "source": [
        "# split the data into train and test data\n",
        "\n",
        "from sklearn.model_selection import train_test_split\n",
        "\n",
        "train, test = train_test_split(brain_df_train, test_size = 0.15)"
      ],
      "metadata": {
        "id": "z-3qkxxVoVrp"
      },
      "execution_count": null,
      "outputs": []
    },
    {
      "cell_type": "code",
      "source": [
        "# create a image generator\n",
        "\n",
        "from keras.preprocessing.image import ImageDataGenerator\n",
        "\n",
        "# Create a data generator which scales the data from 0 to 1 and makes validation split of 0.15\n",
        "\n",
        "datagen = ImageDataGenerator(rescale=1./255., validation_split = 0.15)"
      ],
      "metadata": {
        "id": "TrHNbIeLiekJ"
      },
      "execution_count": null,
      "outputs": []
    },
    {
      "cell_type": "code",
      "source": [
        "# Create a data generator for train images\n",
        "\n",
        "train_generator=datagen.flow_from_dataframe(\n",
        "dataframe=train,\n",
        "directory= './',\n",
        "x_col='image_path',\n",
        "y_col='mask',\n",
        "subset=\"training\",\n",
        "batch_size=16,\n",
        "shuffle=True,\n",
        "class_mode=\"categorical\",\n",
        "target_size=(256,256))\n",
        "\n",
        "\n",
        "valid_generator=datagen.flow_from_dataframe(\n",
        "dataframe=train,\n",
        "directory= './',\n",
        "x_col='image_path',\n",
        "y_col='mask',\n",
        "subset=\"validation\",\n",
        "batch_size=16,\n",
        "shuffle=True,\n",
        "class_mode=\"categorical\",\n",
        "target_size=(256,256))"
      ],
      "metadata": {
        "colab": {
          "base_uri": "https://localhost:8080/"
        },
        "id": "93yeLwkWiffx",
        "outputId": "e3c3c451-389b-4b0d-abbc-908c8af39027"
      },
      "execution_count": null,
      "outputs": [
        {
          "output_type": "stream",
          "name": "stdout",
          "text": [
            "Found 2839 validated image filenames belonging to 2 classes.\n",
            "Found 500 validated image filenames belonging to 2 classes.\n"
          ]
        }
      ]
    },
    {
      "cell_type": "code",
      "source": [
        "# Create a data generator for test images\n",
        "\n",
        "test_datagen=ImageDataGenerator(rescale=1./255.)\n",
        "\n",
        "test_generator=test_datagen.flow_from_dataframe(\n",
        "dataframe=test,\n",
        "directory= './',\n",
        "x_col='image_path',\n",
        "y_col='mask',\n",
        "batch_size=16,\n",
        "shuffle=False,\n",
        "class_mode='binary',\n",
        "target_size=(256,256))"
      ],
      "metadata": {
        "colab": {
          "base_uri": "https://localhost:8080/"
        },
        "id": "mEjV1Oktik13",
        "outputId": "ed40325e-1558-4f55-8bf6-f1f88f2da11c"
      },
      "execution_count": null,
      "outputs": [
        {
          "output_type": "stream",
          "name": "stdout",
          "text": [
            "Found 590 validated image filenames belonging to 2 classes.\n"
          ]
        }
      ]
    },
    {
      "cell_type": "code",
      "source": [
        "# Load the VGG-16 model\n",
        "\n",
        "input_tensor = Input(shape=(256, 256, 3))  # The input shape (256, 256, 3) indicates that model expects input images with Width, height: 256 pixels and Color Channels: 3.\n",
        "\n",
        "basemodel = VGG16(weights='imagenet', include_top=False, input_tensor=input_tensor)"
      ],
      "metadata": {
        "id": "1K_6mz95fiqi"
      },
      "execution_count": null,
      "outputs": []
    },
    {
      "cell_type": "code",
      "source": [
        "for layer in basemodel.layers:\n",
        "    layer.trainable = False"
      ],
      "metadata": {
        "id": "O-qDeRCefisb"
      },
      "execution_count": null,
      "outputs": []
    },
    {
      "cell_type": "code",
      "source": [
        "# Adding classification head\n",
        "x = AveragePooling2D(pool_size=(4, 4))(basemodel.output)\n",
        "x = Flatten()(x)\n",
        "x = Dense(256, activation='relu')(x)\n",
        "x = Dropout(0.5)(x)  # Adjust the dropout rate as needed\n",
        "x = Dense(2, activation='sigmoid')(x)  # have 2 classes for binary classification\n",
        "\n",
        "# Create the VGG-16-based model\n",
        "model = Model(inputs=basemodel.input, outputs=x)\n",
        "\n",
        "# Compile the model\n",
        "model.compile(\n",
        "    optimizer=Adam(learning_rate=0.001),  # Adjust the learning rate\n",
        "    loss='categorical_crossentropy',  # Use categorical cross-entropy for binary classification\n",
        "    metrics=['accuracy']\n",
        ")"
      ],
      "metadata": {
        "id": "IO9sAC7M8zY5"
      },
      "execution_count": null,
      "outputs": []
    },
    {
      "cell_type": "code",
      "source": [
        "# use early stopping to exit training if validation loss is not decreasing even after certain epochs (patience)\n",
        "earlystopping = EarlyStopping(monitor='val_loss', mode='min', verbose=1, patience=20)"
      ],
      "metadata": {
        "id": "wJX13Yk3f54s"
      },
      "execution_count": null,
      "outputs": []
    },
    {
      "cell_type": "code",
      "source": [
        "# Training the model\n",
        "\n",
        "history = model.fit(train_generator, steps_per_epoch= train_generator.n // 16, epochs = 10, validation_data= valid_generator, validation_steps= valid_generator.n // 16, callbacks=[earlystopping])"
      ],
      "metadata": {
        "colab": {
          "base_uri": "https://localhost:8080/"
        },
        "id": "Cprk4DV6F5Bs",
        "outputId": "f0c6391b-7581-456d-bb81-96ae8987293c"
      },
      "execution_count": null,
      "outputs": [
        {
          "output_type": "stream",
          "name": "stdout",
          "text": [
            "Epoch 1/10\n",
            "177/177 [==============================] - 18s 93ms/step - loss: 0.4912 - accuracy: 0.7393 - val_loss: 0.4697 - val_accuracy: 0.7399\n",
            "Epoch 2/10\n",
            "177/177 [==============================] - 16s 91ms/step - loss: 0.4372 - accuracy: 0.7669 - val_loss: 0.4661 - val_accuracy: 0.7560\n",
            "Epoch 3/10\n",
            "177/177 [==============================] - 17s 93ms/step - loss: 0.4211 - accuracy: 0.7882 - val_loss: 0.4801 - val_accuracy: 0.7440\n",
            "Epoch 4/10\n",
            "177/177 [==============================] - 17s 94ms/step - loss: 0.4141 - accuracy: 0.7814 - val_loss: 0.4474 - val_accuracy: 0.7601\n",
            "Epoch 5/10\n",
            "177/177 [==============================] - 17s 95ms/step - loss: 0.3992 - accuracy: 0.7917 - val_loss: 0.4878 - val_accuracy: 0.7500\n",
            "Epoch 6/10\n",
            "177/177 [==============================] - 17s 95ms/step - loss: 0.3955 - accuracy: 0.7910 - val_loss: 0.4523 - val_accuracy: 0.7560\n",
            "Epoch 7/10\n",
            "177/177 [==============================] - 17s 96ms/step - loss: 0.3854 - accuracy: 0.7991 - val_loss: 0.4225 - val_accuracy: 0.7722\n",
            "Epoch 8/10\n",
            "177/177 [==============================] - 17s 96ms/step - loss: 0.3733 - accuracy: 0.8105 - val_loss: 0.4174 - val_accuracy: 0.7883\n",
            "Epoch 9/10\n",
            "177/177 [==============================] - 20s 110ms/step - loss: 0.3617 - accuracy: 0.8183 - val_loss: 0.4552 - val_accuracy: 0.7762\n",
            "Epoch 10/10\n",
            "177/177 [==============================] - 20s 111ms/step - loss: 0.3658 - accuracy: 0.8162 - val_loss: 0.4188 - val_accuracy: 0.7903\n"
          ]
        }
      ]
    },
    {
      "cell_type": "code",
      "source": [
        "# Interactive graph of the Training and Validation Loss\n",
        "\n",
        "import plotly.graph_objects as go\n",
        "\n",
        "# Access training loss and validation loss from the history\n",
        "train_loss = history.history['loss']\n",
        "val_loss = history.history['val_loss']\n",
        "\n",
        "# Create a range of epochs (e.g., [1, 2, 3, ...])\n",
        "epochs = list(range(1, len(train_loss) + 1))  # Convert range to a list\n",
        "\n",
        "# Create a Plotly figure\n",
        "fig = go.Figure()\n",
        "\n",
        "# Add training loss trace\n",
        "fig.add_trace(go.Scatter(x=epochs, y=train_loss, mode='lines+markers', name='Training Loss'))\n",
        "\n",
        "# Add validation loss trace\n",
        "fig.add_trace(go.Scatter(x=epochs, y=val_loss, mode='lines+markers', name='Validation Loss'))\n",
        "\n",
        "# Set layout options and adjust figure size\n",
        "fig.update_layout(\n",
        "    title='Training and Validation Loss',\n",
        "    xaxis_title='Epochs',\n",
        "    yaxis_title='Loss',\n",
        "    hovermode='closest',  # Enables interactive hovering\n",
        "    width=800,  # Adjust the width in pixels\n",
        "    height=400  # Adjust the height in pixels\n",
        ")\n",
        "\n",
        "# Show the interactive plot\n",
        "fig.show()"
      ],
      "metadata": {
        "colab": {
          "base_uri": "https://localhost:8080/",
          "height": 417
        },
        "id": "9TS8CdRGJixd",
        "outputId": "3aa25034-3e3f-40ff-a28d-44438f0d6e0f"
      },
      "execution_count": null,
      "outputs": [
        {
          "output_type": "display_data",
          "data": {
            "text/html": [
              "<html>\n",
              "<head><meta charset=\"utf-8\" /></head>\n",
              "<body>\n",
              "    <div>            <script src=\"https://cdnjs.cloudflare.com/ajax/libs/mathjax/2.7.5/MathJax.js?config=TeX-AMS-MML_SVG\"></script><script type=\"text/javascript\">if (window.MathJax && window.MathJax.Hub && window.MathJax.Hub.Config) {window.MathJax.Hub.Config({SVG: {font: \"STIX-Web\"}});}</script>                <script type=\"text/javascript\">window.PlotlyConfig = {MathJaxConfig: 'local'};</script>\n",
              "        <script charset=\"utf-8\" src=\"https://cdn.plot.ly/plotly-2.24.1.min.js\"></script>                <div id=\"ac252016-0996-4da3-abf4-3fe21978552c\" class=\"plotly-graph-div\" style=\"height:400px; width:800px;\"></div>            <script type=\"text/javascript\">                                    window.PLOTLYENV=window.PLOTLYENV || {};                                    if (document.getElementById(\"ac252016-0996-4da3-abf4-3fe21978552c\")) {                    Plotly.newPlot(                        \"ac252016-0996-4da3-abf4-3fe21978552c\",                        [{\"mode\":\"lines+markers\",\"name\":\"Training Loss\",\"x\":[1,2,3,4,5,6,7,8,9,10],\"y\":[0.49116501212120056,0.43724125623703003,0.421064168214798,0.4141266644001007,0.39916664361953735,0.3954835534095764,0.38543736934661865,0.3733227252960205,0.3617158830165863,0.3658394515514374],\"type\":\"scatter\"},{\"mode\":\"lines+markers\",\"name\":\"Validation Loss\",\"x\":[1,2,3,4,5,6,7,8,9,10],\"y\":[0.46973228454589844,0.4661203920841217,0.4800540506839752,0.4474051594734192,0.48782217502593994,0.45229753851890564,0.4225381314754486,0.4174232482910156,0.45523327589035034,0.41880035400390625],\"type\":\"scatter\"}],                        {\"template\":{\"data\":{\"histogram2dcontour\":[{\"type\":\"histogram2dcontour\",\"colorbar\":{\"outlinewidth\":0,\"ticks\":\"\"},\"colorscale\":[[0.0,\"#0d0887\"],[0.1111111111111111,\"#46039f\"],[0.2222222222222222,\"#7201a8\"],[0.3333333333333333,\"#9c179e\"],[0.4444444444444444,\"#bd3786\"],[0.5555555555555556,\"#d8576b\"],[0.6666666666666666,\"#ed7953\"],[0.7777777777777778,\"#fb9f3a\"],[0.8888888888888888,\"#fdca26\"],[1.0,\"#f0f921\"]]}],\"choropleth\":[{\"type\":\"choropleth\",\"colorbar\":{\"outlinewidth\":0,\"ticks\":\"\"}}],\"histogram2d\":[{\"type\":\"histogram2d\",\"colorbar\":{\"outlinewidth\":0,\"ticks\":\"\"},\"colorscale\":[[0.0,\"#0d0887\"],[0.1111111111111111,\"#46039f\"],[0.2222222222222222,\"#7201a8\"],[0.3333333333333333,\"#9c179e\"],[0.4444444444444444,\"#bd3786\"],[0.5555555555555556,\"#d8576b\"],[0.6666666666666666,\"#ed7953\"],[0.7777777777777778,\"#fb9f3a\"],[0.8888888888888888,\"#fdca26\"],[1.0,\"#f0f921\"]]}],\"heatmap\":[{\"type\":\"heatmap\",\"colorbar\":{\"outlinewidth\":0,\"ticks\":\"\"},\"colorscale\":[[0.0,\"#0d0887\"],[0.1111111111111111,\"#46039f\"],[0.2222222222222222,\"#7201a8\"],[0.3333333333333333,\"#9c179e\"],[0.4444444444444444,\"#bd3786\"],[0.5555555555555556,\"#d8576b\"],[0.6666666666666666,\"#ed7953\"],[0.7777777777777778,\"#fb9f3a\"],[0.8888888888888888,\"#fdca26\"],[1.0,\"#f0f921\"]]}],\"heatmapgl\":[{\"type\":\"heatmapgl\",\"colorbar\":{\"outlinewidth\":0,\"ticks\":\"\"},\"colorscale\":[[0.0,\"#0d0887\"],[0.1111111111111111,\"#46039f\"],[0.2222222222222222,\"#7201a8\"],[0.3333333333333333,\"#9c179e\"],[0.4444444444444444,\"#bd3786\"],[0.5555555555555556,\"#d8576b\"],[0.6666666666666666,\"#ed7953\"],[0.7777777777777778,\"#fb9f3a\"],[0.8888888888888888,\"#fdca26\"],[1.0,\"#f0f921\"]]}],\"contourcarpet\":[{\"type\":\"contourcarpet\",\"colorbar\":{\"outlinewidth\":0,\"ticks\":\"\"}}],\"contour\":[{\"type\":\"contour\",\"colorbar\":{\"outlinewidth\":0,\"ticks\":\"\"},\"colorscale\":[[0.0,\"#0d0887\"],[0.1111111111111111,\"#46039f\"],[0.2222222222222222,\"#7201a8\"],[0.3333333333333333,\"#9c179e\"],[0.4444444444444444,\"#bd3786\"],[0.5555555555555556,\"#d8576b\"],[0.6666666666666666,\"#ed7953\"],[0.7777777777777778,\"#fb9f3a\"],[0.8888888888888888,\"#fdca26\"],[1.0,\"#f0f921\"]]}],\"surface\":[{\"type\":\"surface\",\"colorbar\":{\"outlinewidth\":0,\"ticks\":\"\"},\"colorscale\":[[0.0,\"#0d0887\"],[0.1111111111111111,\"#46039f\"],[0.2222222222222222,\"#7201a8\"],[0.3333333333333333,\"#9c179e\"],[0.4444444444444444,\"#bd3786\"],[0.5555555555555556,\"#d8576b\"],[0.6666666666666666,\"#ed7953\"],[0.7777777777777778,\"#fb9f3a\"],[0.8888888888888888,\"#fdca26\"],[1.0,\"#f0f921\"]]}],\"mesh3d\":[{\"type\":\"mesh3d\",\"colorbar\":{\"outlinewidth\":0,\"ticks\":\"\"}}],\"scatter\":[{\"fillpattern\":{\"fillmode\":\"overlay\",\"size\":10,\"solidity\":0.2},\"type\":\"scatter\"}],\"parcoords\":[{\"type\":\"parcoords\",\"line\":{\"colorbar\":{\"outlinewidth\":0,\"ticks\":\"\"}}}],\"scatterpolargl\":[{\"type\":\"scatterpolargl\",\"marker\":{\"colorbar\":{\"outlinewidth\":0,\"ticks\":\"\"}}}],\"bar\":[{\"error_x\":{\"color\":\"#2a3f5f\"},\"error_y\":{\"color\":\"#2a3f5f\"},\"marker\":{\"line\":{\"color\":\"#E5ECF6\",\"width\":0.5},\"pattern\":{\"fillmode\":\"overlay\",\"size\":10,\"solidity\":0.2}},\"type\":\"bar\"}],\"scattergeo\":[{\"type\":\"scattergeo\",\"marker\":{\"colorbar\":{\"outlinewidth\":0,\"ticks\":\"\"}}}],\"scatterpolar\":[{\"type\":\"scatterpolar\",\"marker\":{\"colorbar\":{\"outlinewidth\":0,\"ticks\":\"\"}}}],\"histogram\":[{\"marker\":{\"pattern\":{\"fillmode\":\"overlay\",\"size\":10,\"solidity\":0.2}},\"type\":\"histogram\"}],\"scattergl\":[{\"type\":\"scattergl\",\"marker\":{\"colorbar\":{\"outlinewidth\":0,\"ticks\":\"\"}}}],\"scatter3d\":[{\"type\":\"scatter3d\",\"line\":{\"colorbar\":{\"outlinewidth\":0,\"ticks\":\"\"}},\"marker\":{\"colorbar\":{\"outlinewidth\":0,\"ticks\":\"\"}}}],\"scattermapbox\":[{\"type\":\"scattermapbox\",\"marker\":{\"colorbar\":{\"outlinewidth\":0,\"ticks\":\"\"}}}],\"scatterternary\":[{\"type\":\"scatterternary\",\"marker\":{\"colorbar\":{\"outlinewidth\":0,\"ticks\":\"\"}}}],\"scattercarpet\":[{\"type\":\"scattercarpet\",\"marker\":{\"colorbar\":{\"outlinewidth\":0,\"ticks\":\"\"}}}],\"carpet\":[{\"aaxis\":{\"endlinecolor\":\"#2a3f5f\",\"gridcolor\":\"white\",\"linecolor\":\"white\",\"minorgridcolor\":\"white\",\"startlinecolor\":\"#2a3f5f\"},\"baxis\":{\"endlinecolor\":\"#2a3f5f\",\"gridcolor\":\"white\",\"linecolor\":\"white\",\"minorgridcolor\":\"white\",\"startlinecolor\":\"#2a3f5f\"},\"type\":\"carpet\"}],\"table\":[{\"cells\":{\"fill\":{\"color\":\"#EBF0F8\"},\"line\":{\"color\":\"white\"}},\"header\":{\"fill\":{\"color\":\"#C8D4E3\"},\"line\":{\"color\":\"white\"}},\"type\":\"table\"}],\"barpolar\":[{\"marker\":{\"line\":{\"color\":\"#E5ECF6\",\"width\":0.5},\"pattern\":{\"fillmode\":\"overlay\",\"size\":10,\"solidity\":0.2}},\"type\":\"barpolar\"}],\"pie\":[{\"automargin\":true,\"type\":\"pie\"}]},\"layout\":{\"autotypenumbers\":\"strict\",\"colorway\":[\"#636efa\",\"#EF553B\",\"#00cc96\",\"#ab63fa\",\"#FFA15A\",\"#19d3f3\",\"#FF6692\",\"#B6E880\",\"#FF97FF\",\"#FECB52\"],\"font\":{\"color\":\"#2a3f5f\"},\"hovermode\":\"closest\",\"hoverlabel\":{\"align\":\"left\"},\"paper_bgcolor\":\"white\",\"plot_bgcolor\":\"#E5ECF6\",\"polar\":{\"bgcolor\":\"#E5ECF6\",\"angularaxis\":{\"gridcolor\":\"white\",\"linecolor\":\"white\",\"ticks\":\"\"},\"radialaxis\":{\"gridcolor\":\"white\",\"linecolor\":\"white\",\"ticks\":\"\"}},\"ternary\":{\"bgcolor\":\"#E5ECF6\",\"aaxis\":{\"gridcolor\":\"white\",\"linecolor\":\"white\",\"ticks\":\"\"},\"baxis\":{\"gridcolor\":\"white\",\"linecolor\":\"white\",\"ticks\":\"\"},\"caxis\":{\"gridcolor\":\"white\",\"linecolor\":\"white\",\"ticks\":\"\"}},\"coloraxis\":{\"colorbar\":{\"outlinewidth\":0,\"ticks\":\"\"}},\"colorscale\":{\"sequential\":[[0.0,\"#0d0887\"],[0.1111111111111111,\"#46039f\"],[0.2222222222222222,\"#7201a8\"],[0.3333333333333333,\"#9c179e\"],[0.4444444444444444,\"#bd3786\"],[0.5555555555555556,\"#d8576b\"],[0.6666666666666666,\"#ed7953\"],[0.7777777777777778,\"#fb9f3a\"],[0.8888888888888888,\"#fdca26\"],[1.0,\"#f0f921\"]],\"sequentialminus\":[[0.0,\"#0d0887\"],[0.1111111111111111,\"#46039f\"],[0.2222222222222222,\"#7201a8\"],[0.3333333333333333,\"#9c179e\"],[0.4444444444444444,\"#bd3786\"],[0.5555555555555556,\"#d8576b\"],[0.6666666666666666,\"#ed7953\"],[0.7777777777777778,\"#fb9f3a\"],[0.8888888888888888,\"#fdca26\"],[1.0,\"#f0f921\"]],\"diverging\":[[0,\"#8e0152\"],[0.1,\"#c51b7d\"],[0.2,\"#de77ae\"],[0.3,\"#f1b6da\"],[0.4,\"#fde0ef\"],[0.5,\"#f7f7f7\"],[0.6,\"#e6f5d0\"],[0.7,\"#b8e186\"],[0.8,\"#7fbc41\"],[0.9,\"#4d9221\"],[1,\"#276419\"]]},\"xaxis\":{\"gridcolor\":\"white\",\"linecolor\":\"white\",\"ticks\":\"\",\"title\":{\"standoff\":15},\"zerolinecolor\":\"white\",\"automargin\":true,\"zerolinewidth\":2},\"yaxis\":{\"gridcolor\":\"white\",\"linecolor\":\"white\",\"ticks\":\"\",\"title\":{\"standoff\":15},\"zerolinecolor\":\"white\",\"automargin\":true,\"zerolinewidth\":2},\"scene\":{\"xaxis\":{\"backgroundcolor\":\"#E5ECF6\",\"gridcolor\":\"white\",\"linecolor\":\"white\",\"showbackground\":true,\"ticks\":\"\",\"zerolinecolor\":\"white\",\"gridwidth\":2},\"yaxis\":{\"backgroundcolor\":\"#E5ECF6\",\"gridcolor\":\"white\",\"linecolor\":\"white\",\"showbackground\":true,\"ticks\":\"\",\"zerolinecolor\":\"white\",\"gridwidth\":2},\"zaxis\":{\"backgroundcolor\":\"#E5ECF6\",\"gridcolor\":\"white\",\"linecolor\":\"white\",\"showbackground\":true,\"ticks\":\"\",\"zerolinecolor\":\"white\",\"gridwidth\":2}},\"shapedefaults\":{\"line\":{\"color\":\"#2a3f5f\"}},\"annotationdefaults\":{\"arrowcolor\":\"#2a3f5f\",\"arrowhead\":0,\"arrowwidth\":1},\"geo\":{\"bgcolor\":\"white\",\"landcolor\":\"#E5ECF6\",\"subunitcolor\":\"white\",\"showland\":true,\"showlakes\":true,\"lakecolor\":\"white\"},\"title\":{\"x\":0.05},\"mapbox\":{\"style\":\"light\"}}},\"title\":{\"text\":\"Training and Validation Loss\"},\"xaxis\":{\"title\":{\"text\":\"Epochs\"}},\"yaxis\":{\"title\":{\"text\":\"Loss\"}},\"hovermode\":\"closest\",\"width\":800,\"height\":400},                        {\"responsive\": true}                    ).then(function(){\n",
              "                            \n",
              "var gd = document.getElementById('ac252016-0996-4da3-abf4-3fe21978552c');\n",
              "var x = new MutationObserver(function (mutations, observer) {{\n",
              "        var display = window.getComputedStyle(gd).display;\n",
              "        if (!display || display === 'none') {{\n",
              "            console.log([gd, 'removed!']);\n",
              "            Plotly.purge(gd);\n",
              "            observer.disconnect();\n",
              "        }}\n",
              "}});\n",
              "\n",
              "// Listen for the removal of the full notebook cells\n",
              "var notebookContainer = gd.closest('#notebook-container');\n",
              "if (notebookContainer) {{\n",
              "    x.observe(notebookContainer, {childList: true});\n",
              "}}\n",
              "\n",
              "// Listen for the clearing of the current output cell\n",
              "var outputEl = gd.closest('.output');\n",
              "if (outputEl) {{\n",
              "    x.observe(outputEl, {childList: true});\n",
              "}}\n",
              "\n",
              "                        })                };                            </script>        </div>\n",
              "</body>\n",
              "</html>"
            ]
          },
          "metadata": {}
        }
      ]
    },
    {
      "cell_type": "code",
      "source": [
        "# Interactive graph of the Training and Validation Accuracy\n",
        "\n",
        "# Access training accuracy and validation accuracy from the history\n",
        "train_accuracy = history.history['accuracy']\n",
        "val_accuracy = history.history['val_accuracy']\n",
        "\n",
        "# Create a range of epochs (e.g., [1, 2, 3, ...])\n",
        "epochs = list(range(1, len(train_accuracy) + 1))  # Convert range to a list\n",
        "\n",
        "# Create a Plotly figure\n",
        "fig = go.Figure()\n",
        "\n",
        "# Add training accuracy trace\n",
        "fig.add_trace(go.Scatter(x=epochs, y=train_accuracy, mode='lines+markers', name='Training Accuracy'))\n",
        "\n",
        "# Add validation accuracy trace\n",
        "fig.add_trace(go.Scatter(x=epochs, y=val_accuracy, mode='lines+markers', name='Validation Accuracy'))\n",
        "\n",
        "# Set layout options and adjust figure size\n",
        "fig.update_layout(\n",
        "    title='Training and Validation Accuracy',\n",
        "    xaxis_title='Epochs',\n",
        "    yaxis_title='Accuracy',\n",
        "    hovermode='closest',  # Enables interactive hovering\n",
        "    width=800,  # Adjust the width in pixels\n",
        "    height=400  # Adjust the height in pixels\n",
        ")\n",
        "\n",
        "# Show the interactive plot\n",
        "fig.show()"
      ],
      "metadata": {
        "colab": {
          "base_uri": "https://localhost:8080/",
          "height": 417
        },
        "id": "6-Iz5q8dH-yp",
        "outputId": "ff39ae75-d348-42e5-b8ba-3775133cb6d5"
      },
      "execution_count": null,
      "outputs": [
        {
          "output_type": "display_data",
          "data": {
            "text/html": [
              "<html>\n",
              "<head><meta charset=\"utf-8\" /></head>\n",
              "<body>\n",
              "    <div>            <script src=\"https://cdnjs.cloudflare.com/ajax/libs/mathjax/2.7.5/MathJax.js?config=TeX-AMS-MML_SVG\"></script><script type=\"text/javascript\">if (window.MathJax && window.MathJax.Hub && window.MathJax.Hub.Config) {window.MathJax.Hub.Config({SVG: {font: \"STIX-Web\"}});}</script>                <script type=\"text/javascript\">window.PlotlyConfig = {MathJaxConfig: 'local'};</script>\n",
              "        <script charset=\"utf-8\" src=\"https://cdn.plot.ly/plotly-2.24.1.min.js\"></script>                <div id=\"9a526a41-82c9-4372-9d19-fc26e2bdc3f7\" class=\"plotly-graph-div\" style=\"height:400px; width:800px;\"></div>            <script type=\"text/javascript\">                                    window.PLOTLYENV=window.PLOTLYENV || {};                                    if (document.getElementById(\"9a526a41-82c9-4372-9d19-fc26e2bdc3f7\")) {                    Plotly.newPlot(                        \"9a526a41-82c9-4372-9d19-fc26e2bdc3f7\",                        [{\"mode\":\"lines+markers\",\"name\":\"Training Accuracy\",\"x\":[1,2,3,4,5,6,7,8,9,10],\"y\":[0.7392844557762146,0.7669146060943604,0.7881686091423035,0.7814381718635559,0.7917109727859497,0.7910024523735046,0.7991498112678528,0.810485303401947,0.818278431892395,0.8161530494689941],\"type\":\"scatter\"},{\"mode\":\"lines+markers\",\"name\":\"Validation Accuracy\",\"x\":[1,2,3,4,5,6,7,8,9,10],\"y\":[0.7399193644523621,0.7560483813285828,0.7439516186714172,0.7600806355476379,0.75,0.7560483813285828,0.7721773982048035,0.788306474685669,0.7762096524238586,0.7903226017951965],\"type\":\"scatter\"}],                        {\"template\":{\"data\":{\"histogram2dcontour\":[{\"type\":\"histogram2dcontour\",\"colorbar\":{\"outlinewidth\":0,\"ticks\":\"\"},\"colorscale\":[[0.0,\"#0d0887\"],[0.1111111111111111,\"#46039f\"],[0.2222222222222222,\"#7201a8\"],[0.3333333333333333,\"#9c179e\"],[0.4444444444444444,\"#bd3786\"],[0.5555555555555556,\"#d8576b\"],[0.6666666666666666,\"#ed7953\"],[0.7777777777777778,\"#fb9f3a\"],[0.8888888888888888,\"#fdca26\"],[1.0,\"#f0f921\"]]}],\"choropleth\":[{\"type\":\"choropleth\",\"colorbar\":{\"outlinewidth\":0,\"ticks\":\"\"}}],\"histogram2d\":[{\"type\":\"histogram2d\",\"colorbar\":{\"outlinewidth\":0,\"ticks\":\"\"},\"colorscale\":[[0.0,\"#0d0887\"],[0.1111111111111111,\"#46039f\"],[0.2222222222222222,\"#7201a8\"],[0.3333333333333333,\"#9c179e\"],[0.4444444444444444,\"#bd3786\"],[0.5555555555555556,\"#d8576b\"],[0.6666666666666666,\"#ed7953\"],[0.7777777777777778,\"#fb9f3a\"],[0.8888888888888888,\"#fdca26\"],[1.0,\"#f0f921\"]]}],\"heatmap\":[{\"type\":\"heatmap\",\"colorbar\":{\"outlinewidth\":0,\"ticks\":\"\"},\"colorscale\":[[0.0,\"#0d0887\"],[0.1111111111111111,\"#46039f\"],[0.2222222222222222,\"#7201a8\"],[0.3333333333333333,\"#9c179e\"],[0.4444444444444444,\"#bd3786\"],[0.5555555555555556,\"#d8576b\"],[0.6666666666666666,\"#ed7953\"],[0.7777777777777778,\"#fb9f3a\"],[0.8888888888888888,\"#fdca26\"],[1.0,\"#f0f921\"]]}],\"heatmapgl\":[{\"type\":\"heatmapgl\",\"colorbar\":{\"outlinewidth\":0,\"ticks\":\"\"},\"colorscale\":[[0.0,\"#0d0887\"],[0.1111111111111111,\"#46039f\"],[0.2222222222222222,\"#7201a8\"],[0.3333333333333333,\"#9c179e\"],[0.4444444444444444,\"#bd3786\"],[0.5555555555555556,\"#d8576b\"],[0.6666666666666666,\"#ed7953\"],[0.7777777777777778,\"#fb9f3a\"],[0.8888888888888888,\"#fdca26\"],[1.0,\"#f0f921\"]]}],\"contourcarpet\":[{\"type\":\"contourcarpet\",\"colorbar\":{\"outlinewidth\":0,\"ticks\":\"\"}}],\"contour\":[{\"type\":\"contour\",\"colorbar\":{\"outlinewidth\":0,\"ticks\":\"\"},\"colorscale\":[[0.0,\"#0d0887\"],[0.1111111111111111,\"#46039f\"],[0.2222222222222222,\"#7201a8\"],[0.3333333333333333,\"#9c179e\"],[0.4444444444444444,\"#bd3786\"],[0.5555555555555556,\"#d8576b\"],[0.6666666666666666,\"#ed7953\"],[0.7777777777777778,\"#fb9f3a\"],[0.8888888888888888,\"#fdca26\"],[1.0,\"#f0f921\"]]}],\"surface\":[{\"type\":\"surface\",\"colorbar\":{\"outlinewidth\":0,\"ticks\":\"\"},\"colorscale\":[[0.0,\"#0d0887\"],[0.1111111111111111,\"#46039f\"],[0.2222222222222222,\"#7201a8\"],[0.3333333333333333,\"#9c179e\"],[0.4444444444444444,\"#bd3786\"],[0.5555555555555556,\"#d8576b\"],[0.6666666666666666,\"#ed7953\"],[0.7777777777777778,\"#fb9f3a\"],[0.8888888888888888,\"#fdca26\"],[1.0,\"#f0f921\"]]}],\"mesh3d\":[{\"type\":\"mesh3d\",\"colorbar\":{\"outlinewidth\":0,\"ticks\":\"\"}}],\"scatter\":[{\"fillpattern\":{\"fillmode\":\"overlay\",\"size\":10,\"solidity\":0.2},\"type\":\"scatter\"}],\"parcoords\":[{\"type\":\"parcoords\",\"line\":{\"colorbar\":{\"outlinewidth\":0,\"ticks\":\"\"}}}],\"scatterpolargl\":[{\"type\":\"scatterpolargl\",\"marker\":{\"colorbar\":{\"outlinewidth\":0,\"ticks\":\"\"}}}],\"bar\":[{\"error_x\":{\"color\":\"#2a3f5f\"},\"error_y\":{\"color\":\"#2a3f5f\"},\"marker\":{\"line\":{\"color\":\"#E5ECF6\",\"width\":0.5},\"pattern\":{\"fillmode\":\"overlay\",\"size\":10,\"solidity\":0.2}},\"type\":\"bar\"}],\"scattergeo\":[{\"type\":\"scattergeo\",\"marker\":{\"colorbar\":{\"outlinewidth\":0,\"ticks\":\"\"}}}],\"scatterpolar\":[{\"type\":\"scatterpolar\",\"marker\":{\"colorbar\":{\"outlinewidth\":0,\"ticks\":\"\"}}}],\"histogram\":[{\"marker\":{\"pattern\":{\"fillmode\":\"overlay\",\"size\":10,\"solidity\":0.2}},\"type\":\"histogram\"}],\"scattergl\":[{\"type\":\"scattergl\",\"marker\":{\"colorbar\":{\"outlinewidth\":0,\"ticks\":\"\"}}}],\"scatter3d\":[{\"type\":\"scatter3d\",\"line\":{\"colorbar\":{\"outlinewidth\":0,\"ticks\":\"\"}},\"marker\":{\"colorbar\":{\"outlinewidth\":0,\"ticks\":\"\"}}}],\"scattermapbox\":[{\"type\":\"scattermapbox\",\"marker\":{\"colorbar\":{\"outlinewidth\":0,\"ticks\":\"\"}}}],\"scatterternary\":[{\"type\":\"scatterternary\",\"marker\":{\"colorbar\":{\"outlinewidth\":0,\"ticks\":\"\"}}}],\"scattercarpet\":[{\"type\":\"scattercarpet\",\"marker\":{\"colorbar\":{\"outlinewidth\":0,\"ticks\":\"\"}}}],\"carpet\":[{\"aaxis\":{\"endlinecolor\":\"#2a3f5f\",\"gridcolor\":\"white\",\"linecolor\":\"white\",\"minorgridcolor\":\"white\",\"startlinecolor\":\"#2a3f5f\"},\"baxis\":{\"endlinecolor\":\"#2a3f5f\",\"gridcolor\":\"white\",\"linecolor\":\"white\",\"minorgridcolor\":\"white\",\"startlinecolor\":\"#2a3f5f\"},\"type\":\"carpet\"}],\"table\":[{\"cells\":{\"fill\":{\"color\":\"#EBF0F8\"},\"line\":{\"color\":\"white\"}},\"header\":{\"fill\":{\"color\":\"#C8D4E3\"},\"line\":{\"color\":\"white\"}},\"type\":\"table\"}],\"barpolar\":[{\"marker\":{\"line\":{\"color\":\"#E5ECF6\",\"width\":0.5},\"pattern\":{\"fillmode\":\"overlay\",\"size\":10,\"solidity\":0.2}},\"type\":\"barpolar\"}],\"pie\":[{\"automargin\":true,\"type\":\"pie\"}]},\"layout\":{\"autotypenumbers\":\"strict\",\"colorway\":[\"#636efa\",\"#EF553B\",\"#00cc96\",\"#ab63fa\",\"#FFA15A\",\"#19d3f3\",\"#FF6692\",\"#B6E880\",\"#FF97FF\",\"#FECB52\"],\"font\":{\"color\":\"#2a3f5f\"},\"hovermode\":\"closest\",\"hoverlabel\":{\"align\":\"left\"},\"paper_bgcolor\":\"white\",\"plot_bgcolor\":\"#E5ECF6\",\"polar\":{\"bgcolor\":\"#E5ECF6\",\"angularaxis\":{\"gridcolor\":\"white\",\"linecolor\":\"white\",\"ticks\":\"\"},\"radialaxis\":{\"gridcolor\":\"white\",\"linecolor\":\"white\",\"ticks\":\"\"}},\"ternary\":{\"bgcolor\":\"#E5ECF6\",\"aaxis\":{\"gridcolor\":\"white\",\"linecolor\":\"white\",\"ticks\":\"\"},\"baxis\":{\"gridcolor\":\"white\",\"linecolor\":\"white\",\"ticks\":\"\"},\"caxis\":{\"gridcolor\":\"white\",\"linecolor\":\"white\",\"ticks\":\"\"}},\"coloraxis\":{\"colorbar\":{\"outlinewidth\":0,\"ticks\":\"\"}},\"colorscale\":{\"sequential\":[[0.0,\"#0d0887\"],[0.1111111111111111,\"#46039f\"],[0.2222222222222222,\"#7201a8\"],[0.3333333333333333,\"#9c179e\"],[0.4444444444444444,\"#bd3786\"],[0.5555555555555556,\"#d8576b\"],[0.6666666666666666,\"#ed7953\"],[0.7777777777777778,\"#fb9f3a\"],[0.8888888888888888,\"#fdca26\"],[1.0,\"#f0f921\"]],\"sequentialminus\":[[0.0,\"#0d0887\"],[0.1111111111111111,\"#46039f\"],[0.2222222222222222,\"#7201a8\"],[0.3333333333333333,\"#9c179e\"],[0.4444444444444444,\"#bd3786\"],[0.5555555555555556,\"#d8576b\"],[0.6666666666666666,\"#ed7953\"],[0.7777777777777778,\"#fb9f3a\"],[0.8888888888888888,\"#fdca26\"],[1.0,\"#f0f921\"]],\"diverging\":[[0,\"#8e0152\"],[0.1,\"#c51b7d\"],[0.2,\"#de77ae\"],[0.3,\"#f1b6da\"],[0.4,\"#fde0ef\"],[0.5,\"#f7f7f7\"],[0.6,\"#e6f5d0\"],[0.7,\"#b8e186\"],[0.8,\"#7fbc41\"],[0.9,\"#4d9221\"],[1,\"#276419\"]]},\"xaxis\":{\"gridcolor\":\"white\",\"linecolor\":\"white\",\"ticks\":\"\",\"title\":{\"standoff\":15},\"zerolinecolor\":\"white\",\"automargin\":true,\"zerolinewidth\":2},\"yaxis\":{\"gridcolor\":\"white\",\"linecolor\":\"white\",\"ticks\":\"\",\"title\":{\"standoff\":15},\"zerolinecolor\":\"white\",\"automargin\":true,\"zerolinewidth\":2},\"scene\":{\"xaxis\":{\"backgroundcolor\":\"#E5ECF6\",\"gridcolor\":\"white\",\"linecolor\":\"white\",\"showbackground\":true,\"ticks\":\"\",\"zerolinecolor\":\"white\",\"gridwidth\":2},\"yaxis\":{\"backgroundcolor\":\"#E5ECF6\",\"gridcolor\":\"white\",\"linecolor\":\"white\",\"showbackground\":true,\"ticks\":\"\",\"zerolinecolor\":\"white\",\"gridwidth\":2},\"zaxis\":{\"backgroundcolor\":\"#E5ECF6\",\"gridcolor\":\"white\",\"linecolor\":\"white\",\"showbackground\":true,\"ticks\":\"\",\"zerolinecolor\":\"white\",\"gridwidth\":2}},\"shapedefaults\":{\"line\":{\"color\":\"#2a3f5f\"}},\"annotationdefaults\":{\"arrowcolor\":\"#2a3f5f\",\"arrowhead\":0,\"arrowwidth\":1},\"geo\":{\"bgcolor\":\"white\",\"landcolor\":\"#E5ECF6\",\"subunitcolor\":\"white\",\"showland\":true,\"showlakes\":true,\"lakecolor\":\"white\"},\"title\":{\"x\":0.05},\"mapbox\":{\"style\":\"light\"}}},\"title\":{\"text\":\"Training and Validation Accuracy\"},\"xaxis\":{\"title\":{\"text\":\"Epochs\"}},\"yaxis\":{\"title\":{\"text\":\"Accuracy\"}},\"hovermode\":\"closest\",\"width\":800,\"height\":400},                        {\"responsive\": true}                    ).then(function(){\n",
              "                            \n",
              "var gd = document.getElementById('9a526a41-82c9-4372-9d19-fc26e2bdc3f7');\n",
              "var x = new MutationObserver(function (mutations, observer) {{\n",
              "        var display = window.getComputedStyle(gd).display;\n",
              "        if (!display || display === 'none') {{\n",
              "            console.log([gd, 'removed!']);\n",
              "            Plotly.purge(gd);\n",
              "            observer.disconnect();\n",
              "        }}\n",
              "}});\n",
              "\n",
              "// Listen for the removal of the full notebook cells\n",
              "var notebookContainer = gd.closest('#notebook-container');\n",
              "if (notebookContainer) {{\n",
              "    x.observe(notebookContainer, {childList: true});\n",
              "}}\n",
              "\n",
              "// Listen for the clearing of the current output cell\n",
              "var outputEl = gd.closest('.output');\n",
              "if (outputEl) {{\n",
              "    x.observe(outputEl, {childList: true});\n",
              "}}\n",
              "\n",
              "                        })                };                            </script>        </div>\n",
              "</body>\n",
              "</html>"
            ]
          },
          "metadata": {}
        }
      ]
    },
    {
      "cell_type": "markdown",
      "source": [
        "#B: ASSESS TRAINED MODEL PERFORMANCE (VGG)"
      ],
      "metadata": {
        "id": "xcNTLPNsjo1g"
      }
    },
    {
      "cell_type": "code",
      "source": [
        "# make prediction\n",
        "\n",
        "test_predict = model.predict(test_generator, steps = test_generator.n // 16, verbose =1)"
      ],
      "metadata": {
        "colab": {
          "base_uri": "https://localhost:8080/"
        },
        "id": "hsiWDsJjhHRQ",
        "outputId": "8a930310-7caa-4cda-93e6-6ef411762178"
      },
      "execution_count": null,
      "outputs": [
        {
          "output_type": "stream",
          "name": "stdout",
          "text": [
            "36/36 [==============================] - 3s 76ms/step\n"
          ]
        }
      ]
    },
    {
      "cell_type": "code",
      "source": [
        "test_predict.shape"
      ],
      "metadata": {
        "colab": {
          "base_uri": "https://localhost:8080/"
        },
        "id": "ttCWXdvlk1Hu",
        "outputId": "78959d8f-6224-4735-b660-ec7784d03172"
      },
      "execution_count": null,
      "outputs": [
        {
          "output_type": "execute_result",
          "data": {
            "text/plain": [
              "(576, 2)"
            ]
          },
          "metadata": {},
          "execution_count": 95
        }
      ]
    },
    {
      "cell_type": "code",
      "source": [
        "# Obtain the predicted class from the model prediction\n",
        "\n",
        "predict = []\n",
        "\n",
        "for i in test_predict:\n",
        "  predict.append(str(np.argmax(i)))\n",
        "\n",
        "predict = np.asarray(predict)"
      ],
      "metadata": {
        "id": "3rm_S45xk8iZ"
      },
      "execution_count": null,
      "outputs": []
    },
    {
      "cell_type": "code",
      "source": [
        "predict"
      ],
      "metadata": {
        "colab": {
          "base_uri": "https://localhost:8080/"
        },
        "id": "QDR2t10rlFzz",
        "outputId": "65712e4a-b950-403d-c4fb-950a2c1369ae"
      },
      "execution_count": null,
      "outputs": [
        {
          "output_type": "execute_result",
          "data": {
            "text/plain": [
              "array(['1', '0', '0', '0', '0', '1', '1', '0', '0', '0', '0', '0', '1',\n",
              "       '0', '0', '0', '1', '1', '0', '1', '0', '1', '1', '1', '0', '1',\n",
              "       '0', '1', '1', '1', '0', '1', '0', '1', '0', '0', '0', '0', '1',\n",
              "       '0', '0', '1', '1', '0', '0', '1', '0', '0', '1', '0', '0', '0',\n",
              "       '0', '1', '0', '1', '0', '1', '1', '0', '0', '0', '0', '1', '0',\n",
              "       '0', '0', '0', '1', '0', '0', '0', '0', '1', '1', '0', '0', '0',\n",
              "       '1', '1', '0', '0', '1', '0', '1', '1', '1', '0', '1', '0', '1',\n",
              "       '0', '0', '1', '0', '1', '1', '0', '0', '0', '0', '0', '0', '0',\n",
              "       '0', '0', '0', '1', '0', '0', '1', '0', '0', '1', '0', '0', '0',\n",
              "       '0', '1', '0', '1', '1', '1', '0', '0', '1', '1', '1', '0', '0',\n",
              "       '0', '1', '1', '1', '1', '0', '0', '1', '1', '0', '0', '0', '0',\n",
              "       '0', '1', '0', '1', '1', '0', '1', '1', '0', '0', '1', '0', '1',\n",
              "       '0', '0', '0', '0', '0', '0', '1', '0', '0', '1', '1', '1', '0',\n",
              "       '0', '0', '1', '0', '0', '0', '0', '0', '1', '0', '0', '1', '1',\n",
              "       '0', '0', '0', '1', '1', '1', '0', '0', '1', '0', '0', '1', '0',\n",
              "       '1', '0', '0', '0', '0', '0', '1', '0', '0', '1', '1', '0', '1',\n",
              "       '1', '0', '0', '1', '1', '0', '0', '1', '1', '0', '0', '0', '1',\n",
              "       '0', '1', '0', '1', '0', '0', '0', '0', '0', '0', '0', '1', '0',\n",
              "       '1', '1', '0', '0', '1', '1', '0', '0', '0', '0', '1', '0', '0',\n",
              "       '1', '0', '0', '0', '0', '0', '0', '0', '1', '1', '0', '0', '0',\n",
              "       '1', '0', '0', '1', '0', '1', '1', '0', '0', '0', '0', '1', '1',\n",
              "       '1', '0', '1', '1', '0', '0', '0', '1', '1', '1', '0', '0', '0',\n",
              "       '0', '0', '0', '1', '1', '0', '0', '0', '1', '1', '0', '0', '1',\n",
              "       '0', '0', '0', '0', '0', '1', '0', '0', '0', '1', '0', '0', '0',\n",
              "       '1', '0', '0', '0', '0', '1', '1', '0', '1', '0', '0', '1', '1',\n",
              "       '1', '0', '0', '0', '0', '1', '0', '1', '0', '1', '0', '0', '0',\n",
              "       '0', '0', '1', '1', '0', '0', '0', '1', '1', '0', '0', '0', '1',\n",
              "       '0', '1', '0', '0', '0', '0', '0', '0', '1', '0', '0', '0', '0',\n",
              "       '0', '0', '0', '1', '0', '0', '0', '0', '1', '1', '1', '1', '0',\n",
              "       '0', '0', '0', '0', '0', '0', '0', '1', '1', '0', '1', '1', '0',\n",
              "       '1', '1', '1', '0', '0', '0', '1', '1', '0', '1', '0', '1', '0',\n",
              "       '0', '1', '0', '1', '0', '0', '0', '0', '0', '1', '1', '1', '0',\n",
              "       '0', '0', '1', '0', '1', '1', '1', '0', '0', '0', '1', '0', '0',\n",
              "       '0', '1', '0', '1', '1', '1', '1', '0', '0', '0', '1', '0', '1',\n",
              "       '0', '1', '0', '0', '0', '1', '0', '0', '1', '0', '0', '0', '0',\n",
              "       '1', '1', '1', '0', '0', '0', '0', '0', '0', '0', '0', '0', '1',\n",
              "       '0', '0', '0', '0', '0', '0', '0', '0', '1', '1', '0', '0', '0',\n",
              "       '1', '0', '0', '1', '0', '0', '1', '0', '0', '0', '0', '0', '0',\n",
              "       '0', '0', '0', '0', '1', '0', '1', '1', '1', '0', '1', '1', '0',\n",
              "       '0', '0', '1', '0', '1', '0', '1', '0', '0', '0', '0', '1', '0',\n",
              "       '1', '0', '0', '1', '1', '0', '0', '0', '1', '0', '1', '0', '0',\n",
              "       '0', '0', '1', '0', '0', '1', '1', '1', '0', '1', '0', '1', '0',\n",
              "       '0', '1', '0', '1', '0', '1', '1', '0', '0', '1', '1', '1', '1',\n",
              "       '0', '0', '1', '0', '0', '0', '0', '0', '1', '1', '0', '0', '0',\n",
              "       '1', '0', '0', '0'], dtype='<U1')"
            ]
          },
          "metadata": {},
          "execution_count": 97
        }
      ]
    },
    {
      "cell_type": "code",
      "source": [
        "# since we have used test generator, it limited the images to len(predict), due to batch size\n",
        "\n",
        "original = np.asarray(test['mask'])[:len(predict)]\n",
        "len(original)"
      ],
      "metadata": {
        "colab": {
          "base_uri": "https://localhost:8080/"
        },
        "id": "sZkKlpIssi2e",
        "outputId": "f5512124-8523-490d-fe35-0c866a166076"
      },
      "execution_count": null,
      "outputs": [
        {
          "output_type": "execute_result",
          "data": {
            "text/plain": [
              "576"
            ]
          },
          "metadata": {},
          "execution_count": 99
        }
      ]
    },
    {
      "cell_type": "code",
      "source": [
        "# Obtain the accuracy of the model\n",
        "\n",
        "from sklearn.metrics import accuracy_score\n",
        "\n",
        "accuracy = accuracy_score(original, predict)\n",
        "\n",
        "print(\"Model Accuracy: \", accuracy)"
      ],
      "metadata": {
        "colab": {
          "base_uri": "https://localhost:8080/"
        },
        "id": "hTAbR77-slOR",
        "outputId": "eacd293a-45d5-4322-b2a9-956c5797fbe0"
      },
      "execution_count": null,
      "outputs": [
        {
          "output_type": "stream",
          "name": "stdout",
          "text": [
            "Model Accuracy:  0.8177083333333334\n"
          ]
        }
      ]
    },
    {
      "cell_type": "code",
      "source": [
        "# Classification Report\n",
        "\n",
        "from sklearn.metrics import classification_report\n",
        "\n",
        "report = classification_report(original, predict, labels = [0,1])\n",
        "print(report)"
      ],
      "metadata": {
        "colab": {
          "base_uri": "https://localhost:8080/"
        },
        "id": "OoB-QSs9ss1N",
        "outputId": "0cb00084-ab5e-45bf-cb2c-b624c037d4e6"
      },
      "execution_count": null,
      "outputs": [
        {
          "output_type": "stream",
          "name": "stdout",
          "text": [
            "              precision    recall  f1-score   support\n",
            "\n",
            "           0       0.88      0.84      0.86       379\n",
            "           1       0.72      0.77      0.74       197\n",
            "\n",
            "   micro avg       0.82      0.82      0.82       576\n",
            "   macro avg       0.80      0.81      0.80       576\n",
            "weighted avg       0.82      0.82      0.82       576\n",
            "\n"
          ]
        },
        {
          "output_type": "stream",
          "name": "stderr",
          "text": [
            "/usr/local/lib/python3.10/dist-packages/numpy/lib/arraysetops.py:608: FutureWarning:\n",
            "\n",
            "elementwise comparison failed; returning scalar instead, but in the future will perform elementwise comparison\n",
            "\n",
            "/usr/local/lib/python3.10/dist-packages/numpy/lib/arraysetops.py:608: FutureWarning:\n",
            "\n",
            "elementwise comparison failed; returning scalar instead, but in the future will perform elementwise comparison\n",
            "\n",
            "/usr/local/lib/python3.10/dist-packages/numpy/lib/arraysetops.py:608: FutureWarning:\n",
            "\n",
            "elementwise comparison failed; returning scalar instead, but in the future will perform elementwise comparison\n",
            "\n",
            "/usr/local/lib/python3.10/dist-packages/numpy/lib/arraysetops.py:608: FutureWarning:\n",
            "\n",
            "elementwise comparison failed; returning scalar instead, but in the future will perform elementwise comparison\n",
            "\n"
          ]
        }
      ]
    },
    {
      "cell_type": "code",
      "source": [
        "from sklearn.metrics import confusion_matrix\n",
        "\n",
        "# Calculate the confusion matrix\n",
        "cm = confusion_matrix(original, predict)\n",
        "\n",
        "# Define class labels\n",
        "class_labels = [\"(0, 'No')\", \"(1, 'Yes')\"]\n",
        "\n",
        "# Create a figure and axis for the confusion matrix\n",
        "plt.figure(figsize=(4, 4))\n",
        "sns.heatmap(cm, annot=True, fmt='d', cmap='Blues', xticklabels=class_labels, yticklabels=class_labels)\n",
        "\n",
        "# Add labels and title\n",
        "plt.xlabel('Predicted')\n",
        "plt.ylabel('Actual')\n",
        "plt.title('Confusion Matrix')\n",
        "\n",
        "plt.show()"
      ],
      "metadata": {
        "colab": {
          "base_uri": "https://localhost:8080/",
          "height": 410
        },
        "id": "Thu9mGWQ26Tv",
        "outputId": "9ceb7095-46ee-4218-fd83-c53ce921353d"
      },
      "execution_count": null,
      "outputs": [
        {
          "output_type": "display_data",
          "data": {
            "text/plain": [
              "<Figure size 400x400 with 2 Axes>"
            ],
            "image/png": "[encoded data removed]"
          },
          "metadata": {}
        }
      ]
    },
    {
      "cell_type": "code",
      "source": [],
      "metadata": {
        "id": "fUHfPmOCX6Ef"
      },
      "execution_count": null,
      "outputs": []
    },
    {
      "cell_type": "code",
      "source": [
        "import matplotlib.pyplot as plt\n",
        "import numpy as np\n",
        "\n",
        "# Results for VGG\n",
        "vgg_paper_accuracy = [0.96, 0, 0.98, 0.89, 0]  # Replace with the actual values from the papers\n",
        "vgg_paper_f1 = [0.97, 0, 0.99, 0.87, 0]  # Replace with the actual values from the papers\n",
        "your_vgg_accuracy = 0.88  # Replace with the actual value from your project\n",
        "your_vgg_f1 = 0.88  # Replace with the actual value from your project\n",
        "\n",
        "# Results for ResNet\n",
        "resnet_paper_accuracy = [0.89, 0.98, 0.99, 0, 0.86]  # Replace with the actual values from the papers\n",
        "resnet_paper_f1 = [0.90, 0.96, 0.99, 0, 0]  # Replace with the actual values from the papers\n",
        "your_resnet_accuracy = 0.98  # Replace with the actual value from your project\n",
        "your_resnet_f1 = 0.99  # Replace with the actual value from your project\n",
        "\n",
        "models = ['Haitham [1]', 'Anjaneya [2]', 'Mahcene [3]', 'Nazreth [4]', 'Lamia [5]', 'My Project']\n",
        "\n",
        "# Bar chart for VGG\n",
        "plt.figure(figsize=(8, 4))\n",
        "bar_width = 0.2\n",
        "index = np.arange(len(models))\n",
        "\n",
        "plt.bar(index, vgg_paper_accuracy + [your_vgg_accuracy], width=bar_width, label='Accuracy')\n",
        "plt.bar(index + bar_width, vgg_paper_f1 + [your_vgg_f1], width=bar_width, label='F1-Score', alpha=0.9)\n",
        "\n",
        "plt.xlabel('Papers')\n",
        "plt.ylabel('Percentage')\n",
        "plt.title('VGG Performance Comparison')\n",
        "plt.xticks(index + bar_width / 2, models)\n",
        "plt.legend(loc='lower right', fontsize='small')\n",
        "plt.show()\n",
        "\n",
        "# Bar chart for ResNet\n",
        "plt.figure(figsize=(8, 4))\n",
        "bar_width = 0.2\n",
        "index = np.arange(len(models))\n",
        "\n",
        "plt.bar(index, resnet_paper_accuracy + [your_resnet_accuracy], width=bar_width, label='Accuracy')\n",
        "plt.bar(index + bar_width, resnet_paper_f1 + [your_resnet_f1], width=bar_width, label='F1-Score', alpha=0.9)\n",
        "\n",
        "plt.xlabel('Papers')\n",
        "plt.ylabel('Percentage')\n",
        "plt.title('ResNet Performance Comparison')\n",
        "plt.xticks(index + bar_width / 2, models)\n",
        "plt.legend(loc='lower left', fontsize='small')\n",
        "plt.show()\n"
      ],
      "metadata": {
        "id": "zlsGvygkijwv",
        "colab": {
          "base_uri": "https://localhost:8080/",
          "height": 803
        },
        "outputId": "eee5c146-e27a-4eea-c65d-4107690670a2"
      },
      "execution_count": null,
      "outputs": [
        {
          "output_type": "display_data",
          "data": {
            "text/plain": [
              "<Figure size 800x400 with 1 Axes>"
            ],
            "image/png": "[encoded data removed]"
          },
          "metadata": {}
        },
        {
          "output_type": "display_data",
          "data": {
            "text/plain": [
              "<Figure size 800x400 with 1 Axes>"
            ],
            "image/png": "[encoded data removed]"
          },
          "metadata": {}
        }
      ]
    }
  ]
}